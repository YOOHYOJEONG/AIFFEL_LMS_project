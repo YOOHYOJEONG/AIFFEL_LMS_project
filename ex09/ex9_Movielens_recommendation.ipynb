{
 "cells": [
  {
   "cell_type": "markdown",
   "id": "employed-situation",
   "metadata": {},
   "source": [
    "# 영화 추천 시스템 프로젝트\n",
    "\n",
    "## - 목차\n",
    "\n",
    "1. 데이터 준비 및 전처리\n",
    "2. 내가 선호하는 영화 추가\n",
    "3. 모델에 활용하기 위한 전처리\n",
    "4. CSR Matrix 생성\n",
    "5. 모델 훈련\n",
    "6. 모델 예측\n",
    "7. 영화 추천\n",
    "- 프로젝트 정리"
   ]
  },
  {
   "cell_type": "markdown",
   "id": "after-atlanta",
   "metadata": {},
   "source": [
    "## 1. 데이터 준비 및 전처리"
   ]
  },
  {
   "cell_type": "code",
   "execution_count": 1,
   "id": "sudden-style",
   "metadata": {},
   "outputs": [
    {
     "data": {
      "text/html": [
       "<div>\n",
       "<style scoped>\n",
       "    .dataframe tbody tr th:only-of-type {\n",
       "        vertical-align: middle;\n",
       "    }\n",
       "\n",
       "    .dataframe tbody tr th {\n",
       "        vertical-align: top;\n",
       "    }\n",
       "\n",
       "    .dataframe thead th {\n",
       "        text-align: right;\n",
       "    }\n",
       "</style>\n",
       "<table border=\"1\" class=\"dataframe\">\n",
       "  <thead>\n",
       "    <tr style=\"text-align: right;\">\n",
       "      <th></th>\n",
       "      <th>user_id</th>\n",
       "      <th>movie_id</th>\n",
       "      <th>rating</th>\n",
       "      <th>timestamp</th>\n",
       "    </tr>\n",
       "  </thead>\n",
       "  <tbody>\n",
       "    <tr>\n",
       "      <th>0</th>\n",
       "      <td>1</td>\n",
       "      <td>1193</td>\n",
       "      <td>5</td>\n",
       "      <td>978300760</td>\n",
       "    </tr>\n",
       "    <tr>\n",
       "      <th>1</th>\n",
       "      <td>1</td>\n",
       "      <td>661</td>\n",
       "      <td>3</td>\n",
       "      <td>978302109</td>\n",
       "    </tr>\n",
       "    <tr>\n",
       "      <th>2</th>\n",
       "      <td>1</td>\n",
       "      <td>914</td>\n",
       "      <td>3</td>\n",
       "      <td>978301968</td>\n",
       "    </tr>\n",
       "    <tr>\n",
       "      <th>3</th>\n",
       "      <td>1</td>\n",
       "      <td>3408</td>\n",
       "      <td>4</td>\n",
       "      <td>978300275</td>\n",
       "    </tr>\n",
       "    <tr>\n",
       "      <th>4</th>\n",
       "      <td>1</td>\n",
       "      <td>2355</td>\n",
       "      <td>5</td>\n",
       "      <td>978824291</td>\n",
       "    </tr>\n",
       "  </tbody>\n",
       "</table>\n",
       "</div>"
      ],
      "text/plain": [
       "   user_id  movie_id  rating  timestamp\n",
       "0        1      1193       5  978300760\n",
       "1        1       661       3  978302109\n",
       "2        1       914       3  978301968\n",
       "3        1      3408       4  978300275\n",
       "4        1      2355       5  978824291"
      ]
     },
     "execution_count": 1,
     "metadata": {},
     "output_type": "execute_result"
    }
   ],
   "source": [
    "import pandas as pd\n",
    "import os\n",
    "\n",
    "#영화 평점 파일 로드\n",
    "rating_file_path=os.getenv('HOME') + '/aiffel/recommendata_iu/data/ml-1m/ratings.dat'\n",
    "ratings_cols = ['user_id', 'movie_id', 'rating', 'timestamp']\n",
    "ratings = pd.read_csv(rating_file_path, sep='::', names=ratings_cols, engine='python', encoding = \"ISO-8859-1\")\n",
    "orginal_data_size = len(ratings)\n",
    "ratings.head()"
   ]
  },
  {
   "cell_type": "code",
   "execution_count": 2,
   "id": "above-injury",
   "metadata": {},
   "outputs": [
    {
     "data": {
      "text/html": [
       "<div>\n",
       "<style scoped>\n",
       "    .dataframe tbody tr th:only-of-type {\n",
       "        vertical-align: middle;\n",
       "    }\n",
       "\n",
       "    .dataframe tbody tr th {\n",
       "        vertical-align: top;\n",
       "    }\n",
       "\n",
       "    .dataframe thead th {\n",
       "        text-align: right;\n",
       "    }\n",
       "</style>\n",
       "<table border=\"1\" class=\"dataframe\">\n",
       "  <thead>\n",
       "    <tr style=\"text-align: right;\">\n",
       "      <th></th>\n",
       "      <th>movie_id</th>\n",
       "      <th>title</th>\n",
       "      <th>genre</th>\n",
       "    </tr>\n",
       "  </thead>\n",
       "  <tbody>\n",
       "    <tr>\n",
       "      <th>0</th>\n",
       "      <td>1</td>\n",
       "      <td>Toy Story (1995)</td>\n",
       "      <td>Animation|Children's|Comedy</td>\n",
       "    </tr>\n",
       "    <tr>\n",
       "      <th>1</th>\n",
       "      <td>2</td>\n",
       "      <td>Jumanji (1995)</td>\n",
       "      <td>Adventure|Children's|Fantasy</td>\n",
       "    </tr>\n",
       "    <tr>\n",
       "      <th>2</th>\n",
       "      <td>3</td>\n",
       "      <td>Grumpier Old Men (1995)</td>\n",
       "      <td>Comedy|Romance</td>\n",
       "    </tr>\n",
       "    <tr>\n",
       "      <th>3</th>\n",
       "      <td>4</td>\n",
       "      <td>Waiting to Exhale (1995)</td>\n",
       "      <td>Comedy|Drama</td>\n",
       "    </tr>\n",
       "    <tr>\n",
       "      <th>4</th>\n",
       "      <td>5</td>\n",
       "      <td>Father of the Bride Part II (1995)</td>\n",
       "      <td>Comedy</td>\n",
       "    </tr>\n",
       "  </tbody>\n",
       "</table>\n",
       "</div>"
      ],
      "text/plain": [
       "   movie_id                               title                         genre\n",
       "0         1                    Toy Story (1995)   Animation|Children's|Comedy\n",
       "1         2                      Jumanji (1995)  Adventure|Children's|Fantasy\n",
       "2         3             Grumpier Old Men (1995)                Comedy|Romance\n",
       "3         4            Waiting to Exhale (1995)                  Comedy|Drama\n",
       "4         5  Father of the Bride Part II (1995)                        Comedy"
      ]
     },
     "execution_count": 2,
     "metadata": {},
     "output_type": "execute_result"
    }
   ],
   "source": [
    "#영화 제목 파일 로드\n",
    "movie_file_path=os.getenv('HOME') + '/aiffel/recommendata_iu/data/ml-1m/movies.dat'\n",
    "cols = ['movie_id', 'title', 'genre'] \n",
    "movies = pd.read_csv(movie_file_path, sep='::', names=cols, engine='python', encoding='ISO-8859-1')\n",
    "movies.head()"
   ]
  },
  {
   "cell_type": "code",
   "execution_count": 3,
   "id": "burning-finding",
   "metadata": {},
   "outputs": [
    {
     "name": "stdout",
     "output_type": "stream",
     "text": [
      "orginal_data_size: 1000209, filtered_data_size: 836478\n",
      "Ratio of Remaining Data is 83.63%\n"
     ]
    }
   ],
   "source": [
    "#평점 3점 이상만 남김\n",
    "ratings = ratings[ratings['rating']>=3]\n",
    "filtered_data_size = len(ratings)\n",
    "\n",
    "print(f'orginal_data_size: {orginal_data_size}, filtered_data_size: {filtered_data_size}')\n",
    "print(f'Ratio of Remaining Data is {filtered_data_size / orginal_data_size:.2%}')"
   ]
  },
  {
   "cell_type": "code",
   "execution_count": 4,
   "id": "amazing-terminal",
   "metadata": {},
   "outputs": [],
   "source": [
    "#rating 컬럼의 이름을 count로 변경\n",
    "#ratings.rename(columns={'rating':'count'}, inplace=True)\n",
    "#ratings['count']"
   ]
  },
  {
   "cell_type": "markdown",
   "id": "republican-fortune",
   "metadata": {},
   "source": [
    "- 노드에서는 위의 코드를 실행했는데, 평점을 왜 count로 바꾸는지 이해가 되지 않았다.\n",
    "- count라는 변수명은 영화를 시청한 횟수를 의미하는 것 같은데 해당 칼럼의 값의 최대값이 5이고, 시청한 횟수를 5번으로 제한하는 것 보다 평점을 최대 5점으로 하는 것이 더 자연스럽다고 판단했다.\n",
    "- 때문에 노드에서는 rating을 count로 바꾸었지만 나는 그대로 rating으로 두고 해당 칼럼의 의미를 평점으로 두고 진행을 했다."
   ]
  },
  {
   "cell_type": "code",
   "execution_count": 5,
   "id": "streaming-physics",
   "metadata": {},
   "outputs": [
    {
     "data": {
      "text/plain": [
       "3628"
      ]
     },
     "execution_count": 5,
     "metadata": {},
     "output_type": "execute_result"
    }
   ],
   "source": [
    "#ratings에서 유니크한 영화 개수\n",
    "ratings['movie_id'].nunique()"
   ]
  },
  {
   "cell_type": "code",
   "execution_count": 6,
   "id": "invisible-queens",
   "metadata": {},
   "outputs": [
    {
     "data": {
      "text/plain": [
       "6039"
      ]
     },
     "execution_count": 6,
     "metadata": {},
     "output_type": "execute_result"
    }
   ],
   "source": [
    "#ratings에서 유니크한 사용자 수\n",
    "ratings['user_id'].nunique()"
   ]
  },
  {
   "cell_type": "code",
   "execution_count": 7,
   "id": "external-piece",
   "metadata": {},
   "outputs": [
    {
     "data": {
      "text/plain": [
       "3883"
      ]
     },
     "execution_count": 7,
     "metadata": {},
     "output_type": "execute_result"
    }
   ],
   "source": [
    "#ratings에서 유니크한 영화 제목 수 \n",
    "movies['title'].nunique()"
   ]
  },
  {
   "cell_type": "code",
   "execution_count": 8,
   "id": "split-stationery",
   "metadata": {},
   "outputs": [
    {
     "data": {
      "text/html": [
       "<div>\n",
       "<style scoped>\n",
       "    .dataframe tbody tr th:only-of-type {\n",
       "        vertical-align: middle;\n",
       "    }\n",
       "\n",
       "    .dataframe tbody tr th {\n",
       "        vertical-align: top;\n",
       "    }\n",
       "\n",
       "    .dataframe thead th {\n",
       "        text-align: right;\n",
       "    }\n",
       "</style>\n",
       "<table border=\"1\" class=\"dataframe\">\n",
       "  <thead>\n",
       "    <tr style=\"text-align: right;\">\n",
       "      <th></th>\n",
       "      <th>user_id</th>\n",
       "      <th>movie_id</th>\n",
       "      <th>rating</th>\n",
       "      <th>timestamp</th>\n",
       "      <th>title</th>\n",
       "      <th>genre</th>\n",
       "    </tr>\n",
       "  </thead>\n",
       "  <tbody>\n",
       "    <tr>\n",
       "      <th>0</th>\n",
       "      <td>1</td>\n",
       "      <td>1193</td>\n",
       "      <td>5</td>\n",
       "      <td>978300760</td>\n",
       "      <td>One Flew Over the Cuckoo's Nest (1975)</td>\n",
       "      <td>Drama</td>\n",
       "    </tr>\n",
       "    <tr>\n",
       "      <th>1</th>\n",
       "      <td>1</td>\n",
       "      <td>661</td>\n",
       "      <td>3</td>\n",
       "      <td>978302109</td>\n",
       "      <td>James and the Giant Peach (1996)</td>\n",
       "      <td>Animation|Children's|Musical</td>\n",
       "    </tr>\n",
       "    <tr>\n",
       "      <th>2</th>\n",
       "      <td>1</td>\n",
       "      <td>914</td>\n",
       "      <td>3</td>\n",
       "      <td>978301968</td>\n",
       "      <td>My Fair Lady (1964)</td>\n",
       "      <td>Musical|Romance</td>\n",
       "    </tr>\n",
       "    <tr>\n",
       "      <th>3</th>\n",
       "      <td>1</td>\n",
       "      <td>3408</td>\n",
       "      <td>4</td>\n",
       "      <td>978300275</td>\n",
       "      <td>Erin Brockovich (2000)</td>\n",
       "      <td>Drama</td>\n",
       "    </tr>\n",
       "    <tr>\n",
       "      <th>4</th>\n",
       "      <td>1</td>\n",
       "      <td>2355</td>\n",
       "      <td>5</td>\n",
       "      <td>978824291</td>\n",
       "      <td>Bug's Life, A (1998)</td>\n",
       "      <td>Animation|Children's|Comedy</td>\n",
       "    </tr>\n",
       "  </tbody>\n",
       "</table>\n",
       "</div>"
      ],
      "text/plain": [
       "   user_id  movie_id  rating  timestamp  \\\n",
       "0        1      1193       5  978300760   \n",
       "1        1       661       3  978302109   \n",
       "2        1       914       3  978301968   \n",
       "3        1      3408       4  978300275   \n",
       "4        1      2355       5  978824291   \n",
       "\n",
       "                                    title                         genre  \n",
       "0  One Flew Over the Cuckoo's Nest (1975)                         Drama  \n",
       "1        James and the Giant Peach (1996)  Animation|Children's|Musical  \n",
       "2                     My Fair Lady (1964)               Musical|Romance  \n",
       "3                  Erin Brockovich (2000)                         Drama  \n",
       "4                    Bug's Life, A (1998)   Animation|Children's|Comedy  "
      ]
     },
     "execution_count": 8,
     "metadata": {},
     "output_type": "execute_result"
    }
   ],
   "source": [
    "#평점과 제목 데이터프레임 합치기\n",
    "movie_data = pd.merge(ratings, movies, how = 'left', on = 'movie_id')\n",
    "movie_data.head()"
   ]
  },
  {
   "cell_type": "code",
   "execution_count": 9,
   "id": "rural-newton",
   "metadata": {},
   "outputs": [
    {
     "data": {
      "text/html": [
       "<div>\n",
       "<style scoped>\n",
       "    .dataframe tbody tr th:only-of-type {\n",
       "        vertical-align: middle;\n",
       "    }\n",
       "\n",
       "    .dataframe tbody tr th {\n",
       "        vertical-align: top;\n",
       "    }\n",
       "\n",
       "    .dataframe thead th {\n",
       "        text-align: right;\n",
       "    }\n",
       "</style>\n",
       "<table border=\"1\" class=\"dataframe\">\n",
       "  <thead>\n",
       "    <tr style=\"text-align: right;\">\n",
       "      <th></th>\n",
       "      <th>user_id</th>\n",
       "      <th>rating</th>\n",
       "      <th>title</th>\n",
       "    </tr>\n",
       "  </thead>\n",
       "  <tbody>\n",
       "    <tr>\n",
       "      <th>0</th>\n",
       "      <td>1</td>\n",
       "      <td>5</td>\n",
       "      <td>One Flew Over the Cuckoo's Nest (1975)</td>\n",
       "    </tr>\n",
       "    <tr>\n",
       "      <th>1</th>\n",
       "      <td>1</td>\n",
       "      <td>3</td>\n",
       "      <td>James and the Giant Peach (1996)</td>\n",
       "    </tr>\n",
       "    <tr>\n",
       "      <th>2</th>\n",
       "      <td>1</td>\n",
       "      <td>3</td>\n",
       "      <td>My Fair Lady (1964)</td>\n",
       "    </tr>\n",
       "    <tr>\n",
       "      <th>3</th>\n",
       "      <td>1</td>\n",
       "      <td>4</td>\n",
       "      <td>Erin Brockovich (2000)</td>\n",
       "    </tr>\n",
       "    <tr>\n",
       "      <th>4</th>\n",
       "      <td>1</td>\n",
       "      <td>5</td>\n",
       "      <td>Bug's Life, A (1998)</td>\n",
       "    </tr>\n",
       "  </tbody>\n",
       "</table>\n",
       "</div>"
      ],
      "text/plain": [
       "   user_id  rating                                   title\n",
       "0        1       5  One Flew Over the Cuckoo's Nest (1975)\n",
       "1        1       3        James and the Giant Peach (1996)\n",
       "2        1       3                     My Fair Lady (1964)\n",
       "3        1       4                  Erin Brockovich (2000)\n",
       "4        1       5                    Bug's Life, A (1998)"
      ]
     },
     "execution_count": 9,
     "metadata": {},
     "output_type": "execute_result"
    }
   ],
   "source": [
    "#사용하지 않는 컬럼 제거\n",
    "movie_data = movie_data.drop(columns=['timestamp', 'genre','movie_id'])\n",
    "movie_data.head()"
   ]
  },
  {
   "cell_type": "code",
   "execution_count": 10,
   "id": "genuine-ethics",
   "metadata": {},
   "outputs": [
    {
     "data": {
      "text/plain": [
       "title\n",
       "American Beauty (1999)                                   3211\n",
       "Star Wars: Episode IV - A New Hope (1977)                2910\n",
       "Star Wars: Episode V - The Empire Strikes Back (1980)    2885\n",
       "Star Wars: Episode VI - Return of the Jedi (1983)        2716\n",
       "Saving Private Ryan (1998)                               2561\n",
       "Terminator 2: Judgment Day (1991)                        2509\n",
       "Silence of the Lambs, The (1991)                         2498\n",
       "Raiders of the Lost Ark (1981)                           2473\n",
       "Back to the Future (1985)                                2460\n",
       "Matrix, The (1999)                                       2434\n",
       "Jurassic Park (1993)                                     2413\n",
       "Sixth Sense, The (1999)                                  2385\n",
       "Fargo (1996)                                             2371\n",
       "Braveheart (1995)                                        2314\n",
       "Men in Black (1997)                                      2297\n",
       "Schindler's List (1993)                                  2257\n",
       "Princess Bride, The (1987)                               2252\n",
       "Shakespeare in Love (1998)                               2213\n",
       "L.A. Confidential (1997)                                 2210\n",
       "Shawshank Redemption, The (1994)                         2194\n",
       "Godfather, The (1972)                                    2167\n",
       "Groundhog Day (1993)                                     2121\n",
       "E.T. the Extra-Terrestrial (1982)                        2102\n",
       "Being John Malkovich (1999)                              2066\n",
       "Ghostbusters (1984)                                      2051\n",
       "Pulp Fiction (1994)                                      2030\n",
       "Forrest Gump (1994)                                      2022\n",
       "Terminator, The (1984)                                   2019\n",
       "Toy Story (1995)                                         2000\n",
       "Fugitive, The (1993)                                     1941\n",
       "Name: user_id, dtype: int64"
      ]
     },
     "execution_count": 10,
     "metadata": {},
     "output_type": "execute_result"
    }
   ],
   "source": [
    "#가장 인기있는 영화 30개(인기순)\n",
    "movie_count = movie_data.groupby('title')['user_id'].count()\n",
    "movie_count.sort_values(ascending=False).head(30)"
   ]
  },
  {
   "cell_type": "code",
   "execution_count": 11,
   "id": "functional-capitol",
   "metadata": {},
   "outputs": [
    {
     "data": {
      "text/plain": [
       "count    6039.000000\n",
       "mean      138.512668\n",
       "std       156.241599\n",
       "min         1.000000\n",
       "25%        38.000000\n",
       "50%        81.000000\n",
       "75%       177.000000\n",
       "max      1968.000000\n",
       "Name: title, dtype: float64"
      ]
     },
     "execution_count": 11,
     "metadata": {},
     "output_type": "execute_result"
    }
   ],
   "source": [
    "#유저 별 본 영화 편 수 통계\n",
    "user_count = movie_data.groupby('user_id')['title'].count()\n",
    "user_count.describe()"
   ]
  },
  {
   "cell_type": "markdown",
   "id": "associate-entrepreneur",
   "metadata": {},
   "source": [
    "## 2. 내가 선호하는 영화 추가"
   ]
  },
  {
   "cell_type": "code",
   "execution_count": 16,
   "id": "theoretical-average",
   "metadata": {},
   "outputs": [
    {
     "data": {
      "text/html": [
       "<div>\n",
       "<style scoped>\n",
       "    .dataframe tbody tr th:only-of-type {\n",
       "        vertical-align: middle;\n",
       "    }\n",
       "\n",
       "    .dataframe tbody tr th {\n",
       "        vertical-align: top;\n",
       "    }\n",
       "\n",
       "    .dataframe thead th {\n",
       "        text-align: right;\n",
       "    }\n",
       "</style>\n",
       "<table border=\"1\" class=\"dataframe\">\n",
       "  <thead>\n",
       "    <tr style=\"text-align: right;\">\n",
       "      <th></th>\n",
       "      <th>user_id</th>\n",
       "      <th>rating</th>\n",
       "      <th>title</th>\n",
       "    </tr>\n",
       "  </thead>\n",
       "  <tbody>\n",
       "    <tr>\n",
       "      <th>836473</th>\n",
       "      <td>6040</td>\n",
       "      <td>3</td>\n",
       "      <td>Platoon (1986)</td>\n",
       "    </tr>\n",
       "    <tr>\n",
       "      <th>836474</th>\n",
       "      <td>6040</td>\n",
       "      <td>5</td>\n",
       "      <td>Crying Game, The (1992)</td>\n",
       "    </tr>\n",
       "    <tr>\n",
       "      <th>836475</th>\n",
       "      <td>6040</td>\n",
       "      <td>5</td>\n",
       "      <td>Welcome to the Dollhouse (1995)</td>\n",
       "    </tr>\n",
       "    <tr>\n",
       "      <th>836476</th>\n",
       "      <td>6040</td>\n",
       "      <td>4</td>\n",
       "      <td>Sophie's Choice (1982)</td>\n",
       "    </tr>\n",
       "    <tr>\n",
       "      <th>836477</th>\n",
       "      <td>6040</td>\n",
       "      <td>4</td>\n",
       "      <td>E.T. the Extra-Terrestrial (1982)</td>\n",
       "    </tr>\n",
       "    <tr>\n",
       "      <th>0</th>\n",
       "      <td>hyojeong</td>\n",
       "      <td>5</td>\n",
       "      <td>Men in Black (1997)</td>\n",
       "    </tr>\n",
       "    <tr>\n",
       "      <th>1</th>\n",
       "      <td>hyojeong</td>\n",
       "      <td>5</td>\n",
       "      <td>Contact(1997)</td>\n",
       "    </tr>\n",
       "    <tr>\n",
       "      <th>2</th>\n",
       "      <td>hyojeong</td>\n",
       "      <td>5</td>\n",
       "      <td>Terminator, The (1984)</td>\n",
       "    </tr>\n",
       "    <tr>\n",
       "      <th>3</th>\n",
       "      <td>hyojeong</td>\n",
       "      <td>5</td>\n",
       "      <td>Toy Story (1995)</td>\n",
       "    </tr>\n",
       "    <tr>\n",
       "      <th>4</th>\n",
       "      <td>hyojeong</td>\n",
       "      <td>5</td>\n",
       "      <td>Forrest Gump (1994)</td>\n",
       "    </tr>\n",
       "  </tbody>\n",
       "</table>\n",
       "</div>"
      ],
      "text/plain": [
       "         user_id  rating                              title\n",
       "836473      6040       3                     Platoon (1986)\n",
       "836474      6040       5            Crying Game, The (1992)\n",
       "836475      6040       5    Welcome to the Dollhouse (1995)\n",
       "836476      6040       4             Sophie's Choice (1982)\n",
       "836477      6040       4  E.T. the Extra-Terrestrial (1982)\n",
       "0       hyojeong       5                Men in Black (1997)\n",
       "1       hyojeong       5                      Contact(1997)\n",
       "2       hyojeong       5             Terminator, The (1984)\n",
       "3       hyojeong       5                   Toy Story (1995)\n",
       "4       hyojeong       5                Forrest Gump (1994)"
      ]
     },
     "execution_count": 16,
     "metadata": {},
     "output_type": "execute_result"
    }
   ],
   "source": [
    "#내가 좋아하는 영화 5편 리스트 만들기\n",
    "my_favorite = ['Men in Black (1997)' , 'Contact(1997)' ,'Terminator, The (1984)' ,\n",
    "               'Toy Story (1995)' ,'Forrest Gump (1994)']\n",
    "\n",
    "#user_id가 'hyojeong'인 나는 위의 5편의 영화의 평점을 모두 5점 씩 줌.\n",
    "my_rating = pd.DataFrame({'user_id' : ['hyojeong']*5, 'title' : my_favorite, 'rating' : [5]*5})\n",
    "\n",
    "#user_id에 'hyojeong'가 없으면 my_favorite 데이터를 기존 데이터에 추가 함.\n",
    "if not movie_data.isin({'user_id' : ['hyojeong']})['user_id'].any() :\n",
    "    movie_data = movie_data.append(my_rating, ignore_index = True)\n",
    "    \n",
    "movie_data.tail(10)"
   ]
  },
  {
   "cell_type": "markdown",
   "id": "further-instrument",
   "metadata": {},
   "source": [
    "## 3. 모델에 활용하기 위한 전처리"
   ]
  },
  {
   "cell_type": "code",
   "execution_count": 18,
   "id": "awful-karen",
   "metadata": {},
   "outputs": [
    {
     "name": "stdout",
     "output_type": "stream",
     "text": [
      "user_unique: [1 2 3 ... 6039 6040 'hyojeong']\n",
      "title_unique: [\"One Flew Over the Cuckoo's Nest (1975)\"\n",
      " 'James and the Giant Peach (1996)' 'My Fair Lady (1964)' ...\n",
      " 'Five Wives, Three Secretaries and Me (1998)'\n",
      " 'Identification of a Woman (Identificazione di una donna) (1982)'\n",
      " 'Contact(1997)']\n"
     ]
    }
   ],
   "source": [
    "#고유한 유저와 영화 리스트 확인\n",
    "user_unique = movie_data['user_id'].unique()\n",
    "title_unique = movie_data['title'].unique()\n",
    "\n",
    "print('user_unique:', user_unique)\n",
    "print('title_unique:', title_unique)"
   ]
  },
  {
   "cell_type": "code",
   "execution_count": 20,
   "id": "collectible-copyright",
   "metadata": {},
   "outputs": [
    {
     "name": "stdout",
     "output_type": "stream",
     "text": [
      "6039\n",
      "160\n"
     ]
    }
   ],
   "source": [
    "#유저, 타이틀 인덱싱\n",
    "user_idx = {v:k for k,v in enumerate(user_unique)}\n",
    "title_idx = {v:k for k,v in enumerate(title_unique)}\n",
    "\n",
    "#인덱싱 확인\n",
    "print(user_idx['hyojeong']) # 6040명의 유저 중 마지막으로 추가된 유저니까 6039이 나올 것. \n",
    "print(title_idx['Forrest Gump (1994)'])"
   ]
  },
  {
   "cell_type": "code",
   "execution_count": 21,
   "id": "collected-virgin",
   "metadata": {},
   "outputs": [
    {
     "name": "stdout",
     "output_type": "stream",
     "text": [
      "user_id column indexing OK!!\n",
      "title column indexing OK!!\n"
     ]
    },
    {
     "data": {
      "text/html": [
       "<div>\n",
       "<style scoped>\n",
       "    .dataframe tbody tr th:only-of-type {\n",
       "        vertical-align: middle;\n",
       "    }\n",
       "\n",
       "    .dataframe tbody tr th {\n",
       "        vertical-align: top;\n",
       "    }\n",
       "\n",
       "    .dataframe thead th {\n",
       "        text-align: right;\n",
       "    }\n",
       "</style>\n",
       "<table border=\"1\" class=\"dataframe\">\n",
       "  <thead>\n",
       "    <tr style=\"text-align: right;\">\n",
       "      <th></th>\n",
       "      <th>user_id</th>\n",
       "      <th>rating</th>\n",
       "      <th>title</th>\n",
       "    </tr>\n",
       "  </thead>\n",
       "  <tbody>\n",
       "    <tr>\n",
       "      <th>0</th>\n",
       "      <td>0</td>\n",
       "      <td>5</td>\n",
       "      <td>0</td>\n",
       "    </tr>\n",
       "    <tr>\n",
       "      <th>1</th>\n",
       "      <td>0</td>\n",
       "      <td>3</td>\n",
       "      <td>1</td>\n",
       "    </tr>\n",
       "    <tr>\n",
       "      <th>2</th>\n",
       "      <td>0</td>\n",
       "      <td>3</td>\n",
       "      <td>2</td>\n",
       "    </tr>\n",
       "    <tr>\n",
       "      <th>3</th>\n",
       "      <td>0</td>\n",
       "      <td>4</td>\n",
       "      <td>3</td>\n",
       "    </tr>\n",
       "    <tr>\n",
       "      <th>4</th>\n",
       "      <td>0</td>\n",
       "      <td>5</td>\n",
       "      <td>4</td>\n",
       "    </tr>\n",
       "    <tr>\n",
       "      <th>...</th>\n",
       "      <td>...</td>\n",
       "      <td>...</td>\n",
       "      <td>...</td>\n",
       "    </tr>\n",
       "    <tr>\n",
       "      <th>0</th>\n",
       "      <td>6039</td>\n",
       "      <td>5</td>\n",
       "      <td>175</td>\n",
       "    </tr>\n",
       "    <tr>\n",
       "      <th>1</th>\n",
       "      <td>6039</td>\n",
       "      <td>5</td>\n",
       "      <td>3628</td>\n",
       "    </tr>\n",
       "    <tr>\n",
       "      <th>2</th>\n",
       "      <td>6039</td>\n",
       "      <td>5</td>\n",
       "      <td>200</td>\n",
       "    </tr>\n",
       "    <tr>\n",
       "      <th>3</th>\n",
       "      <td>6039</td>\n",
       "      <td>5</td>\n",
       "      <td>40</td>\n",
       "    </tr>\n",
       "    <tr>\n",
       "      <th>4</th>\n",
       "      <td>6039</td>\n",
       "      <td>5</td>\n",
       "      <td>160</td>\n",
       "    </tr>\n",
       "  </tbody>\n",
       "</table>\n",
       "<p>836483 rows × 3 columns</p>\n",
       "</div>"
      ],
      "text/plain": [
       "    user_id  rating  title\n",
       "0         0       5      0\n",
       "1         0       3      1\n",
       "2         0       3      2\n",
       "3         0       4      3\n",
       "4         0       5      4\n",
       "..      ...     ...    ...\n",
       "0      6039       5    175\n",
       "1      6039       5   3628\n",
       "2      6039       5    200\n",
       "3      6039       5     40\n",
       "4      6039       5    160\n",
       "\n",
       "[836483 rows x 3 columns]"
      ]
     },
     "execution_count": 21,
     "metadata": {},
     "output_type": "execute_result"
    }
   ],
   "source": [
    "#데이터 칼럼 값을 인덱싱 값으로 변경\n",
    "\n",
    "#user_idx.get을 통해 user_id 컬럼의 모든 값을 인덱싱한 Series를 구함. \n",
    "#혹시 정상적으로 인덱싱되지 않은 row가 있다면 인덱스가 NaN이 될 테니 dropna()로 제거. \n",
    "temp_user_data = movie_data['user_id'].map(user_idx.get).dropna()\n",
    "if len(temp_user_data) == len(movie_data):   #모든 row가 정상적으로 인덱싱되었다면\n",
    "    print('user_id column indexing OK!!')\n",
    "    movie_data['user_id'] = temp_user_data   #movie_data['user_id']을 인덱싱 된 Series로 교체. \n",
    "else:\n",
    "    print('user_id column indexing Fail!!')\n",
    "\n",
    "#temp_title_data을 통해 title 컬럼도 동일한 방식으로 인덱싱. \n",
    "temp_title_data = movie_data['title'].map(title_idx.get).dropna()\n",
    "if len(temp_title_data) == len(movie_data):\n",
    "    print('title column indexing OK!!')\n",
    "    movie_data['title'] = temp_title_data\n",
    "else:\n",
    "    print('title column indexing Fail!!')\n",
    "\n",
    "movie_data"
   ]
  },
  {
   "cell_type": "markdown",
   "id": "dramatic-mailing",
   "metadata": {},
   "source": [
    "## 4. CSR Matrix 생성"
   ]
  },
  {
   "cell_type": "code",
   "execution_count": 22,
   "id": "covered-grammar",
   "metadata": {},
   "outputs": [
    {
     "data": {
      "text/plain": [
       "0    5\n",
       "1    3\n",
       "2    3\n",
       "3    4\n",
       "4    5\n",
       "    ..\n",
       "0    5\n",
       "1    5\n",
       "2    5\n",
       "3    5\n",
       "4    5\n",
       "Name: rating, Length: 836483, dtype: int64"
      ]
     },
     "execution_count": 22,
     "metadata": {},
     "output_type": "execute_result"
    }
   ],
   "source": [
    "movie_data['rating']"
   ]
  },
  {
   "cell_type": "code",
   "execution_count": 24,
   "id": "described-coordination",
   "metadata": {},
   "outputs": [
    {
     "data": {
      "text/plain": [
       "<6040x3629 sparse matrix of type '<class 'numpy.longlong'>'\n",
       "\twith 836483 stored elements in Compressed Sparse Row format>"
      ]
     },
     "execution_count": 24,
     "metadata": {},
     "output_type": "execute_result"
    }
   ],
   "source": [
    "from scipy.sparse import csr_matrix\n",
    "\n",
    "user_num = movie_data['user_id'].nunique()\n",
    "movie_num = movie_data['title'].nunique()\n",
    "\n",
    "csr_data = csr_matrix((movie_data['rating'], (movie_data.user_id, movie_data.title)), shape=(user_num, movie_num))\n",
    "csr_data"
   ]
  },
  {
   "cell_type": "markdown",
   "id": "loose-secretary",
   "metadata": {},
   "source": [
    "## 5. 모델 훈련\n",
    "- AlternatingLeastSquares 모델 생성 후 훈련"
   ]
  },
  {
   "cell_type": "code",
   "execution_count": 25,
   "id": "oriental-wilderness",
   "metadata": {},
   "outputs": [],
   "source": [
    "from implicit.als import AlternatingLeastSquares\n",
    "import os\n",
    "import numpy as np\n",
    "\n",
    "#implicit 라이브러리에서 권장하고 있는 부분이며 학습 내용과는 무관\n",
    "os.environ['OPENBLAS_NUM_THREADS']='1'\n",
    "os.environ['KMP_DUPLICATE_LIB_OK']='True'\n",
    "os.environ['MKL_NUM_THREADS']='1'"
   ]
  },
  {
   "cell_type": "code",
   "execution_count": 26,
   "id": "muslim-compromise",
   "metadata": {},
   "outputs": [],
   "source": [
    "#Implicit AlternatingLeastSquares 모델의 선언\n",
    "als_model = AlternatingLeastSquares(factors=100, regularization=0.01, use_gpu=False, iterations=15, dtype=np.float32)"
   ]
  },
  {
   "cell_type": "code",
   "execution_count": 27,
   "id": "whole-century",
   "metadata": {},
   "outputs": [
    {
     "data": {
      "text/plain": [
       "<3629x6040 sparse matrix of type '<class 'numpy.longlong'>'\n",
       "\twith 836483 stored elements in Compressed Sparse Column format>"
      ]
     },
     "execution_count": 27,
     "metadata": {},
     "output_type": "execute_result"
    }
   ],
   "source": [
    "#als 모델은 input으로 item X user 꼴의 matrix를 받기 때문에 Transpose 해 줌.\n",
    "csr_data_transpose = csr_data.T\n",
    "csr_data_transpose"
   ]
  },
  {
   "cell_type": "code",
   "execution_count": 28,
   "id": "fitted-client",
   "metadata": {},
   "outputs": [
    {
     "data": {
      "application/vnd.jupyter.widget-view+json": {
       "model_id": "904629c566d24ac1ba9ffbbc53850618",
       "version_major": 2,
       "version_minor": 0
      },
      "text/plain": [
       "  0%|          | 0/15 [00:00<?, ?it/s]"
      ]
     },
     "metadata": {},
     "output_type": "display_data"
    }
   ],
   "source": [
    "#모델 훈련\n",
    "als_model.fit(csr_data_transpose)"
   ]
  },
  {
   "cell_type": "markdown",
   "id": "lesbian-helen",
   "metadata": {},
   "source": [
    "## 6. 모델 예측"
   ]
  },
  {
   "cell_type": "code",
   "execution_count": 31,
   "id": "respiratory-spray",
   "metadata": {},
   "outputs": [],
   "source": [
    "#훈련된 모델이 만든 나의 벡터와 영화 벡터 구하기\n",
    "hyojeong, toystory = user_idx['hyojeong'], title_idx['Toy Story (1995)']\n",
    "hyojeong_vector, toystory_vector = als_model.user_factors[hyojeong], als_model.item_factors[toystory]"
   ]
  },
  {
   "cell_type": "code",
   "execution_count": 32,
   "id": "flying-diesel",
   "metadata": {},
   "outputs": [
    {
     "data": {
      "text/plain": [
       "array([ 0.28623024, -0.19663216, -0.1953373 ,  0.20308943, -0.40468872,\n",
       "        0.6876701 , -0.15529266, -0.18045817, -0.86241746, -0.59646356,\n",
       "       -0.36681944,  0.44173738, -0.22247894, -0.37327778,  0.23792693,\n",
       "        0.02292245, -0.2349109 ,  0.97089076,  0.0370808 ,  0.4411986 ,\n",
       "        0.5446322 , -0.00794802, -0.63261646,  0.39124286,  0.6821147 ,\n",
       "       -0.30501685,  0.1819453 , -0.25392786,  0.7281686 , -0.02808323,\n",
       "        0.49329555, -0.41108373, -0.10695752, -0.21896851, -0.03782182,\n",
       "       -0.16528201,  0.3231683 , -0.05231161,  0.18666312, -0.9926605 ,\n",
       "        0.03322313,  0.2478739 , -0.10359219,  0.5943115 ,  0.29659024,\n",
       "        0.9788672 , -0.02048217,  0.18725726, -0.21633278, -0.38325202,\n",
       "       -0.08598775, -0.2097976 , -1.0436068 ,  0.23967297,  0.0794382 ,\n",
       "        0.58030844, -0.6057632 ,  0.20104472,  0.0685622 , -0.03596087,\n",
       "       -0.35931072,  0.10814738,  0.2760441 ,  0.4455065 , -0.03836733,\n",
       "        0.28557572, -0.3109032 , -1.1102569 , -0.38372087, -0.38947198,\n",
       "        0.58819115, -0.42665592,  0.23705436, -0.24983758, -0.34595135,\n",
       "        0.4009933 , -0.07054844, -0.11676201,  0.04850513,  0.7203393 ,\n",
       "        0.08664542,  0.03427766, -0.338236  ,  0.63259107, -0.05023271,\n",
       "        1.2391797 ,  0.37479863, -0.5917901 , -1.0777367 ,  0.25974053,\n",
       "        1.1531923 ,  0.31721517,  0.57758033, -0.3489373 ,  0.02594214,\n",
       "       -0.6413182 , -0.543503  , -0.2291773 ,  0.42464122,  0.4862868 ],\n",
       "      dtype=float32)"
      ]
     },
     "execution_count": 32,
     "metadata": {},
     "output_type": "execute_result"
    }
   ],
   "source": [
    "#나의 벡터\n",
    "hyojeong_vector"
   ]
  },
  {
   "cell_type": "code",
   "execution_count": 33,
   "id": "accepting-flexibility",
   "metadata": {},
   "outputs": [
    {
     "data": {
      "text/plain": [
       "array([ 0.03569599, -0.01427653,  0.00428272, -0.00849583,  0.00337399,\n",
       "       -0.00088234,  0.00505883,  0.00416068, -0.0270489 , -0.01127137,\n",
       "       -0.00414098,  0.01842524, -0.00683753, -0.02562911,  0.0156469 ,\n",
       "       -0.0096097 ,  0.01324109,  0.00375446, -0.02880429,  0.00238672,\n",
       "        0.00807991, -0.00064144,  0.0084403 ,  0.00389105,  0.03595176,\n",
       "       -0.00084515,  0.01902527, -0.0159827 ,  0.0518489 , -0.00902912,\n",
       "        0.02342092,  0.02851536,  0.00399146, -0.00286388,  0.02358123,\n",
       "        0.03232649,  0.00064334,  0.01766173, -0.00748266, -0.02265515,\n",
       "        0.00485503,  0.02011907,  0.01924141,  0.0052152 ,  0.02722261,\n",
       "        0.03621069, -0.00634331, -0.02353211,  0.01781888,  0.01602581,\n",
       "       -0.01073076,  0.0089189 , -0.03440608, -0.00879237, -0.0122527 ,\n",
       "        0.02164301, -0.01757217,  0.00246203,  0.01612477,  0.01227866,\n",
       "       -0.0250059 , -0.00165732,  0.01908525,  0.02456511,  0.01853113,\n",
       "        0.00647033, -0.0102184 , -0.00238316, -0.02435526,  0.0127295 ,\n",
       "        0.03534096, -0.02583441,  0.00287662, -0.023266  , -0.01723977,\n",
       "        0.01898454,  0.00641848,  0.01550085,  0.01452791,  0.03674563,\n",
       "       -0.00148774,  0.03153384,  0.0010493 ,  0.02925224,  0.00571594,\n",
       "        0.05247916,  0.01303525, -0.00333494, -0.01630969,  0.01355778,\n",
       "        0.02192447,  0.03652558,  0.00578092, -0.00599077, -0.02261891,\n",
       "       -0.02174326,  0.02300866,  0.01455379,  0.02488588, -0.00305943],\n",
       "      dtype=float32)"
      ]
     },
     "execution_count": 33,
     "metadata": {},
     "output_type": "execute_result"
    }
   ],
   "source": [
    "#영화 토이 스토리 벡터\n",
    "toystory_vector"
   ]
  },
  {
   "cell_type": "markdown",
   "id": "manual-version",
   "metadata": {},
   "source": [
    "### - 나의 선호 리스트에 있는 영화에 대한 훈련된 모델이 예측한 나의 선호도"
   ]
  },
  {
   "cell_type": "code",
   "execution_count": 34,
   "id": "minute-south",
   "metadata": {},
   "outputs": [
    {
     "data": {
      "text/plain": [
       "0.51244164"
      ]
     },
     "execution_count": 34,
     "metadata": {},
     "output_type": "execute_result"
    }
   ],
   "source": [
    "#나의 벡터와 영화 토이 스토리 벡터 내적\n",
    "np.dot(hyojeong_vector, toystory_vector)"
   ]
  },
  {
   "cell_type": "markdown",
   "id": "clinical-museum",
   "metadata": {},
   "source": [
    "### - 나의 선호 리스트에 없는 영화에 대한 훈련된 모델이 예측한 나의 선호도"
   ]
  },
  {
   "cell_type": "code",
   "execution_count": 37,
   "id": "norman-writing",
   "metadata": {},
   "outputs": [
    {
     "data": {
      "text/plain": [
       "0.43386862"
      ]
     },
     "execution_count": 37,
     "metadata": {},
     "output_type": "execute_result"
    }
   ],
   "source": [
    "matrix = title_idx['Matrix, The (1999)']\n",
    "matrix_vector = als_model.item_factors[matrix]\n",
    "np.dot(hyojeong_vector, matrix_vector)"
   ]
  },
  {
   "cell_type": "markdown",
   "id": "binding-breast",
   "metadata": {},
   "source": [
    "## 7. 영화 추천"
   ]
  },
  {
   "cell_type": "markdown",
   "id": "spiritual-daisy",
   "metadata": {},
   "source": [
    "### - 내가 선호하는 영화와 비슷한 영화 추천"
   ]
  },
  {
   "cell_type": "code",
   "execution_count": 44,
   "id": "italian-drawing",
   "metadata": {},
   "outputs": [],
   "source": [
    "#내가 선호하는 영화 5편에 대해 전부 적용해 보고자 영화 추천 함수로 따로 만듦\n",
    "\n",
    "idx_title = {v:k for k,v in title_idx.items()}\n",
    "\n",
    "def similar_movie(title_name: str):\n",
    "    title_id = title_idx[title_name]\n",
    "    \n",
    "    #(movie idx, 유사도) 형식의 튜플 생성\n",
    "    similar_title = als_model.similar_items(title_id, N = 15)\n",
    "    \n",
    "    #movie_to_idx 를 뒤집어, index로부터 movie 이름을 얻는 dict를 생성\n",
    "    similar_title = [idx_title[i[0]] for i in similar_title]\n",
    "    \n",
    "    return similar_title"
   ]
  },
  {
   "cell_type": "code",
   "execution_count": 45,
   "id": "touched-silver",
   "metadata": {},
   "outputs": [
    {
     "data": {
      "text/plain": [
       "['Men in Black (1997)',\n",
       " 'Jurassic Park (1993)',\n",
       " 'Terminator 2: Judgment Day (1991)',\n",
       " 'Total Recall (1990)',\n",
       " 'Independence Day (ID4) (1996)',\n",
       " 'Matrix, The (1999)',\n",
       " 'Fifth Element, The (1997)',\n",
       " 'Face/Off (1997)',\n",
       " 'Lost World: Jurassic Park, The (1997)',\n",
       " 'Schlafes Bruder (Brother of Sleep) (1995)',\n",
       " 'Rocky Horror Picture Show, The (1975)',\n",
       " 'Contact(1997)',\n",
       " 'Escape from New York (1981)',\n",
       " 'True Lies (1994)',\n",
       " 'Bewegte Mann, Der (1994)']"
      ]
     },
     "execution_count": 45,
     "metadata": {},
     "output_type": "execute_result"
    }
   ],
   "source": [
    "similar_movie('Men in Black (1997)')"
   ]
  },
  {
   "cell_type": "code",
   "execution_count": 46,
   "id": "prompt-rochester",
   "metadata": {},
   "outputs": [
    {
     "data": {
      "text/plain": [
       "['Contact(1997)',\n",
       " 'Shopping (1994)',\n",
       " \"Brother's Kiss, A (1997)\",\n",
       " 'War at Home, The (1996)',\n",
       " 'Number Seventeen (1932)',\n",
       " 'Century (1993)',\n",
       " 'Last of the High Kings, The (a.k.a. Summer Fling) (1996)',\n",
       " 'Neon Bible, The (1995)',\n",
       " \"Another Man's Poison (1952)\",\n",
       " 'Killer: A Journal of Murder (1995)',\n",
       " \"I Don't Want to Talk About It (De eso no se habla) (1993)\",\n",
       " 'Daens (1992)',\n",
       " 'Male and Female (1919)',\n",
       " 'Sweet Nothing (1995)',\n",
       " '24 7: Twenty Four Seven (1997)']"
      ]
     },
     "execution_count": 46,
     "metadata": {},
     "output_type": "execute_result"
    }
   ],
   "source": [
    "similar_movie('Contact(1997)')"
   ]
  },
  {
   "cell_type": "code",
   "execution_count": 48,
   "id": "outstanding-dealer",
   "metadata": {},
   "outputs": [
    {
     "data": {
      "text/plain": [
       "['Terminator, The (1984)',\n",
       " 'Aliens (1986)',\n",
       " 'Die Hard (1988)',\n",
       " 'Alien (1979)',\n",
       " 'Predator (1987)',\n",
       " 'Terminator 2: Judgment Day (1991)',\n",
       " 'Matrix, The (1999)',\n",
       " 'Robocop (1987)',\n",
       " 'Blade Runner (1982)',\n",
       " 'Total Recall (1990)',\n",
       " 'Indiana Jones and the Last Crusade (1989)',\n",
       " 'Star Wars: Episode V - The Empire Strikes Back (1980)',\n",
       " 'Raiders of the Lost Ark (1981)',\n",
       " 'Contact(1997)',\n",
       " 'Star Wars: Episode IV - A New Hope (1977)']"
      ]
     },
     "execution_count": 48,
     "metadata": {},
     "output_type": "execute_result"
    }
   ],
   "source": [
    "similar_movie('Terminator, The (1984)')"
   ]
  },
  {
   "cell_type": "code",
   "execution_count": 49,
   "id": "agreed-bowling",
   "metadata": {},
   "outputs": [
    {
     "data": {
      "text/plain": [
       "['Toy Story (1995)',\n",
       " 'Toy Story 2 (1999)',\n",
       " 'Aladdin (1992)',\n",
       " \"Bug's Life, A (1998)\",\n",
       " 'Babe (1995)',\n",
       " 'Groundhog Day (1993)',\n",
       " 'Lion King, The (1994)',\n",
       " 'Beauty and the Beast (1991)',\n",
       " 'Pleasantville (1998)',\n",
       " 'Contact(1997)',\n",
       " \"There's Something About Mary (1998)\",\n",
       " 'Mulan (1998)',\n",
       " 'Tarzan (1999)',\n",
       " 'Jungle Book, The (1967)',\n",
       " 'Hercules (1997)']"
      ]
     },
     "execution_count": 49,
     "metadata": {},
     "output_type": "execute_result"
    }
   ],
   "source": [
    "similar_movie('Toy Story (1995)')"
   ]
  },
  {
   "cell_type": "code",
   "execution_count": 50,
   "id": "corporate-apartment",
   "metadata": {},
   "outputs": [
    {
     "data": {
      "text/plain": [
       "['Forrest Gump (1994)',\n",
       " 'Groundhog Day (1993)',\n",
       " 'Pretty Woman (1990)',\n",
       " 'Ghost (1990)',\n",
       " 'Sleepless in Seattle (1993)',\n",
       " 'Star Wars: Episode VI - Return of the Jedi (1983)',\n",
       " 'Contact(1997)',\n",
       " 'Four Weddings and a Funeral (1994)',\n",
       " \"My Best Friend's Wedding (1997)\",\n",
       " 'As Good As It Gets (1997)',\n",
       " 'Clueless (1995)',\n",
       " 'Wedding Singer, The (1998)',\n",
       " 'Notting Hill (1999)',\n",
       " 'Doctor Zhivago (1965)',\n",
       " 'Pleasantville (1998)']"
      ]
     },
     "execution_count": 50,
     "metadata": {},
     "output_type": "execute_result"
    }
   ],
   "source": [
    "similar_movie('Forrest Gump (1994)')"
   ]
  },
  {
   "cell_type": "markdown",
   "id": "accessible-bottle",
   "metadata": {},
   "source": [
    "### - 내가 가장 좋아할 만한 영화 추천"
   ]
  },
  {
   "cell_type": "code",
   "execution_count": 52,
   "id": "convinced-vehicle",
   "metadata": {},
   "outputs": [
    {
     "name": "stdout",
     "output_type": "stream",
     "text": [
      "Terminator 2: Judgment Day (1991) 0000.480\n",
      "Toy Story 2 (1999) 0000.438\n",
      "Matrix, The (1999) 0000.434\n",
      "Jurassic Park (1993) 0000.386\n",
      "Star Wars: Episode VI - Return of the Jedi (1983) 0000.376\n",
      "Groundhog Day (1993) 0000.340\n",
      "Bug's Life, A (1998) 0000.318\n",
      "Total Recall (1990) 0000.309\n",
      "Star Wars: Episode V - The Empire Strikes Back (1980) 0000.261\n",
      "Aladdin (1992) 0000.231\n",
      "Independence Day (ID4) (1996) 0000.226\n",
      "Aliens (1986) 0000.223\n",
      "Back to the Future (1985) 0000.206\n",
      "Star Wars: Episode IV - A New Hope (1977) 0000.206\n",
      "Lion King, The (1994) 0000.204\n",
      "Babe (1995) 0000.203\n",
      "Sixth Sense, The (1999) 0000.203\n",
      "My Cousin Vinny (1992) 0000.200\n",
      "Pleasantville (1998) 0000.188\n",
      "Mission: Impossible (1996) 0000.186\n"
     ]
    }
   ],
   "source": [
    "user = user_idx['hyojeong']\n",
    "\n",
    "#recommend에서는 user*item CSR Matrix를 받음.\n",
    "title_recommended = als_model.recommend(user, csr_data, N=20, filter_already_liked_items=True)\n",
    "for i in title_recommended: \n",
    "    print(\"{} {:08.3f}\".format(idx_title[i[0]], i[1]))"
   ]
  },
  {
   "cell_type": "code",
   "execution_count": 53,
   "id": "gothic-franklin",
   "metadata": {},
   "outputs": [
    {
     "data": {
      "text/plain": [
       "[('Terminator, The (1984)', 0.25627567138296864),\n",
       " ('Toy Story (1995)', 0.004751556011380804),\n",
       " ('Contact(1997)', 0.0006286131795732468),\n",
       " ('Forrest Gump (1994)', -0.01479055050346404),\n",
       " ('Men in Black (1997)', -0.026166720393109563)]"
      ]
     },
     "execution_count": 53,
     "metadata": {},
     "output_type": "execute_result"
    }
   ],
   "source": [
    "#사용자의 기록(선호하는 영화)이 특정 영화 추천에 기여한 정도\n",
    "recommended = title_idx['Aliens (1986)']\n",
    "explain = als_model.explain(user, csr_data, itemid=recommended)\n",
    "\n",
    "[(idx_title[i[0]], i[1]) for i in explain[1]]"
   ]
  },
  {
   "cell_type": "markdown",
   "id": "impressed-measurement",
   "metadata": {},
   "source": [
    "---"
   ]
  },
  {
   "cell_type": "markdown",
   "id": "patient-confusion",
   "metadata": {},
   "source": [
    "## 프로젝트 정리\n",
    "\n",
    "### - 데이터 전처리 : \n",
    "- csv 파일 2개를 합치는 것이 우선이었다. 평점과 제목이 각각 파일에 따로 있었기 때문에 'movie_id'를 기준으로 merge를 사용하여 한 파일로 합쳤다.    \n",
    "    \n",
    "    \n",
    "### - csr matrix : \n",
    "- 노드에서 분명 인덱싱까지 완료된 깔끔하게 정리된 파일이라고 해서 인덱싱 과정이 필요없다고 생각했었는데 csr matrix를 생성할 때 오류가 생겨서 인덱싱 과정을 진행했다. 내가 선호하는 영화를 추가하면서 인덱싱이 되지 않은 데이터들이 생겼기 때문에 인덱싱을 진행해야 했던 것 같다.   \n",
    "    \n",
    "      \n",
    "### - 영화 선호도 : \n",
    "- 내가 선호하는 영화 :\n",
    "  - '토이 스토리'에 대한 선호도가 0.51244164로 생각보다 낮게 나왔다. \n",
    "- 내가 선호하는 영화 리스트에 없던 영화 :  \n",
    "  - '매트릭스'에 대한 선호도는 0.43386862로 '토이 스토리'보다 낮게 나온 걸로 보아 모델이 잘 예측했다고 판단했다.   \n",
    "   \n",
    "   \n",
    "### - 영화 추천 : \n",
    "- 내가 선호하는 영화와 비슷한 영화 추천 : \n",
    "  - 추천 영화 목록을 보면 그럴듯 한 영화가 꽤 많았다. 뜬금없는 영화도 있긴 했지만 전반적으로 비슷한 장르의 영화를 추천해 준 것 같다. \n",
    "- 내가 가장 좋아할 만한 영화 추천 : \n",
    "  - 똑똑한 건지 꼼수를 부린건진 몰라도 내가 선호하는 영화의 뒷 시리즈를 추천해 줬다 ㅋㅋ... 시리즈를 제외하고 추천하게끔 했어야 했나 싶지만 그만큼 모델이 예측을 잘했다고도 생각할 수 있을 것 같다."
   ]
  }
 ],
 "metadata": {
  "kernelspec": {
   "display_name": "Python 3",
   "language": "python",
   "name": "python3"
  },
  "language_info": {
   "codemirror_mode": {
    "name": "ipython",
    "version": 3
   },
   "file_extension": ".py",
   "mimetype": "text/x-python",
   "name": "python",
   "nbconvert_exporter": "python",
   "pygments_lexer": "ipython3",
   "version": "3.7.9"
  }
 },
 "nbformat": 4,
 "nbformat_minor": 5
}
