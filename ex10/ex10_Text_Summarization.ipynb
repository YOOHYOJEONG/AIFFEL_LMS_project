{
 "cells": [
  {
   "cell_type": "markdown",
   "id": "prompt-inspector",
   "metadata": {},
   "source": [
    "# 텍스트 요약 : 뉴스기사 요약하기   \n",
    "\n",
    "## - 목차   \n",
    "\n",
    "1. 데이터 수집   \n",
    "2. 데이터 전처리 (추상적 요약)   \n",
    "3. 모델 설계   \n",
    "4. 어텐션 메커니즘 사용 (추상적 요약)  \n",
    "5. 모델 훈련\n",
    "6. 모델 테스트 : 실제 결과와 요약문 비교 (추상적 요약)   \n",
    "7. Summa 이용한 추출적 요약   \n",
    "- 프로젝트 결과"
   ]
  },
  {
   "cell_type": "markdown",
   "id": "increasing-hughes",
   "metadata": {},
   "source": [
    "## 1. 데이터 수집"
   ]
  },
  {
   "cell_type": "code",
   "execution_count": 1,
   "id": "published-possession",
   "metadata": {},
   "outputs": [
    {
     "name": "stderr",
     "output_type": "stream",
     "text": [
      "[nltk_data] Downloading package stopwords to /aiffel/nltk_data...\n",
      "[nltk_data]   Package stopwords is already up-to-date!\n"
     ]
    }
   ],
   "source": [
    "import nltk\n",
    "nltk.download('stopwords')\n",
    "\n",
    "import numpy as np\n",
    "import pandas as pd\n",
    "import os\n",
    "import re\n",
    "import matplotlib.pyplot as plt\n",
    "from nltk.corpus import stopwords\n",
    "from bs4 import BeautifulSoup \n",
    "from tensorflow.keras.preprocessing.text import Tokenizer \n",
    "from tensorflow.keras.preprocessing.sequence import pad_sequences\n",
    "\n",
    "import urllib.request\n",
    "urllib.request.urlretrieve(\"https://raw.githubusercontent.com/sunnysai12345/News_Summary/master/news_summary_more.csv\", filename=\"news_summary_more.csv\")\n",
    "data = pd.read_csv('news_summary_more.csv', encoding='iso-8859-1')"
   ]
  },
  {
   "cell_type": "code",
   "execution_count": 2,
   "id": "employed-liability",
   "metadata": {},
   "outputs": [
    {
     "data": {
      "text/html": [
       "<div>\n",
       "<style scoped>\n",
       "    .dataframe tbody tr th:only-of-type {\n",
       "        vertical-align: middle;\n",
       "    }\n",
       "\n",
       "    .dataframe tbody tr th {\n",
       "        vertical-align: top;\n",
       "    }\n",
       "\n",
       "    .dataframe thead th {\n",
       "        text-align: right;\n",
       "    }\n",
       "</style>\n",
       "<table border=\"1\" class=\"dataframe\">\n",
       "  <thead>\n",
       "    <tr style=\"text-align: right;\">\n",
       "      <th></th>\n",
       "      <th>headlines</th>\n",
       "      <th>text</th>\n",
       "    </tr>\n",
       "  </thead>\n",
       "  <tbody>\n",
       "    <tr>\n",
       "      <th>61748</th>\n",
       "      <td>PokÃÂ©mon Go maker announces Harry Potter AR ...</td>\n",
       "      <td>Maker of the augmented reality (AR) game PokÃ...</td>\n",
       "    </tr>\n",
       "    <tr>\n",
       "      <th>55169</th>\n",
       "      <td>Savings through Aadhaar-based DBT expected to ...</td>\n",
       "      <td>Finance Minister Arun Jaitley on Saturday said...</td>\n",
       "    </tr>\n",
       "    <tr>\n",
       "      <th>79988</th>\n",
       "      <td>Air India plans voluntary retirement scheme fo...</td>\n",
       "      <td>Air India is drawing up a proposal to offer vo...</td>\n",
       "    </tr>\n",
       "    <tr>\n",
       "      <th>85837</th>\n",
       "      <td>I don't want to sing for any superstar: Diljit...</td>\n",
       "      <td>Singer Diljit Dosanjh has said he doesn't want...</td>\n",
       "    </tr>\n",
       "    <tr>\n",
       "      <th>33653</th>\n",
       "      <td>Would love to do a biopic on Rajesh Khanna, sa...</td>\n",
       "      <td>Pulkit Samrat has said he would love to do a b...</td>\n",
       "    </tr>\n",
       "    <tr>\n",
       "      <th>62245</th>\n",
       "      <td>26 teenage girls found dead in Mediterranean Sea</td>\n",
       "      <td>Italy has launched an investigation into the d...</td>\n",
       "    </tr>\n",
       "    <tr>\n",
       "      <th>93253</th>\n",
       "      <td>People in Mumbai clean 20,000 kg of trash</td>\n",
       "      <td>Nearly 100 residents of Kandivali in Mumbai ca...</td>\n",
       "    </tr>\n",
       "    <tr>\n",
       "      <th>24947</th>\n",
       "      <td>Misinterpreted: Minister who linked lynching t...</td>\n",
       "      <td>A day after he said the Alwar lynching inciden...</td>\n",
       "    </tr>\n",
       "    <tr>\n",
       "      <th>90966</th>\n",
       "      <td>BJP workers forge Jayant Sinha's sign to dupe ...</td>\n",
       "      <td>BJP workers in Union Minister Jayant Sinha's c...</td>\n",
       "    </tr>\n",
       "    <tr>\n",
       "      <th>42019</th>\n",
       "      <td>Too early to give prenuptial agreement legal b...</td>\n",
       "      <td>The government has said it is too early to giv...</td>\n",
       "    </tr>\n",
       "  </tbody>\n",
       "</table>\n",
       "</div>"
      ],
      "text/plain": [
       "                                               headlines  \\\n",
       "61748  PokÃÂ©mon Go maker announces Harry Potter AR ...   \n",
       "55169  Savings through Aadhaar-based DBT expected to ...   \n",
       "79988  Air India plans voluntary retirement scheme fo...   \n",
       "85837  I don't want to sing for any superstar: Diljit...   \n",
       "33653  Would love to do a biopic on Rajesh Khanna, sa...   \n",
       "62245   26 teenage girls found dead in Mediterranean Sea   \n",
       "93253         People in Mumbai clean 20,000 kg of trash    \n",
       "24947  Misinterpreted: Minister who linked lynching t...   \n",
       "90966  BJP workers forge Jayant Sinha's sign to dupe ...   \n",
       "42019  Too early to give prenuptial agreement legal b...   \n",
       "\n",
       "                                                    text  \n",
       "61748  Maker of the augmented reality (AR) game PokÃ...  \n",
       "55169  Finance Minister Arun Jaitley on Saturday said...  \n",
       "79988  Air India is drawing up a proposal to offer vo...  \n",
       "85837  Singer Diljit Dosanjh has said he doesn't want...  \n",
       "33653  Pulkit Samrat has said he would love to do a b...  \n",
       "62245  Italy has launched an investigation into the d...  \n",
       "93253  Nearly 100 residents of Kandivali in Mumbai ca...  \n",
       "24947  A day after he said the Alwar lynching inciden...  \n",
       "90966  BJP workers in Union Minister Jayant Sinha's c...  \n",
       "42019  The government has said it is too early to giv...  "
      ]
     },
     "execution_count": 2,
     "metadata": {},
     "output_type": "execute_result"
    }
   ],
   "source": [
    "data.sample(10)"
   ]
  },
  {
   "cell_type": "markdown",
   "id": "bigger-assault",
   "metadata": {},
   "source": [
    "- 추상적 요약을 하는 경우에는 text를 본문, headlines를 이미 요약된 데이터로 모델을 학습하면 됨.\n",
    "- 추출적 요약을 하는 경우에는 오직 text열만을 사용해야 함."
   ]
  },
  {
   "cell_type": "code",
   "execution_count": 3,
   "id": "weighted-imaging",
   "metadata": {},
   "outputs": [
    {
     "name": "stdout",
     "output_type": "stream",
     "text": [
      "샘플 수  :  98401\n"
     ]
    }
   ],
   "source": [
    "print('샘플 수  : ', (len(data)))"
   ]
  },
  {
   "cell_type": "code",
   "execution_count": 4,
   "id": "italic-continuity",
   "metadata": {},
   "outputs": [
    {
     "name": "stdout",
     "output_type": "stream",
     "text": [
      "headlines first data : \n",
      " upGrad learner switches to career in ML & Al with 90% salary hike\n",
      "text first data : \n",
      " Saurav Kant, an alumnus of upGrad and IIIT-B's PG Program in Machine learning and Artificial Intelligence, was a Sr Systems Engineer at Infosys with almost 5 years of work experience. The program and upGrad's 360-degree career support helped him transition to a Data Scientist at Tech Mahindra with 90% salary hike. upGrad's Online Power Learning has powered 3 lakh+ careers.\n"
     ]
    }
   ],
   "source": [
    "print('headlines first data : \\n', data.loc[0]['headlines'])\n",
    "print('text first data : \\n', data.loc[0]['text'])"
   ]
  },
  {
   "cell_type": "markdown",
   "id": "tracked-karaoke",
   "metadata": {},
   "source": [
    "## 2. 데이터 전처리 (추상적 요약)"
   ]
  },
  {
   "cell_type": "markdown",
   "id": "fitted-nickel",
   "metadata": {},
   "source": [
    "### 2.1 중복값, 결측치 제거"
   ]
  },
  {
   "cell_type": "code",
   "execution_count": 5,
   "id": "serious-average",
   "metadata": {},
   "outputs": [
    {
     "name": "stdout",
     "output_type": "stream",
     "text": [
      "text 열에서 중복을 배제한 유일한 샘플의 수 : 98360\n",
      "headlines 열에서 중복을 배제한 유일한 샘플의 수 : 98280\n"
     ]
    }
   ],
   "source": [
    "print('text 열에서 중복을 배제한 유일한 샘플의 수 :', data['text'].nunique())\n",
    "print('headlines 열에서 중복을 배제한 유일한 샘플의 수 :', data['headlines'].nunique())"
   ]
  },
  {
   "cell_type": "code",
   "execution_count": 6,
   "id": "sunset-touch",
   "metadata": {},
   "outputs": [
    {
     "name": "stdout",
     "output_type": "stream",
     "text": [
      "전체 샘플수 : 98360\n"
     ]
    }
   ],
   "source": [
    "data.drop_duplicates(subset = ['text'], inplace = True)\n",
    "print('전체 샘플수 :',(len(data)))"
   ]
  },
  {
   "cell_type": "code",
   "execution_count": 7,
   "id": "solid-fourth",
   "metadata": {},
   "outputs": [
    {
     "name": "stdout",
     "output_type": "stream",
     "text": [
      "headlines    0\n",
      "text         0\n",
      "dtype: int64\n"
     ]
    }
   ],
   "source": [
    "print(data.isnull().sum())"
   ]
  },
  {
   "cell_type": "markdown",
   "id": "indian-convert",
   "metadata": {},
   "source": [
    "### 2.2 텍스트 정규화 및 불용어 제거"
   ]
  },
  {
   "cell_type": "code",
   "execution_count": 8,
   "id": "labeled-slovak",
   "metadata": {},
   "outputs": [
    {
     "name": "stdout",
     "output_type": "stream",
     "text": [
      "정규화 사전의 수:  120\n"
     ]
    }
   ],
   "source": [
    "contractions = {\"ain't\": \"is not\", \"aren't\": \"are not\",\"can't\": \"cannot\", \"'cause\": \"because\", \"could've\": \"could have\", \"couldn't\": \"could not\",\n",
    "                           \"didn't\": \"did not\",  \"doesn't\": \"does not\", \"don't\": \"do not\", \"hadn't\": \"had not\", \"hasn't\": \"has not\", \"haven't\": \"have not\",\n",
    "                           \"he'd\": \"he would\",\"he'll\": \"he will\", \"he's\": \"he is\", \"how'd\": \"how did\", \"how'd'y\": \"how do you\", \"how'll\": \"how will\", \"how's\": \"how is\",\n",
    "                           \"I'd\": \"I would\", \"I'd've\": \"I would have\", \"I'll\": \"I will\", \"I'll've\": \"I will have\",\"I'm\": \"I am\", \"I've\": \"I have\", \"i'd\": \"i would\",\n",
    "                           \"i'd've\": \"i would have\", \"i'll\": \"i will\",  \"i'll've\": \"i will have\",\"i'm\": \"i am\", \"i've\": \"i have\", \"isn't\": \"is not\", \"it'd\": \"it would\",\n",
    "                           \"it'd've\": \"it would have\", \"it'll\": \"it will\", \"it'll've\": \"it will have\",\"it's\": \"it is\", \"let's\": \"let us\", \"ma'am\": \"madam\",\n",
    "                           \"mayn't\": \"may not\", \"might've\": \"might have\",\"mightn't\": \"might not\",\"mightn't've\": \"might not have\", \"must've\": \"must have\",\n",
    "                           \"mustn't\": \"must not\", \"mustn't've\": \"must not have\", \"needn't\": \"need not\", \"needn't've\": \"need not have\",\"o'clock\": \"of the clock\",\n",
    "                           \"oughtn't\": \"ought not\", \"oughtn't've\": \"ought not have\", \"shan't\": \"shall not\", \"sha'n't\": \"shall not\", \"shan't've\": \"shall not have\",\n",
    "                           \"she'd\": \"she would\", \"she'd've\": \"she would have\", \"she'll\": \"she will\", \"she'll've\": \"she will have\", \"she's\": \"she is\",\n",
    "                           \"should've\": \"should have\", \"shouldn't\": \"should not\", \"shouldn't've\": \"should not have\", \"so've\": \"so have\",\"so's\": \"so as\",\n",
    "                           \"this's\": \"this is\",\"that'd\": \"that would\", \"that'd've\": \"that would have\", \"that's\": \"that is\", \"there'd\": \"there would\",\n",
    "                           \"there'd've\": \"there would have\", \"there's\": \"there is\", \"here's\": \"here is\",\"they'd\": \"they would\", \"they'd've\": \"they would have\",\n",
    "                           \"they'll\": \"they will\", \"they'll've\": \"they will have\", \"they're\": \"they are\", \"they've\": \"they have\", \"to've\": \"to have\",\n",
    "                           \"wasn't\": \"was not\", \"we'd\": \"we would\", \"we'd've\": \"we would have\", \"we'll\": \"we will\", \"we'll've\": \"we will have\", \"we're\": \"we are\",\n",
    "                           \"we've\": \"we have\", \"weren't\": \"were not\", \"what'll\": \"what will\", \"what'll've\": \"what will have\", \"what're\": \"what are\",\n",
    "                           \"what's\": \"what is\", \"what've\": \"what have\", \"when's\": \"when is\", \"when've\": \"when have\", \"where'd\": \"where did\", \"where's\": \"where is\",\n",
    "                           \"where've\": \"where have\", \"who'll\": \"who will\", \"who'll've\": \"who will have\", \"who's\": \"who is\", \"who've\": \"who have\",\n",
    "                           \"why's\": \"why is\", \"why've\": \"why have\", \"will've\": \"will have\", \"won't\": \"will not\", \"won't've\": \"will not have\",\n",
    "                           \"would've\": \"would have\", \"wouldn't\": \"would not\", \"wouldn't've\": \"would not have\", \"y'all\": \"you all\",\n",
    "                           \"y'all'd\": \"you all would\",\"y'all'd've\": \"you all would have\",\"y'all're\": \"you all are\",\"y'all've\": \"you all have\",\n",
    "                           \"you'd\": \"you would\", \"you'd've\": \"you would have\", \"you'll\": \"you will\", \"you'll've\": \"you will have\",\n",
    "                           \"you're\": \"you are\", \"you've\": \"you have\"}\n",
    "\n",
    "print(\"정규화 사전의 수: \",len(contractions))"
   ]
  },
  {
   "cell_type": "code",
   "execution_count": 9,
   "id": "republican-rouge",
   "metadata": {},
   "outputs": [],
   "source": [
    "#데이터 전처리 함수\n",
    "\n",
    "def preprocess_sentence(sentence, remove_stopwords=True):\n",
    "    sentence = sentence.lower() #텍스트 소문자화\n",
    "    sentence = BeautifulSoup(sentence, \"lxml\").text #<br />, <a href = ...> 등의 html 태그 제거\n",
    "    sentence = re.sub(r'\\([^)]*\\)', '', sentence) #괄호로 닫힌 문자열 (...) 제거 Ex) my husband (and myself!) for => my husband for\n",
    "    sentence = re.sub('\"','', sentence) #쌍따옴표 \" 제거\n",
    "    sentence = ' '.join([contractions[t] if t in contractions else t for t in sentence.split(\" \")]) #약어 정규화\n",
    "    sentence = re.sub(r\"'s\\b\",\"\", sentence) #소유격 제거. Ex) roland's -> roland\n",
    "    sentence = re.sub(\"[^a-zA-Z]\", \" \", sentence) #영어 외 문자(숫자, 특수문자 등) 공백으로 변환\n",
    "    sentence = re.sub('[m]{2,}', 'mm', sentence) #m이 3개 이상이면 2개로 변경. Ex) ummmmmmm yeah -> umm yeah\n",
    "    \n",
    "    # 불용어 제거 (Text)\n",
    "    if remove_stopwords:\n",
    "        tokens = ' '.join(word for word in sentence.split() if not word in stopwords.words('english') if len(word) > 1)\n",
    "    \n",
    "    # 불용어 미제거 (Summary)\n",
    "    #상대적으로 문장 길이가 짧은 Summary 전처리할 때는 호출하지 않음.\n",
    "    else:\n",
    "        tokens = ' '.join(word for word in sentence.split() if len(word) > 1)\n",
    "        \n",
    "    return tokens"
   ]
  },
  {
   "cell_type": "code",
   "execution_count": 10,
   "id": "received-sessions",
   "metadata": {},
   "outputs": [
    {
     "name": "stdout",
     "output_type": "stream",
     "text": [
      "everything bought great infact ordered twice third ordered wasfor mother father\n",
      "great way to start the day\n"
     ]
    }
   ],
   "source": [
    "#데이터 전처리 함수 작동 확인\n",
    "temp_text = 'Everything I bought was great, infact I ordered twice and the third ordered was<br />for my mother and father.'\n",
    "temp_summary = 'Great way to start (or finish) the day!!!'\n",
    "\n",
    "print(preprocess_sentence(temp_text))\n",
    "\n",
    "#Text의 경우에는 불용어를 제거하고, Summary의 경우에는 불용어를 제거하지 않음.\n",
    "print(preprocess_sentence(temp_summary, False)) "
   ]
  },
  {
   "cell_type": "code",
   "execution_count": 11,
   "id": "regulated-mozambique",
   "metadata": {},
   "outputs": [
    {
     "name": "stdout",
     "output_type": "stream",
     "text": [
      "185.0547275543213  seconds\n",
      "['saurav kant alumnus upgrad iiit pg program machine learning artificial intelligence sr systems engineer infosys almost years work experience program upgrad degree career support helped transition data scientist tech mahindra salary hike upgrad online power learning powered lakh careers'\n",
      " 'kunal shah credit card bill payment platform cred gave users chance win free food swiggy one year pranav kaushik delhi techie bagged reward spending cred coins users get one cred coin per rupee bill paid used avail rewards brands like ixigo bookmyshow ubereats cult fit'\n",
      " 'new zealand defeated india wickets fourth odi hamilton thursday win first match five match odi series india lost international match rohit sharma captaincy consecutive victories dating back march match witnessed india getting seventh lowest total odi cricket history'\n",
      " 'aegon life iterm insurance plan customers enjoy tax benefits premiums paid save taxes plan provides life cover age years also customers options insure critical illnesses disability accidental death benefit rider life cover age years'\n",
      " 'speaking sexual harassment allegations rajkumar hirani sonam kapoor said known hirani many years true metoo movement get derailed metoo movement always believe woman case need reserve judgment added hirani accused assistant worked sanju']\n",
      "5.896835088729858  seconds\n",
      "['upgrad learner switches to career in ml al with salary hike'\n",
      " 'delhi techie wins free food from swiggy for one year on cred'\n",
      " 'new zealand end rohit sharma led india match winning streak'\n",
      " 'aegon life iterm insurance plan helps customers save tax'\n",
      " 'have known hirani for yrs what if metoo claims are not true sonam']\n"
     ]
    }
   ],
   "source": [
    "### 멀티 프로세싱\n",
    "\n",
    "import multiprocessing as mp  \n",
    "from multiprocessing import Pool\n",
    "import numpy as np\n",
    "import time\n",
    "from functools import partial  #map을 할 때 함수에 여러 인자를 넣어줄 수 있도록 함.\n",
    "\n",
    "start = time.time()\n",
    "\n",
    "#num_cores 만큼 쪼개진 데이터를 전처리하여 반환\n",
    "def appendTexts(sentences, remove_stopwords):\n",
    "  texts = []\n",
    "  for s in sentences:\n",
    "    texts += preprocess_sentence(s, remove_stopwords),\n",
    "  return texts\n",
    "\n",
    "def preprocess_data(data, remove_stopwords=True):\n",
    "  start_time = time.time()\n",
    "  num_cores = mp.cpu_count()  #컴퓨터의 코어 수\n",
    "\n",
    "  text_data_split = np.array_split(data, num_cores)  #코어 수만큼 데이터를 배분하여 병렬적으로 처리\n",
    "  pool = Pool(num_cores)\n",
    "\n",
    "  #각자 작업한 데이터를 하나로 합쳐줌.\n",
    "  processed_data = np.concatenate(pool.map(partial(appendTexts, remove_stopwords=remove_stopwords), text_data_split))\n",
    "  pool.close()\n",
    "  pool.join()\n",
    "  print(time.time() - start_time, \" seconds\")\n",
    "  return processed_data\n",
    "\n",
    "clean_text = preprocess_data(data['text'])\n",
    "print(clean_text[:5])\n",
    "\n",
    "#Summary에 대해서 전처리 함수를 호출해 줄 때는, 불용어 제거를 수행하지 않는다는 의미에서 두 번째 인자로 False 넣음.\n",
    "clean_headlines = preprocess_data(data['headlines'], remove_stopwords=False) \n",
    "print(clean_headlines[:5])"
   ]
  },
  {
   "cell_type": "code",
   "execution_count": 12,
   "id": "broken-production",
   "metadata": {},
   "outputs": [
    {
     "data": {
      "text/plain": [
       "headlines    0\n",
       "text         0\n",
       "dtype: int64"
      ]
     },
     "execution_count": 12,
     "metadata": {},
     "output_type": "execute_result"
    }
   ],
   "source": [
    "#전처리 후 빈 샘플이 생겼는지 확인.\n",
    "#전처리 과정에서 문장의 모든 단어가 사라지는 경우가 있음.\n",
    "#빈 샘플이 있으면 모두 Null로 대체.\n",
    "\n",
    "data['text'] = clean_text\n",
    "data['headlines'] = clean_headlines\n",
    "\n",
    "# 빈 값을 Null 값으로 변환\n",
    "data.replace('', np.nan, inplace=True)\n",
    "\n",
    "data.isnull().sum()"
   ]
  },
  {
   "cell_type": "code",
   "execution_count": 13,
   "id": "interstate-equity",
   "metadata": {},
   "outputs": [
    {
     "name": "stdout",
     "output_type": "stream",
     "text": [
      "전체 샘플수 : 98360\n"
     ]
    }
   ],
   "source": [
    "print('전체 샘플수 :',(len(data)))"
   ]
  },
  {
   "cell_type": "markdown",
   "id": "absent-graham",
   "metadata": {},
   "source": [
    "### 2.3 샘플 최대 길이 정하기"
   ]
  },
  {
   "cell_type": "code",
   "execution_count": 14,
   "id": "saved-observer",
   "metadata": {},
   "outputs": [
    {
     "name": "stdout",
     "output_type": "stream",
     "text": [
      "텍스트의 최소 길이 : 1\n",
      "텍스트의 최대 길이 : 60\n",
      "텍스트의 평균 길이 : 35.09968483123221\n",
      "요약의 최소 길이 : 1\n",
      "요약의 최대 길이 : 16\n",
      "요약의 평균 길이 : 9.299532330215534\n"
     ]
    },
    {
     "data": {
      "image/png": "[encoded data removed]",
      "text/plain": [
       "<Figure size 432x288 with 2 Axes>"
      ]
     },
     "metadata": {
      "needs_background": "light"
     },
     "output_type": "display_data"
    },
    {
     "data": {
      "image/png": "[encoded data removed]",
      "text/plain": [
       "<Figure size 432x288 with 1 Axes>"
      ]
     },
     "metadata": {
      "needs_background": "light"
     },
     "output_type": "display_data"
    },
    {
     "data": {
      "image/png": "[encoded data removed]",
      "text/plain": [
       "<Figure size 432x288 with 1 Axes>"
      ]
     },
     "metadata": {
      "needs_background": "light"
     },
     "output_type": "display_data"
    }
   ],
   "source": [
    "# 길이 분포 출력\n",
    "import matplotlib.pyplot as plt\n",
    "\n",
    "text_len = [len(s.split()) for s in data['text']]\n",
    "summary_len = [len(s.split()) for s in data['headlines']]\n",
    "\n",
    "print('텍스트의 최소 길이 : {}'.format(np.min(text_len)))\n",
    "print('텍스트의 최대 길이 : {}'.format(np.max(text_len)))\n",
    "print('텍스트의 평균 길이 : {}'.format(np.mean(text_len)))\n",
    "print('요약의 최소 길이 : {}'.format(np.min(summary_len)))\n",
    "print('요약의 최대 길이 : {}'.format(np.max(summary_len)))\n",
    "print('요약의 평균 길이 : {}'.format(np.mean(summary_len)))\n",
    "\n",
    "plt.subplot(1,2,1)\n",
    "plt.boxplot(summary_len)\n",
    "plt.title('headlines')\n",
    "plt.subplot(1,2,2)\n",
    "plt.boxplot(text_len)\n",
    "plt.title('text')\n",
    "plt.tight_layout()\n",
    "plt.show()\n",
    "\n",
    "plt.title('headlines')\n",
    "plt.hist(summary_len, bins = 40)\n",
    "plt.xlabel('length of samples')\n",
    "plt.ylabel('number of samples')\n",
    "plt.show()\n",
    "\n",
    "plt.title('text')\n",
    "plt.hist(text_len, bins = 40)\n",
    "plt.xlabel('length of samples')\n",
    "plt.ylabel('number of samples')\n",
    "plt.show()"
   ]
  },
  {
   "cell_type": "markdown",
   "id": "supreme-atlanta",
   "metadata": {},
   "source": [
    "- 텍스트의 경우 최소 길이가 1, 최대 길이는 60, 평균 길이는 35로 그래프로 봤을 때 대체적으로 20 ~ 50 사이에 분포해 있음을 알 수 있다.\n",
    "- 헤드라인(요약)의 경우 최소 길이는 1, 최대 길이는 16, 평균 길이가 9로 그래프로 봤을 때 4 ~ 14 사이에 분포해 있음을 알 수 있다. \n",
    "- 위의 결과를 바탕으로 텍스트의 길이와 헤드라인의 적절한 최대 길이를 임의로 정할 수 있다."
   ]
  },
  {
   "cell_type": "code",
   "execution_count": 15,
   "id": "supreme-resident",
   "metadata": {},
   "outputs": [],
   "source": [
    "#위의 결과를 바탕으로 정한 임의의 최대 길이\n",
    "text_max_len = 45\n",
    "headlines_max_len = 13"
   ]
  },
  {
   "cell_type": "code",
   "execution_count": 16,
   "id": "stone-cabin",
   "metadata": {},
   "outputs": [],
   "source": [
    "#위의 임의로 정한 길이들이 얼마나 객관적인지 통계로 확인\n",
    "\n",
    "def below_threshold_len(max_len, nested_list):\n",
    "  cnt = 0\n",
    "  for s in nested_list:\n",
    "    if(len(s.split()) <= max_len):\n",
    "        cnt = cnt + 1\n",
    "  print('전체 샘플 중 길이가 %s 이하인 샘플의 비율: %s'%(max_len, (cnt / len(nested_list))))"
   ]
  },
  {
   "cell_type": "code",
   "execution_count": 17,
   "id": "modular-section",
   "metadata": {},
   "outputs": [
    {
     "name": "stdout",
     "output_type": "stream",
     "text": [
      "전체 샘플 중 길이가 45 이하인 샘플의 비율: 0.9967771451809678\n",
      "전체 샘플 중 길이가 13 이하인 샘플의 비율: 0.9981699877999186\n"
     ]
    }
   ],
   "source": [
    "#임의의 길이가 몇%의 샘플까지 포함하는지 볼 수 있음.\n",
    "below_threshold_len(text_max_len, data['text'])\n",
    "below_threshold_len(headlines_max_len,  data['headlines'])"
   ]
  },
  {
   "cell_type": "markdown",
   "id": "turned-revolution",
   "metadata": {},
   "source": [
    "- 비율을 봤을 때 임의로 정한 최대 길이가 나쁘지 않았음을 알 수 있음."
   ]
  },
  {
   "cell_type": "code",
   "execution_count": 18,
   "id": "juvenile-status",
   "metadata": {},
   "outputs": [
    {
     "name": "stdout",
     "output_type": "stream",
     "text": [
      "전체 샘플수 : 97863\n"
     ]
    }
   ],
   "source": [
    "#정해진 길이에 맞춰 잘라내면 샘플들이 내용이 조금이라도 망가지기 때문에\n",
    "#자르는 것이 아닌 정해진 길이보다 길면 제외하는 방법으로 데이터 정제할 것.\n",
    "\n",
    "data = data[data['text'].apply(lambda x: len(x.split()) <= text_max_len)]\n",
    "data = data[data['headlines'].apply(lambda x: len(x.split()) <= headlines_max_len)]\n",
    "print('전체 샘플수 :', (len(data)))"
   ]
  },
  {
   "cell_type": "markdown",
   "id": "moral-bradford",
   "metadata": {},
   "source": [
    "### 2.4 시작 토큰과 종료 토큰 추가\n",
    "- 시작 토큰은 sostoken, 종료 토큰은 eostoken이라 임의로 정하고 앞, 뒤로 추가함.\n",
    "- 디코더의 입력에 해당하면서 시작 토큰이 맨 앞에 있는 문장의 이름을 decoder_input\n",
    "- 디코더의 출력 또는 레이블에 해당되면서 종료 토큰이 맨 뒤에 붙는 문장의 이름을 decoder_target이라고 이름을 정함.\n"
   ]
  },
  {
   "cell_type": "code",
   "execution_count": 19,
   "id": "received-jewelry",
   "metadata": {},
   "outputs": [
    {
     "data": {
      "text/html": [
       "<div>\n",
       "<style scoped>\n",
       "    .dataframe tbody tr th:only-of-type {\n",
       "        vertical-align: middle;\n",
       "    }\n",
       "\n",
       "    .dataframe tbody tr th {\n",
       "        vertical-align: top;\n",
       "    }\n",
       "\n",
       "    .dataframe thead th {\n",
       "        text-align: right;\n",
       "    }\n",
       "</style>\n",
       "<table border=\"1\" class=\"dataframe\">\n",
       "  <thead>\n",
       "    <tr style=\"text-align: right;\">\n",
       "      <th></th>\n",
       "      <th>headlines</th>\n",
       "      <th>text</th>\n",
       "      <th>decoder_input</th>\n",
       "      <th>decoder_target</th>\n",
       "    </tr>\n",
       "  </thead>\n",
       "  <tbody>\n",
       "    <tr>\n",
       "      <th>0</th>\n",
       "      <td>upgrad learner switches to career in ml al wit...</td>\n",
       "      <td>saurav kant alumnus upgrad iiit pg program mac...</td>\n",
       "      <td>sostoken upgrad learner switches to career in ...</td>\n",
       "      <td>upgrad learner switches to career in ml al wit...</td>\n",
       "    </tr>\n",
       "    <tr>\n",
       "      <th>1</th>\n",
       "      <td>delhi techie wins free food from swiggy for on...</td>\n",
       "      <td>kunal shah credit card bill payment platform c...</td>\n",
       "      <td>sostoken delhi techie wins free food from swig...</td>\n",
       "      <td>delhi techie wins free food from swiggy for on...</td>\n",
       "    </tr>\n",
       "    <tr>\n",
       "      <th>2</th>\n",
       "      <td>new zealand end rohit sharma led india match w...</td>\n",
       "      <td>new zealand defeated india wickets fourth odi ...</td>\n",
       "      <td>sostoken new zealand end rohit sharma led indi...</td>\n",
       "      <td>new zealand end rohit sharma led india match w...</td>\n",
       "    </tr>\n",
       "    <tr>\n",
       "      <th>3</th>\n",
       "      <td>aegon life iterm insurance plan helps customer...</td>\n",
       "      <td>aegon life iterm insurance plan customers enjo...</td>\n",
       "      <td>sostoken aegon life iterm insurance plan helps...</td>\n",
       "      <td>aegon life iterm insurance plan helps customer...</td>\n",
       "    </tr>\n",
       "    <tr>\n",
       "      <th>4</th>\n",
       "      <td>have known hirani for yrs what if metoo claims...</td>\n",
       "      <td>speaking sexual harassment allegations rajkuma...</td>\n",
       "      <td>sostoken have known hirani for yrs what if met...</td>\n",
       "      <td>have known hirani for yrs what if metoo claims...</td>\n",
       "    </tr>\n",
       "  </tbody>\n",
       "</table>\n",
       "</div>"
      ],
      "text/plain": [
       "                                           headlines  \\\n",
       "0  upgrad learner switches to career in ml al wit...   \n",
       "1  delhi techie wins free food from swiggy for on...   \n",
       "2  new zealand end rohit sharma led india match w...   \n",
       "3  aegon life iterm insurance plan helps customer...   \n",
       "4  have known hirani for yrs what if metoo claims...   \n",
       "\n",
       "                                                text  \\\n",
       "0  saurav kant alumnus upgrad iiit pg program mac...   \n",
       "1  kunal shah credit card bill payment platform c...   \n",
       "2  new zealand defeated india wickets fourth odi ...   \n",
       "3  aegon life iterm insurance plan customers enjo...   \n",
       "4  speaking sexual harassment allegations rajkuma...   \n",
       "\n",
       "                                       decoder_input  \\\n",
       "0  sostoken upgrad learner switches to career in ...   \n",
       "1  sostoken delhi techie wins free food from swig...   \n",
       "2  sostoken new zealand end rohit sharma led indi...   \n",
       "3  sostoken aegon life iterm insurance plan helps...   \n",
       "4  sostoken have known hirani for yrs what if met...   \n",
       "\n",
       "                                      decoder_target  \n",
       "0  upgrad learner switches to career in ml al wit...  \n",
       "1  delhi techie wins free food from swiggy for on...  \n",
       "2  new zealand end rohit sharma led india match w...  \n",
       "3  aegon life iterm insurance plan helps customer...  \n",
       "4  have known hirani for yrs what if metoo claims...  "
      ]
     },
     "execution_count": 19,
     "metadata": {},
     "output_type": "execute_result"
    }
   ],
   "source": [
    "#headlines 데이터에 시작 토큰과 종료 토큰을 추가.\n",
    "data['decoder_input'] = data['headlines'].apply(lambda x : 'sostoken '+ x)\n",
    "data['decoder_target'] = data['headlines'].apply(lambda x : x + ' eostoken')\n",
    "data.head()"
   ]
  },
  {
   "cell_type": "code",
   "execution_count": 20,
   "id": "qualified-heavy",
   "metadata": {},
   "outputs": [],
   "source": [
    "#인코더의 입력, 디코더의 입력 후 레이블을 다시 numpy 타입으로 저장.\n",
    "\n",
    "#인코더의 입력\n",
    "encoder_input = np.array(data['text']) \n",
    "\n",
    "#디코더의 입력\n",
    "decoder_input = np.array(data['decoder_input']) \n",
    "\n",
    "#디코더의 레이블\n",
    "decoder_target = np.array(data['decoder_target']) "
   ]
  },
  {
   "cell_type": "markdown",
   "id": "saving-funds",
   "metadata": {},
   "source": [
    "### 2.5 데이터셋 분리\n",
    "- 훈련 데이터와 테스트 데이터 분리.\n",
    "- 직접 코딩을 통해 분리할 예정."
   ]
  },
  {
   "cell_type": "code",
   "execution_count": 21,
   "id": "sharp-national",
   "metadata": {},
   "outputs": [
    {
     "name": "stdout",
     "output_type": "stream",
     "text": [
      "[46844 24653 21980 ...  5902 72806 57833]\n",
      "indices len : 97863\n"
     ]
    }
   ],
   "source": [
    "#encoder_input과 크기, 형태가 같은 순서가 섞인 정수 시퀀스를 형성.\n",
    "indices = np.arange(encoder_input.shape[0])\n",
    "np.random.shuffle(indices)\n",
    "print(indices)\n",
    "print('indices len :', len(indices))"
   ]
  },
  {
   "cell_type": "code",
   "execution_count": 22,
   "id": "designing-consumption",
   "metadata": {},
   "outputs": [],
   "source": [
    "#위의 정수 시퀀스를 이용해 데이터 샘플 순서를 정의하여 샘플을 섞음.\n",
    "encoder_input = encoder_input[indices]\n",
    "decoder_input = decoder_input[indices]\n",
    "decoder_target = decoder_target[indices]"
   ]
  },
  {
   "cell_type": "code",
   "execution_count": 23,
   "id": "realistic-overview",
   "metadata": {},
   "outputs": [
    {
     "name": "stdout",
     "output_type": "stream",
     "text": [
      "테스트 데이터의 수 : 19572\n"
     ]
    }
   ],
   "source": [
    "#섞은 데이터를 8:2의 비율로 분리\n",
    "#전체 데이터의 크기에서 0.2를 곱해 테스트 데이터의 크기를 정의.\n",
    "\n",
    "n_of_val = int(len(encoder_input)*0.2)\n",
    "print('테스트 데이터의 수 :', n_of_val)"
   ]
  },
  {
   "cell_type": "code",
   "execution_count": 24,
   "id": "behind-scanning",
   "metadata": {},
   "outputs": [
    {
     "name": "stdout",
     "output_type": "stream",
     "text": [
      "훈련 데이터의 개수 : 78291\n",
      "훈련 레이블의 개수 : 78291\n",
      "테스트 데이터의 개수 : 19572\n",
      "테스트 레이블의 개수 : 19572\n"
     ]
    }
   ],
   "source": [
    "#위에서 정의한 테스트 데이터의 개수를 이용해 전체 데이터를 양분\n",
    "\n",
    "encoder_input_train = encoder_input[:-n_of_val]\n",
    "decoder_input_train = decoder_input[:-n_of_val]\n",
    "decoder_target_train = decoder_target[:-n_of_val]\n",
    "\n",
    "encoder_input_test = encoder_input[-n_of_val:]\n",
    "decoder_input_test = decoder_input[-n_of_val:]\n",
    "decoder_target_test = decoder_target[-n_of_val:]\n",
    "\n",
    "print('훈련 데이터의 개수 :', len(encoder_input_train))\n",
    "print('훈련 레이블의 개수 :', len(decoder_input_train))\n",
    "print('테스트 데이터의 개수 :', len(encoder_input_test))\n",
    "print('테스트 레이블의 개수 :', len(decoder_input_test))"
   ]
  },
  {
   "cell_type": "markdown",
   "id": "sophisticated-liquid",
   "metadata": {},
   "source": [
    "### 2.6 단어 집합(vocabulary) 생성 및 정수 인코딩\n",
    "- 단어 집합 : 각 단어에 고유한 정수 맵핑\n",
    "- Keras의 토크나이저를 사용하면, 입력된 훈련 데이터로부터 단어 집합을 만들 수 있음."
   ]
  },
  {
   "cell_type": "markdown",
   "id": "floral-bundle",
   "metadata": {},
   "source": [
    "#### - 텍스트 단어 집합 만들기"
   ]
  },
  {
   "cell_type": "code",
   "execution_count": 25,
   "id": "statutory-butler",
   "metadata": {},
   "outputs": [],
   "source": [
    "#토크나이저 정의\n",
    "src_tokenizer = Tokenizer() \n",
    "\n",
    "#입력된 데이터로부터 단어 집합 생성\n",
    "src_tokenizer.fit_on_texts(encoder_input_train) "
   ]
  },
  {
   "cell_type": "code",
   "execution_count": 26,
   "id": "stylish-taylor",
   "metadata": {},
   "outputs": [
    {
     "name": "stdout",
     "output_type": "stream",
     "text": [
      "단어 집합(vocabulary)의 크기 : 69257\n",
      "등장 빈도가 6번 이하인 희귀 단어의 수: 47128\n",
      "단어 집합에서 희귀 단어를 제외시킬 경우의 단어 집합의 크기 22129\n",
      "단어 집합에서 희귀 단어의 비율: 68.04799514850485\n",
      "전체 등장 빈도에서 희귀 단어 등장 빈도 비율: 3.479532089180063\n"
     ]
    }
   ],
   "source": [
    "#빈도수가 낮은 단어들은 훈련 데이터에서 제외하고 진행.\n",
    "\n",
    "#등장 빈도수가 7회 미만인 단어들이 데이터에서 얼마나 차지하는지 확인\n",
    "#src_tokenizer.word_counts.items()로 통계적인 정보를 얻을 수 있음.\n",
    "\n",
    "threshold = 7\n",
    "total_cnt = len(src_tokenizer.word_index) #단어의 수\n",
    "rare_cnt = 0 #등장 빈도수가 threshold보다 작은 단어의 개수를 카운트\n",
    "total_freq = 0 #훈련 데이터의 전체 단어 빈도수 총 합\n",
    "rare_freq = 0 #등장 빈도수가 threshold보다 작은 단어의 등장 빈도수의 총 합\n",
    "\n",
    "#단어와 빈도수의 쌍(pair)을 key와 value로 받음.\n",
    "for key, value in src_tokenizer.word_counts.items():\n",
    "    total_freq = total_freq + value\n",
    "\n",
    "    #단어의 등장 빈도수가 threshold보다 작을 때\n",
    "    if(value < threshold):\n",
    "        rare_cnt = rare_cnt + 1\n",
    "        rare_freq = rare_freq + value\n",
    "\n",
    "print('단어 집합(vocabulary)의 크기 :', total_cnt)\n",
    "print('등장 빈도가 %s번 이하인 희귀 단어의 수: %s'%(threshold - 1, rare_cnt))\n",
    "print('단어 집합에서 희귀 단어를 제외시킬 경우의 단어 집합의 크기 %s'%(total_cnt - rare_cnt))\n",
    "print(\"단어 집합에서 희귀 단어의 비율:\", (rare_cnt / total_cnt)*100)\n",
    "print(\"전체 등장 빈도에서 희귀 단어 등장 빈도 비율:\", (rare_freq / total_freq)*100)"
   ]
  },
  {
   "cell_type": "markdown",
   "id": "suburban-secondary",
   "metadata": {},
   "source": [
    "- 단어 집합(vocabulary)의 크기는 약 7만임.\n",
    "- 등장 빈도가 threshold 값인 7회 미만, 즉, 6회 이하인 단어들은 단어 집합에서 약 68%를 차지함.\n",
    "- 실제로 훈련 데이터에서 등장 빈도로 차지하는 비중은 상대적으로 적은 수치인 약 3.5%임.\n",
    "- 등장 빈도가 6회 이하인 단어들은 정수 인코딩 과정에서 빼고, 훈련 데이터에서 제거하는 것이 좋음."
   ]
  },
  {
   "cell_type": "code",
   "execution_count": 27,
   "id": "secondary-roads",
   "metadata": {},
   "outputs": [],
   "source": [
    "#위에서 제외한 단어 집합 크기를 약 2만 2천여개로 계산했는데 이와 비슷한 값으로 단어 집합 크기를 제한할 것.\n",
    "#토크나이저 정의 시 num_words의 값을 정하면 단어 집합의 크기를 제한할 수 있음.\n",
    "\n",
    "src_vocab = 22000\n",
    "\n",
    "#단어 집합의 크기를 22,000으로 제한\n",
    "src_tokenizer = Tokenizer(num_words=src_vocab) \n",
    "\n",
    "#단어 집합 재생성.\n",
    "src_tokenizer.fit_on_texts(encoder_input_train) "
   ]
  },
  {
   "cell_type": "code",
   "execution_count": 28,
   "id": "patient-huntington",
   "metadata": {},
   "outputs": [
    {
     "name": "stdout",
     "output_type": "stream",
     "text": [
      "[[2604, 2724, 18277, 764, 3, 13, 19, 198, 1532, 9109, 3601, 6170, 1219, 5, 8141, 80, 1902, 88, 28, 267, 5315, 18278, 228, 198, 1219, 18277, 1532, 1500, 855, 29, 3, 19, 1902, 592], [132, 708, 2754, 313, 837, 3211, 3982, 2466, 5259, 440, 4834, 107, 1450, 440, 3295, 107, 5925, 15963, 908, 2466, 263, 3982, 7776, 794, 1670, 2228, 949, 108, 837, 1484, 1257, 3128, 9275, 432], [653, 222, 252, 97, 124, 5467, 2652, 970, 3423, 695, 105, 196, 309, 1, 516, 1, 2618, 927, 759, 4, 1116, 271, 5806, 1275, 1046, 653, 277, 11234, 1]]\n"
     ]
    }
   ],
   "source": [
    "#텍스트 시퀀스를 정수 시퀀스로 변환\n",
    "encoder_input_train = src_tokenizer.texts_to_sequences(encoder_input_train) \n",
    "encoder_input_test = src_tokenizer.texts_to_sequences(encoder_input_test)\n",
    "\n",
    "#잘 진행되었는지 샘플 출력\n",
    "print(encoder_input_train[:3])"
   ]
  },
  {
   "cell_type": "markdown",
   "id": "wooden-production",
   "metadata": {},
   "source": [
    "- texts_to_sequences()는 생성된 단어 집합에 기반하여 입력으로 주어진 텍스트 데이터의 단어들을 모두 정수로 변환하는 정수 인코딩을 수행.\n",
    "- 22,000이 넘는 숫자들은 정수 인코딩 후에는 데이터에 존재하지 않게 됨."
   ]
  },
  {
   "cell_type": "markdown",
   "id": "matched-parade",
   "metadata": {},
   "source": [
    "#### - headlines 단어 집합 만들기"
   ]
  },
  {
   "cell_type": "code",
   "execution_count": 29,
   "id": "sticky-length",
   "metadata": {},
   "outputs": [],
   "source": [
    "tar_tokenizer = Tokenizer()\n",
    "tar_tokenizer.fit_on_texts(decoder_input_train)"
   ]
  },
  {
   "cell_type": "code",
   "execution_count": 30,
   "id": "former-consciousness",
   "metadata": {},
   "outputs": [
    {
     "name": "stdout",
     "output_type": "stream",
     "text": [
      "단어 집합(vocabulary)의 크기 : 29989\n",
      "등장 빈도가 6번 이하인 희귀 단어의 수: 20475\n",
      "단어 집합에서 희귀 단어를 제외시킬 경우의 단어 집합의 크기 9514\n",
      "단어 집합에서 희귀 단어의 비율: 68.27503417919904\n",
      "전체 등장 빈도에서 희귀 단어 등장 빈도 비율: 5.305387809313382\n"
     ]
    }
   ],
   "source": [
    "hreshold = 6\n",
    "total_cnt = len(tar_tokenizer.word_index) #단어의 수\n",
    "rare_cnt = 0 #등장 빈도수가 threshold보다 작은 단어의 개수를 카운트\n",
    "total_freq = 0 #훈련 데이터의 전체 단어 빈도수 총 합\n",
    "rare_freq = 0 #등장 빈도수가 threshold보다 작은 단어의 등장 빈도수의 총 합\n",
    "\n",
    "#단어와 빈도수의 쌍(pair)을 key와 value로 받음.\n",
    "for key, value in tar_tokenizer.word_counts.items():\n",
    "    total_freq = total_freq + value\n",
    "\n",
    "    #단어의 등장 빈도수가 threshold보다 작을 때\n",
    "    if(value < threshold):\n",
    "        rare_cnt = rare_cnt + 1\n",
    "        rare_freq = rare_freq + value\n",
    "\n",
    "print('단어 집합(vocabulary)의 크기 :', total_cnt)\n",
    "print('등장 빈도가 %s번 이하인 희귀 단어의 수: %s'%(threshold - 1, rare_cnt))\n",
    "print('단어 집합에서 희귀 단어를 제외시킬 경우의 단어 집합의 크기 %s'%(total_cnt - rare_cnt))\n",
    "print(\"단어 집합에서 희귀 단어의 비율:\", (rare_cnt / total_cnt)*100)\n",
    "print(\"전체 등장 빈도에서 희귀 단어 등장 빈도 비율:\", (rare_freq / total_freq)*100)"
   ]
  },
  {
   "cell_type": "markdown",
   "id": "vocal-addiction",
   "metadata": {},
   "source": [
    "- 단어 집합(vocabulary)의 크기는 약 3만임.\n",
    "- 등장 빈도가 threshold 값인 6회 미만, 즉, 5회 이하인 단어들은 단어 집합에서 약 68%를 차지함.\n",
    "- 전체 등장 빈도에서 희귀 단어 등장 빈도 비율은 약 5.3%임.\n",
    "- 등장 빈도가 5회 이하인 단어들은 정수 인코딩 과정에서 빼고, 훈련 데이터에서 제거하는 것이 좋음."
   ]
  },
  {
   "cell_type": "code",
   "execution_count": 31,
   "id": "applicable-conditioning",
   "metadata": {},
   "outputs": [
    {
     "name": "stdout",
     "output_type": "stream",
     "text": [
      "input : \n",
      "input  [[1, 61, 26, 313, 4, 1670, 431, 61, 26, 29, 108], [1, 410, 1818, 53, 4983, 1965, 5392, 4, 1168, 5890], [1, 362, 396, 72, 466, 179, 18, 76, 338, 81, 323], [1, 2837, 1045, 1520, 1392, 1929, 1348, 9, 3895], [1, 8751, 3086, 8172, 292, 7668, 118, 1255, 2626]]\n",
      "target : \n",
      "decoder  [[61, 26, 313, 4, 1670, 431, 61, 26, 29, 108, 2], [410, 1818, 53, 4983, 1965, 5392, 4, 1168, 5890, 2], [362, 396, 72, 466, 179, 18, 76, 338, 81, 323, 2], [2837, 1045, 1520, 1392, 1929, 1348, 9, 3895, 2], [8751, 3086, 8172, 292, 7668, 118, 1255, 2626, 2]]\n"
     ]
    }
   ],
   "source": [
    "#위에서 제외한 단어 집합 크기를 약 9천5백개로 계산했는데 이와 비슷한 값으로 단어 집합 크기를 제한할 것.\n",
    "tar_vocab = 9500\n",
    "tar_tokenizer = Tokenizer(num_words=tar_vocab) \n",
    "tar_tokenizer.fit_on_texts(decoder_input_train)\n",
    "tar_tokenizer.fit_on_texts(decoder_target_train)\n",
    "\n",
    "#텍스트 시퀀스를 정수 시퀀스로 변환\n",
    "decoder_input_train = tar_tokenizer.texts_to_sequences(decoder_input_train) \n",
    "decoder_target_train = tar_tokenizer.texts_to_sequences(decoder_target_train)\n",
    "decoder_input_test = tar_tokenizer.texts_to_sequences(decoder_input_test)\n",
    "decoder_target_test = tar_tokenizer.texts_to_sequences(decoder_target_test)\n",
    "\n",
    "#잘 변환되었는지 확인\n",
    "print('input : ')\n",
    "print('input ',decoder_input_train[:5])\n",
    "print('target : ')\n",
    "print('decoder ',decoder_target_train[:5])"
   ]
  },
  {
   "cell_type": "markdown",
   "id": "standard-athens",
   "metadata": {},
   "source": [
    "- 전체 데이터에서 빈도수가 낮은 단어가 삭제되었다는 것은 빈도수가 낮은 단어만으로 구성되었던 샘플들은 이제 빈(empty) 샘플이 되었을 가능성이 있음.\n",
    "- 평균 길이가 짧았던 headline은 더욱 심할 것.\n",
    "- decoder_input에는 sostoken 또는 decoder_target에는 eostoken이 추가된 상태이고, 이 두 토큰은 모든 샘플에서 등장하므로 빈도수가 샘플 수와 동일하게 매우 높으므로 단어 집합 제한에도 삭제되지 않음. 그래서 이제 길이가 0이 된 요약문의 실제 길이는 1로 나올 것."
   ]
  },
  {
   "cell_type": "code",
   "execution_count": 32,
   "id": "equipped-induction",
   "metadata": {},
   "outputs": [
    {
     "name": "stdout",
     "output_type": "stream",
     "text": [
      "삭제할 훈련 데이터의 개수 : 1\n",
      "삭제할 테스트 데이터의 개수 : 0\n"
     ]
    },
    {
     "name": "stderr",
     "output_type": "stream",
     "text": [
      "/opt/conda/lib/python3.7/site-packages/numpy/core/_asarray.py:83: VisibleDeprecationWarning: Creating an ndarray from ragged nested sequences (which is a list-or-tuple of lists-or-tuples-or ndarrays with different lengths or shapes) is deprecated. If you meant to do this, you must specify 'dtype=object' when creating the ndarray\n",
      "  return array(a, dtype, copy=False, order=order)\n"
     ]
    },
    {
     "name": "stdout",
     "output_type": "stream",
     "text": [
      "훈련 데이터의 개수 : 78290\n",
      "훈련 레이블의 개수 : 78290\n",
      "테스트 데이터의 개수 : 19572\n",
      "테스트 레이블의 개수 : 19572\n"
     ]
    }
   ],
   "source": [
    "#요약문에서 길이가 0이 된 샘플들의 인덱스를 받아 \n",
    "#훈련 데이터와 테스트 데이터에 대해서 요약문의 길이가 1인 경우의 인덱스를 \n",
    "#각각 drop_train과 drop_test에 라는 변수에 저장 후 이 샘플들을 모두 삭제.\n",
    "\n",
    "drop_train = [index for index, sentence in enumerate(decoder_input_train) if len(sentence) == 1]\n",
    "drop_test = [index for index, sentence in enumerate(decoder_input_test) if len(sentence) == 1]\n",
    "\n",
    "print('삭제할 훈련 데이터의 개수 :', len(drop_train))\n",
    "print('삭제할 테스트 데이터의 개수 :', len(drop_test))\n",
    "\n",
    "encoder_input_train = np.delete(encoder_input_train, drop_train, axis=0)\n",
    "decoder_input_train = np.delete(decoder_input_train, drop_train, axis=0)\n",
    "decoder_target_train = np.delete(decoder_target_train, drop_train, axis=0)\n",
    "\n",
    "encoder_input_test = np.delete(encoder_input_test, drop_test, axis=0)\n",
    "decoder_input_test = np.delete(decoder_input_test, drop_test, axis=0)\n",
    "decoder_target_test = np.delete(decoder_target_test, drop_test, axis=0)\n",
    "\n",
    "print('훈련 데이터의 개수 :', len(encoder_input_train))\n",
    "print('훈련 레이블의 개수 :', len(decoder_input_train))\n",
    "print('테스트 데이터의 개수 :', len(encoder_input_test))\n",
    "print('테스트 레이블의 개수 :', len(decoder_input_test))"
   ]
  },
  {
   "cell_type": "markdown",
   "id": "valuable-presentation",
   "metadata": {},
   "source": [
    "### 2.7 패딩하기"
   ]
  },
  {
   "cell_type": "code",
   "execution_count": 34,
   "id": "ongoing-fancy",
   "metadata": {},
   "outputs": [],
   "source": [
    "#서로 다른 길이의 샘플들을 병렬 처리하기 위해 같은 길이로 맞춰줌.\n",
    "#최대 길이보다 짧은 데이터들은 뒤의 공간에 숫자 0을 넣어 최대 길이로 길이를 맞춤.\n",
    "\n",
    "encoder_input_train = pad_sequences(encoder_input_train, maxlen=text_max_len, padding='post')\n",
    "encoder_input_test = pad_sequences(encoder_input_test, maxlen=text_max_len, padding='post')\n",
    "decoder_input_train = pad_sequences(decoder_input_train, maxlen=headlines_max_len, padding='post')\n",
    "decoder_target_train = pad_sequences(decoder_target_train, maxlen=headlines_max_len, padding='post')\n",
    "decoder_input_test = pad_sequences(decoder_input_test, maxlen=headlines_max_len, padding='post')\n",
    "decoder_target_test = pad_sequences(decoder_target_test, maxlen=headlines_max_len, padding='post')"
   ]
  },
  {
   "cell_type": "markdown",
   "id": "differential-league",
   "metadata": {},
   "source": [
    "## 3. 모델 설계"
   ]
  },
  {
   "cell_type": "code",
   "execution_count": 35,
   "id": "bearing-metallic",
   "metadata": {},
   "outputs": [
    {
     "name": "stdout",
     "output_type": "stream",
     "text": [
      "WARNING:tensorflow:Layer lstm will not use cuDNN kernel since it doesn't meet the cuDNN kernel criteria. It will use generic GPU kernel as fallback when running on GPU\n",
      "WARNING:tensorflow:Layer lstm_1 will not use cuDNN kernel since it doesn't meet the cuDNN kernel criteria. It will use generic GPU kernel as fallback when running on GPU\n",
      "WARNING:tensorflow:Layer lstm_2 will not use cuDNN kernel since it doesn't meet the cuDNN kernel criteria. It will use generic GPU kernel as fallback when running on GPU\n"
     ]
    }
   ],
   "source": [
    "from tensorflow.keras.layers import Input, LSTM, Embedding, Dense, Concatenate\n",
    "from tensorflow.keras.models import Model\n",
    "from tensorflow.keras.callbacks import EarlyStopping, ModelCheckpoint\n",
    "\n",
    "\n",
    "#인코더 설계 시작\n",
    "#임베딩 벡터의 차원은 128로 정의하고, hidden state의 크기를 256으로 정의\n",
    "embedding_dim = 128\n",
    "hidden_size = 256   # hidden state는 LSTM에서 얼만큼의 수용력(capacity)를 가질지를 정하는 파라미터\n",
    "                    #이 파라미터는 LSTM의 용량의 크기나, LSTM에서의 뉴런의 개수로 이해하면 됨.\n",
    "#인코더\n",
    "encoder_inputs = Input(shape=(text_max_len,))\n",
    "\n",
    "#인코더의 임베딩 층\n",
    "enc_emb = Embedding(src_vocab, embedding_dim)(encoder_inputs)\n",
    "\n",
    "#인코더의 LSTM은 총 3개의 층으로 구성해서 모델의 복잡도를 높임.\n",
    "#인코더의 LSTM 1\n",
    "encoder_lstm1 = LSTM(hidden_size, return_sequences=True, return_state=True ,dropout = 0.4, recurrent_dropout = 0.4)\n",
    "encoder_output1, state_h1, state_c1 = encoder_lstm1(enc_emb)\n",
    "\n",
    "#인코더의 LSTM 2\n",
    "encoder_lstm2 = LSTM(hidden_size, return_sequences=True, return_state=True, dropout=0.4, recurrent_dropout=0.4)\n",
    "encoder_output2, state_h2, state_c2 = encoder_lstm2(encoder_output1)\n",
    "\n",
    "#인코더의 LSTM 3\n",
    "encoder_lstm3 = LSTM(hidden_size, return_state=True, return_sequences=True, dropout=0.4, recurrent_dropout=0.4)\n",
    "encoder_outputs, state_h, state_c= encoder_lstm3(encoder_output2)"
   ]
  },
  {
   "cell_type": "code",
   "execution_count": 36,
   "id": "capable-mississippi",
   "metadata": {},
   "outputs": [
    {
     "name": "stdout",
     "output_type": "stream",
     "text": [
      "WARNING:tensorflow:Layer lstm_3 will not use cuDNN kernel since it doesn't meet the cuDNN kernel criteria. It will use generic GPU kernel as fallback when running on GPU\n"
     ]
    }
   ],
   "source": [
    "#디코더의 임베딩 층과 LSTM을 설계하는 것은 인코더와 거의 동일함.\n",
    "#LSTM 입력 정의 시 initial_state의 인자값으로 인코더의 hidden state와 ceel state의 값을 넣어줘야 함.\n",
    "\n",
    "#디코더 설계\n",
    "decoder_inputs = Input(shape=(None,))\n",
    "\n",
    "#디코더의 임베딩 층\n",
    "dec_emb_layer = Embedding(tar_vocab, embedding_dim)\n",
    "dec_emb = dec_emb_layer(decoder_inputs)\n",
    "\n",
    "#디코더의 LSTM\n",
    "decoder_lstm = LSTM(hidden_size, return_sequences=True, return_state=True, dropout=0.4, recurrent_dropout=0.2)\n",
    "decoder_outputs, _, _ = decoder_lstm(dec_emb, initial_state=[state_h, state_c])"
   ]
  },
  {
   "cell_type": "code",
   "execution_count": 37,
   "id": "extended-responsibility",
   "metadata": {},
   "outputs": [
    {
     "name": "stdout",
     "output_type": "stream",
     "text": [
      "Model: \"model\"\n",
      "__________________________________________________________________________________________________\n",
      "Layer (type)                    Output Shape         Param #     Connected to                     \n",
      "==================================================================================================\n",
      "input_1 (InputLayer)            [(None, 45)]         0                                            \n",
      "__________________________________________________________________________________________________\n",
      "embedding (Embedding)           (None, 45, 128)      2816000     input_1[0][0]                    \n",
      "__________________________________________________________________________________________________\n",
      "lstm (LSTM)                     [(None, 45, 256), (N 394240      embedding[0][0]                  \n",
      "__________________________________________________________________________________________________\n",
      "input_2 (InputLayer)            [(None, None)]       0                                            \n",
      "__________________________________________________________________________________________________\n",
      "lstm_1 (LSTM)                   [(None, 45, 256), (N 525312      lstm[0][0]                       \n",
      "__________________________________________________________________________________________________\n",
      "embedding_1 (Embedding)         (None, None, 128)    1216000     input_2[0][0]                    \n",
      "__________________________________________________________________________________________________\n",
      "lstm_2 (LSTM)                   [(None, 45, 256), (N 525312      lstm_1[0][0]                     \n",
      "__________________________________________________________________________________________________\n",
      "lstm_3 (LSTM)                   [(None, None, 256),  394240      embedding_1[0][0]                \n",
      "                                                                 lstm_2[0][1]                     \n",
      "                                                                 lstm_2[0][2]                     \n",
      "__________________________________________________________________________________________________\n",
      "dense (Dense)                   (None, None, 9500)   2441500     lstm_3[0][0]                     \n",
      "==================================================================================================\n",
      "Total params: 8,312,604\n",
      "Trainable params: 8,312,604\n",
      "Non-trainable params: 0\n",
      "__________________________________________________________________________________________________\n"
     ]
    }
   ],
   "source": [
    "#디코더의 출력층\n",
    "decoder_softmax_layer = Dense(tar_vocab, activation='softmax')\n",
    "decoder_softmax_outputs = decoder_softmax_layer(decoder_outputs) \n",
    "\n",
    "#모델 정의\n",
    "model = Model([encoder_inputs, decoder_inputs], decoder_softmax_outputs)\n",
    "model.summary()"
   ]
  },
  {
   "cell_type": "markdown",
   "id": "funny-italy",
   "metadata": {},
   "source": [
    "- 디코더의 출력층에서는 Summary의 단어장인 tar_vocab의 수많은 선택지 중 하나의 단어를 선택하는 다중 클래스 분류 문제를 풀어야하기 때문에 Dense의 인자로 tar_vocab을 주고, 활성화 함수로 소프트맥스 함수를 사용함.\n",
    "\n",
    "- 지금까지 설계한 것은 인코더의 hidden state와 cell state를 디코더의 초기 state로 사용하는 가장 기본적인 seq2seq임."
   ]
  },
  {
   "cell_type": "markdown",
   "id": "packed-poland",
   "metadata": {},
   "source": [
    "## 4. 어텐션 메커니즘 (추상적 요약)\n",
    "- 디코더의 출력층을 설계를 살짝 바꿔서 성능을 높일 수 있는 방법이지만 또 다른 새로운 신경망을 설계해야 한다는 뜻이기도 함."
   ]
  },
  {
   "cell_type": "code",
   "execution_count": 38,
   "id": "surprised-elevation",
   "metadata": {},
   "outputs": [],
   "source": [
    "#깃허브에 공개 되어 있는 어텐션 함수 다운\n",
    "urllib.request.urlretrieve(\"https://raw.githubusercontent.com/thushv89/attention_keras/master/src/layers/attention.py\", filename=\"attention.py\")\n",
    "from attention import AttentionLayer"
   ]
  },
  {
   "cell_type": "code",
   "execution_count": 39,
   "id": "premier-jefferson",
   "metadata": {},
   "outputs": [
    {
     "name": "stdout",
     "output_type": "stream",
     "text": [
      "Model: \"model_1\"\n",
      "__________________________________________________________________________________________________\n",
      "Layer (type)                    Output Shape         Param #     Connected to                     \n",
      "==================================================================================================\n",
      "input_1 (InputLayer)            [(None, 45)]         0                                            \n",
      "__________________________________________________________________________________________________\n",
      "embedding (Embedding)           (None, 45, 128)      2816000     input_1[0][0]                    \n",
      "__________________________________________________________________________________________________\n",
      "lstm (LSTM)                     [(None, 45, 256), (N 394240      embedding[0][0]                  \n",
      "__________________________________________________________________________________________________\n",
      "input_2 (InputLayer)            [(None, None)]       0                                            \n",
      "__________________________________________________________________________________________________\n",
      "lstm_1 (LSTM)                   [(None, 45, 256), (N 525312      lstm[0][0]                       \n",
      "__________________________________________________________________________________________________\n",
      "embedding_1 (Embedding)         (None, None, 128)    1216000     input_2[0][0]                    \n",
      "__________________________________________________________________________________________________\n",
      "lstm_2 (LSTM)                   [(None, 45, 256), (N 525312      lstm_1[0][0]                     \n",
      "__________________________________________________________________________________________________\n",
      "lstm_3 (LSTM)                   [(None, None, 256),  394240      embedding_1[0][0]                \n",
      "                                                                 lstm_2[0][1]                     \n",
      "                                                                 lstm_2[0][2]                     \n",
      "__________________________________________________________________________________________________\n",
      "attention_layer (AttentionLayer ((None, None, 256),  131328      lstm_2[0][0]                     \n",
      "                                                                 lstm_3[0][0]                     \n",
      "__________________________________________________________________________________________________\n",
      "concat_layer (Concatenate)      (None, None, 512)    0           lstm_3[0][0]                     \n",
      "                                                                 attention_layer[0][0]            \n",
      "__________________________________________________________________________________________________\n",
      "dense_1 (Dense)                 (None, None, 9500)   4873500     concat_layer[0][0]               \n",
      "==================================================================================================\n",
      "Total params: 10,875,932\n",
      "Trainable params: 10,875,932\n",
      "Non-trainable params: 0\n",
      "__________________________________________________________________________________________________\n"
     ]
    }
   ],
   "source": [
    "###디코더의 출력층 수정\n",
    "\n",
    "# 어텐션 층(어텐션 함수)\n",
    "attn_layer = AttentionLayer(name='attention_layer')\n",
    "# 인코더와 디코더의 모든 time step의 hidden state를 어텐션 층에 전달하고 결과를 리턴\n",
    "attn_out, attn_states = attn_layer([encoder_outputs, decoder_outputs])\n",
    "\n",
    "# 어텐션의 결과와 디코더의 hidden state들을 연결\n",
    "decoder_concat_input = Concatenate(axis=-1, name='concat_layer')([decoder_outputs, attn_out])\n",
    "\n",
    "# 디코더의 출력층\n",
    "decoder_softmax_layer = Dense(tar_vocab, activation='softmax')\n",
    "decoder_softmax_outputs = decoder_softmax_layer(decoder_concat_input)\n",
    "\n",
    "# 모델 정의\n",
    "model = Model([encoder_inputs, decoder_inputs], decoder_softmax_outputs)\n",
    "model.summary()"
   ]
  },
  {
   "cell_type": "markdown",
   "id": "handed-restaurant",
   "metadata": {},
   "source": [
    "- 위의 코드는 인코더의 hidden state들과 디코더의 hidden state들을 어텐션 함수의 입력으로 사용하고, 어텐션 함수가 리턴한 값을 예측 시에 디코더의 hidden state와 함께 활용하는 형태로 작동함."
   ]
  },
  {
   "cell_type": "markdown",
   "id": "provincial-teacher",
   "metadata": {},
   "source": [
    "## 5. 모델 훈련"
   ]
  },
  {
   "cell_type": "code",
   "execution_count": 40,
   "id": "physical-beaver",
   "metadata": {},
   "outputs": [
    {
     "name": "stdout",
     "output_type": "stream",
     "text": [
      "Epoch 1/50\n",
      "306/306 [==============================] - 236s 735ms/step - loss: 5.5862 - val_loss: 4.8140\n",
      "Epoch 2/50\n",
      "306/306 [==============================] - 223s 730ms/step - loss: 4.7464 - val_loss: 4.4315\n",
      "Epoch 3/50\n",
      "306/306 [==============================] - 221s 722ms/step - loss: 4.3677 - val_loss: 4.1709\n",
      "Epoch 4/50\n",
      "306/306 [==============================] - 221s 721ms/step - loss: 4.1048 - val_loss: 3.9941\n",
      "Epoch 5/50\n",
      "306/306 [==============================] - 222s 726ms/step - loss: 3.8985 - val_loss: 3.8706\n",
      "Epoch 6/50\n",
      "306/306 [==============================] - 221s 721ms/step - loss: 3.7253 - val_loss: 3.7657\n",
      "Epoch 7/50\n",
      "306/306 [==============================] - 220s 720ms/step - loss: 3.5900 - val_loss: 3.6765\n",
      "Epoch 8/50\n",
      "306/306 [==============================] - 221s 721ms/step - loss: 3.4653 - val_loss: 3.6156\n",
      "Epoch 9/50\n",
      "306/306 [==============================] - 221s 724ms/step - loss: 3.3634 - val_loss: 3.5531\n",
      "Epoch 10/50\n",
      "306/306 [==============================] - 220s 720ms/step - loss: 3.2714 - val_loss: 3.5018\n",
      "Epoch 11/50\n",
      "306/306 [==============================] - 221s 722ms/step - loss: 3.1826 - val_loss: 3.4622\n",
      "Epoch 12/50\n",
      "306/306 [==============================] - 220s 720ms/step - loss: 3.1025 - val_loss: 3.4272\n",
      "Epoch 13/50\n",
      "306/306 [==============================] - 221s 723ms/step - loss: 3.0370 - val_loss: 3.4020\n",
      "Epoch 14/50\n",
      "306/306 [==============================] - 221s 723ms/step - loss: 2.9804 - val_loss: 3.3766\n",
      "Epoch 15/50\n",
      "306/306 [==============================] - 220s 720ms/step - loss: 2.9209 - val_loss: 3.3554\n",
      "Epoch 16/50\n",
      "306/306 [==============================] - 221s 722ms/step - loss: 2.8580 - val_loss: 3.3362\n",
      "Epoch 17/50\n",
      "306/306 [==============================] - 220s 720ms/step - loss: 2.8105 - val_loss: 3.3197\n",
      "Epoch 18/50\n",
      "306/306 [==============================] - 221s 722ms/step - loss: 2.7643 - val_loss: 3.3057\n",
      "Epoch 19/50\n",
      "306/306 [==============================] - 220s 719ms/step - loss: 2.7180 - val_loss: 3.2921\n",
      "Epoch 20/50\n",
      "306/306 [==============================] - 222s 726ms/step - loss: 2.6814 - val_loss: 3.2816\n",
      "Epoch 21/50\n",
      "306/306 [==============================] - 222s 727ms/step - loss: 2.6421 - val_loss: 3.2722\n",
      "Epoch 22/50\n",
      "306/306 [==============================] - 221s 722ms/step - loss: 2.6009 - val_loss: 3.2640\n",
      "Epoch 23/50\n",
      "306/306 [==============================] - 221s 723ms/step - loss: 2.5726 - val_loss: 3.2537\n",
      "Epoch 24/50\n",
      "306/306 [==============================] - 223s 727ms/step - loss: 2.5362 - val_loss: 3.2546\n",
      "Epoch 25/50\n",
      "306/306 [==============================] - 222s 726ms/step - loss: 2.5031 - val_loss: 3.2490\n",
      "Epoch 26/50\n",
      "306/306 [==============================] - 222s 727ms/step - loss: 2.4764 - val_loss: 3.2450\n",
      "Epoch 27/50\n",
      "306/306 [==============================] - 223s 728ms/step - loss: 2.4510 - val_loss: 3.2363\n",
      "Epoch 28/50\n",
      "306/306 [==============================] - 222s 726ms/step - loss: 2.4227 - val_loss: 3.2415\n",
      "Epoch 29/50\n",
      "306/306 [==============================] - 222s 726ms/step - loss: 2.3970 - val_loss: 3.2395\n",
      "Epoch 00029: early stopping\n"
     ]
    }
   ],
   "source": [
    "model.compile(optimizer='rmsprop', loss='sparse_categorical_crossentropy')\n",
    "\n",
    "#val_loss(검증 데이터의 손실)을 관찰하다가, \n",
    "#검증 데이터의 손실이 줄어들지 않고 증가하는 현상이 2회(patience=2) 관측되면 학습을 멈추도록 설정\n",
    "es = EarlyStopping(monitor='val_loss', mode='min', patience=2, verbose=1)\n",
    "\n",
    "history = model.fit(x=[encoder_input_train, decoder_input_train], y=decoder_target_train, \\\n",
    "          validation_data=([encoder_input_test, decoder_input_test], decoder_target_test), \\\n",
    "          batch_size=256, callbacks=[es], epochs=50)"
   ]
  },
  {
   "cell_type": "code",
   "execution_count": 41,
   "id": "induced-vanilla",
   "metadata": {},
   "outputs": [
    {
     "data": {
      "image/png": "[encoded data removed]",
      "text/plain": [
       "<Figure size 432x288 with 1 Axes>"
      ]
     },
     "metadata": {
      "needs_background": "light"
     },
     "output_type": "display_data"
    }
   ],
   "source": [
    "#훈련 데이터의 손실과 검증 데이터의 손실이 줄어드는 과정 시각화\n",
    "plt.plot(history.history['loss'], label='train')\n",
    "plt.plot(history.history['val_loss'], label='test')\n",
    "plt.legend()\n",
    "plt.show()"
   ]
  },
  {
   "cell_type": "markdown",
   "id": "chubby-tunisia",
   "metadata": {},
   "source": [
    "## 6. 모델 테스트 : 실제 결과와 요약문 비교 (추상적 요약)"
   ]
  },
  {
   "cell_type": "markdown",
   "id": "immediate-march",
   "metadata": {},
   "source": [
    "### 6.1 인퍼런스 모델 구현하기"
   ]
  },
  {
   "cell_type": "code",
   "execution_count": 42,
   "id": "turned-norway",
   "metadata": {},
   "outputs": [],
   "source": [
    "### 필요한 사전 3개 준비\n",
    "\n",
    "#원문 단어 집합에서 정수 -> 단어를 얻음\n",
    "src_index_to_word = src_tokenizer.index_word\n",
    "\n",
    "#요약 단어 집합에서 단어 -> 정수를 얻음\n",
    "tar_word_to_index = tar_tokenizer.word_index\n",
    "\n",
    "#요약 단어 집합에서 정수 -> 단어를 얻음\n",
    "tar_index_to_word = tar_tokenizer.index_word "
   ]
  },
  {
   "cell_type": "markdown",
   "id": "working-minnesota",
   "metadata": {},
   "source": [
    "- seq2seq는 훈련할 때와 실제 동작할 때(인퍼런스 단계)의 방식이 다르므로 그에 맞게 모델 설계를 별개로 진행해야 함.\n",
    "- 정답 문장이 없는 인퍼런스 단계에서는 만들어야 할 문장의 길이만큼 디코더가 반복 구조로 동작해야 하기 때문에 부득이하게 인퍼런스를 위한 모델 설계를 별도로 해주어야 함.\n",
    "- 때문에 인코더 모델과 디더 모델을 분리해서 설계함."
   ]
  },
  {
   "cell_type": "code",
   "execution_count": 43,
   "id": "significant-father",
   "metadata": {},
   "outputs": [],
   "source": [
    "#인코더 설계\n",
    "encoder_model = Model(inputs=encoder_inputs, outputs=[encoder_outputs, state_h, state_c])\n",
    "\n",
    "#이전 시점의 상태들을 저장하는 텐서\n",
    "decoder_state_input_h = Input(shape=(hidden_size,))\n",
    "decoder_state_input_c = Input(shape=(hidden_size,))\n",
    "\n",
    "dec_emb2 = dec_emb_layer(decoder_inputs)\n",
    "\n",
    "#문장의 다음 단어를 예측하기 위해서 초기 상태(initial_state)를 이전 시점의 상태로 사용. 이는 뒤의 함수 decode_sequence()에 구현\n",
    "#훈련 과정에서와 달리 LSTM의 리턴하는 은닉 상태와 셀 상태인 state_h와 state_c를 버리지 않음.\n",
    "decoder_outputs2, state_h2, state_c2 = decoder_lstm(dec_emb2, initial_state=[decoder_state_input_h, decoder_state_input_c])"
   ]
  },
  {
   "cell_type": "code",
   "execution_count": 44,
   "id": "noted-assist",
   "metadata": {},
   "outputs": [],
   "source": [
    "### 어텐션 메커니즘 사용하는 출력층 설계\n",
    "\n",
    "#어텐션 함수\n",
    "decoder_hidden_state_input = Input(shape=(text_max_len, hidden_size))\n",
    "attn_out_inf, attn_states_inf = attn_layer([decoder_hidden_state_input, decoder_outputs2])\n",
    "decoder_inf_concat = Concatenate(axis=-1, name='concat')([decoder_outputs2, attn_out_inf])\n",
    "\n",
    "#디코더의 출력층\n",
    "decoder_outputs2 = decoder_softmax_layer(decoder_inf_concat) \n",
    "\n",
    "#최종 디코더 모델\n",
    "decoder_model = Model(\n",
    "    [decoder_inputs] + [decoder_hidden_state_input,decoder_state_input_h, decoder_state_input_c],\n",
    "    [decoder_outputs2] + [state_h2, state_c2])"
   ]
  },
  {
   "cell_type": "code",
   "execution_count": 45,
   "id": "rural-minnesota",
   "metadata": {},
   "outputs": [],
   "source": [
    "### 인퍼런스 단계에서 단어 시퀀스를 완성하는 함수\n",
    "\n",
    "def decode_sequence(input_seq):\n",
    "    #입력으로부터 인코더의 상태를 얻음\n",
    "    e_out, e_h, e_c = encoder_model.predict(input_seq)\n",
    "\n",
    "    #<SOS>에 해당하는 토큰 생성\n",
    "    target_seq = np.zeros((1,1))\n",
    "    target_seq[0, 0] = tar_word_to_index['sostoken']\n",
    "\n",
    "    stop_condition = False\n",
    "    decoded_sentence = ''\n",
    "    while not stop_condition: #stop_condition이 True가 될 때까지 루프 반복\n",
    "\n",
    "        output_tokens, h, c = decoder_model.predict([target_seq] + [e_out, e_h, e_c])\n",
    "        sampled_token_index = np.argmax(output_tokens[0, -1, :])\n",
    "        sampled_token = tar_index_to_word[sampled_token_index]\n",
    "\n",
    "        if (sampled_token!='eostoken'):\n",
    "            decoded_sentence += ' '+sampled_token\n",
    "\n",
    "        # <eos>에 도달하거나 최대 길이를 넘으면 중단.\n",
    "        if (sampled_token == 'eostoken'  or len(decoded_sentence.split()) >= (headlines_max_len-1)):\n",
    "            stop_condition = True\n",
    "\n",
    "        #길이가 1인 타겟 시퀀스를 업데이트\n",
    "        target_seq = np.zeros((1,1))\n",
    "        target_seq[0, 0] = sampled_token_index\n",
    "\n",
    "        #상태 업데이트\n",
    "        e_h, e_c = h, c\n",
    "\n",
    "    return decoded_sentence"
   ]
  },
  {
   "cell_type": "markdown",
   "id": "bridal-diabetes",
   "metadata": {},
   "source": [
    "### 6.2 원문과 요약문 비교"
   ]
  },
  {
   "cell_type": "code",
   "execution_count": 46,
   "id": "commercial-gardening",
   "metadata": {},
   "outputs": [],
   "source": [
    "### 원문의 정수 시퀀스를 텍스트 시퀀스로 변환하는 함수\n",
    "\n",
    "def seq2text(input_seq):\n",
    "    temp=''\n",
    "    for i in input_seq:\n",
    "        if (i!=0):\n",
    "            temp = temp + src_index_to_word[i]+' '\n",
    "    return temp\n",
    "\n",
    "#요약문의 정수 시퀀스를 텍스트 시퀀스로 변환\n",
    "def seq2summary(input_seq):\n",
    "    temp=''\n",
    "    for i in input_seq:\n",
    "        if ((i!=0 and i!=tar_word_to_index['sostoken']) and i!=tar_word_to_index['eostoken']):\n",
    "            temp = temp + tar_index_to_word[i] + ' '\n",
    "    return temp"
   ]
  },
  {
   "cell_type": "markdown",
   "id": "atmospheric-stress",
   "metadata": {},
   "source": [
    "- Text의 정수 시퀀스에서는 패딩을 위해 사용되는 숫자 0을 제외하고 Summary의 정수 시퀀스에서는 숫자 0, 시작 토큰의 인덱스, 종료 토큰의 인덱스를 출력에서 제외하도록 만들어야 함."
   ]
  },
  {
   "cell_type": "code",
   "execution_count": 55,
   "id": "smaller-jacob",
   "metadata": {
    "scrolled": false
   },
   "outputs": [
    {
     "name": "stdout",
     "output_type": "stream",
     "text": [
      "원문 : \n",
      "  three twelve boys trapped cave northern thailand days granted thai citizenship wednesday boys despite born thailand lack citizenship deprived basic benefits rights three applied citizenship cave incident \n",
      "실제 요약 : \n",
      "  boys rescued from thai cave granted citizenship \n",
      "예측 요약 : \n",
      "   thai cave rescued from thai cave to rescue boys\n",
      "\n",
      "\n",
      "원문 : \n",
      "  nasa mars reconnaissance orbiter spotted space agency opportunity rover dust storm red planet opportunity last communicated june operating since nasa oldest active rover nasa hoping solar powered rover contact earth batteries charged exposure sunlight \n",
      "실제 요약 : \n",
      "  nasa mars spots silent rover as dust storm clears \n",
      "예측 요약 : \n",
      "   nasa rover rover on mars days to mars\n",
      "\n",
      "\n",
      "원문 : \n",
      "  us president donald trump told friends got lot richer hours signed tax cut bill proposed us biggest tax overhaul years law friday report claimed legislation estimated cost us lakh crore cuts corporate tax rate \n",
      "실제 요약 : \n",
      "  trump told friends they got lot richer after tax cut report \n",
      "예측 요약 : \n",
      "   trump will not tax tax on tax tax hike\n",
      "\n",
      "\n",
      "원문 : \n",
      "  goair flight srinagar jammu reached destination sunday without baggage several passengers goair staffer told passengers luggage would brought jammu another flight airlines waiting hour told come collect luggage tomorrow one passengers said \n",
      "실제 요약 : \n",
      "  goair flight from srinagar lands in jammu without baggage \n",
      "예측 요약 : \n",
      "   pilot leaves emergency after flight passengers fall ill\n",
      "\n",
      "\n",
      "원문 : \n",
      "  white house aide kelly reportedly mocked cancer stricken us senator john mccain opposition cia director nominee gina haspel saying matter dying anyway republican senator arizona diagnosed brain cancer cia director nominee haspel facing opposition involvement torture al qaeda suspects \n",
      "실제 요약 : \n",
      "  he dying wh aide mocks cancer senator \n",
      "예측 요약 : \n",
      "   us house asks us to remove trump from cancer poisoning\n",
      "\n",
      "\n",
      "원문 : \n",
      "  hollywood actress amber heard slammed posting racist tweet advising people give ride home immigration checkpoint near house heard criticising us government crackdown illegal migrants later deleted tweet following public backlash \n",
      "실제 요약 : \n",
      "  amber heard slammed for racist tweet \n",
      "예측 요약 : \n",
      "   jennifer slams ex cm for posting her videos\n",
      "\n",
      "\n",
      "원문 : \n",
      "  stephen hawking funeral took place march cambridge uk great st mary church thousands attended pay tribute world renowned physicist church bells rang times representing number years hawking lived coffin carried six college hawking fellow years \n",
      "실제 요약 : \n",
      "  thousands attend stephen hawking funeral in uk \n",
      "예측 요약 : \n",
      "   stephen hawking passes away at the age of\n",
      "\n",
      "\n",
      "원문 : \n",
      "  pakistan monday began auction vehicles prime minister house part prime minister imran khan led government cost cutting drive fleet cars put auction includes mercedes cars including bullet proof ones auction expected fetch nearly pkr billion \n",
      "실제 요약 : \n",
      "  pakistan auctions vehicles of prime minister house \n",
      "예측 요약 : \n",
      "   pakistan pm nawaz sharif car sold for lakh\n",
      "\n",
      "\n",
      "원문 : \n",
      "  ahead th anniversary operation blue star akal takht singh friday appealed sikh bodies observe day peacefully avoid sloganeering inside amritsar golden temple past years anniversary marred violence sloganeering inside temple support khalistan movement \n",
      "실제 요약 : \n",
      "  do not slogans on op blue star anniversary takht \n",
      "예측 요약 : \n",
      "   india first lady to get statue in day of march\n",
      "\n",
      "\n",
      "원문 : \n",
      "  lok sabha speaker sumitra mahajan organised screening aamir khan film dangal members parliament requested official mps attend screening spouses screening held parliament march spread message women empowerment mps promote constituencies \n",
      "실제 요약 : \n",
      "  govt asks mps to attend dangal screening with \n",
      "예측 요약 : \n",
      "   lok sabha mps to be in parliament tdp\n",
      "\n",
      "\n"
     ]
    }
   ],
   "source": [
    "#실제 요약과 예측된 요약 비교\n",
    "for i in range(10):\n",
    "    print(\"원문 : \\n \", seq2text(encoder_input_test[i]))\n",
    "    print(\"실제 요약 : \\n \", seq2summary(decoder_input_test[i]))\n",
    "    print(\"예측 요약 : \\n \", decode_sequence(encoder_input_test[i].reshape(1, text_max_len)))\n",
    "    print(\"\\n\")"
   ]
  },
  {
   "cell_type": "markdown",
   "id": "average-mexico",
   "metadata": {},
   "source": [
    "## 7. Summa 이용한 추출적 요약\n",
    "- 패키지 Summa에서는 추출적 요약을 위한 모듈인 summarize를 제공하고 있음.\n",
    "- text (str) : 요약할 테스트.\n",
    "- ratio (float, optional) – 요약문에서 원본에서 선택되는 문장 비율. 0~1 사이값\n",
    "- words (int or None, optional) – 출력에 포함할 단어 수.\n",
    "- split (bool, optional) – True면 문장 list / False는 조인(join)된 문자열을 반환.\n",
    "- Summa의 summarize는 문장 토큰화를 별도로 하지 않더라도 내부적으로 문장 토큰화를 수행."
   ]
  },
  {
   "cell_type": "code",
   "execution_count": 50,
   "id": "hispanic-reduction",
   "metadata": {},
   "outputs": [],
   "source": [
    "import urllib.request\n",
    "\n",
    "urllib.request.urlretrieve(\"https://raw.githubusercontent.com/sunnysai12345/News_Summary/master/news_summary_more.csv\", filename=\"news_summary_more.csv\")\n",
    "orig_data = pd.read_csv('news_summary_more.csv', encoding='iso-8859-1')"
   ]
  },
  {
   "cell_type": "code",
   "execution_count": 58,
   "id": "portable-short",
   "metadata": {
    "scrolled": false
   },
   "outputs": [
    {
     "name": "stdout",
     "output_type": "stream",
     "text": [
      "원문 : \n",
      "  Saurav Kant, an alumnus of upGrad and IIIT-B's PG Program in Machine learning and Artificial Intelligence, was a Sr Systems Engineer at Infosys with almost 5 years of work experience. The program and upGrad's 360-degree career support helped him transition to a Data Scientist at Tech Mahindra with 90% salary hike. upGrad's Online Power Learning has powered 3 lakh+ careers.\n",
      "실제 요약 : \n",
      "  upGrad learner switches to career in ML & Al with 90% salary hike\n",
      "예측 요약 : \n",
      "  upGrad's Online Power Learning has powered 3 lakh+ careers.\n",
      "\n",
      "\n",
      "원문 : \n",
      "  Kunal Shah's credit card bill payment platform, CRED, gave users a chance to win free food from Swiggy for one year. Pranav Kaushik, a Delhi techie, bagged this reward after spending 2000 CRED coins. Users get one CRED coin per rupee of bill paid, which can be used to avail rewards from brands like Ixigo, BookMyShow, UberEats, Cult.Fit and more.\n",
      "실제 요약 : \n",
      "  Delhi techie wins free food from Swiggy for one year on CRED\n",
      "예측 요약 : \n",
      "  Users get one CRED coin per rupee of bill paid, which can be used to avail rewards from brands like Ixigo, BookMyShow, UberEats, Cult.Fit and more.\n",
      "\n",
      "\n",
      "원문 : \n",
      "  New Zealand defeated India by 8 wickets in the fourth ODI at Hamilton on Thursday to win their first match of the five-match ODI series. India lost an international match under Rohit Sharma's captaincy after 12 consecutive victories dating back to March 2018. The match witnessed India getting all out for 92, their seventh lowest total in ODI cricket history.\n",
      "실제 요약 : \n",
      "  New Zealand end Rohit Sharma-led India's 12-match winning streak\n",
      "예측 요약 : \n",
      "  The match witnessed India getting all out for 92, their seventh lowest total in ODI cricket history.\n",
      "\n",
      "\n",
      "원문 : \n",
      "  With Aegon Life iTerm Insurance plan, customers can enjoy tax benefits on your premiums paid and save up to Ã¢ÂÂ¹46,800^ on taxes. The plan provides life cover up to the age of 100 years. Also, customers have options to insure against Critical Illnesses, Disability and Accidental Death Benefit Rider with a life cover up to the age of 80 years.\n",
      "실제 요약 : \n",
      "  Aegon life iTerm insurance plan helps customers save tax\n",
      "예측 요약 : \n",
      "  Also, customers have options to insure against Critical Illnesses, Disability and Accidental Death Benefit Rider with a life cover up to the age of 80 years.\n",
      "\n",
      "\n",
      "원문 : \n",
      "  Speaking about the sexual harassment allegations against Rajkumar Hirani, Sonam Kapoor said, \"I've known Hirani for many years...What if it's not true, the [#MeToo] movement will get derailed.\" \"In the #MeToo movement, I always believe a woman. But in this case, we need to reserve our judgment,\" she added. Hirani has been accused by an assistant who worked in 'Sanju'.\n",
      "실제 요약 : \n",
      "  Have known Hirani for yrs, what if MeToo claims are not true: Sonam\n",
      "예측 요약 : \n",
      "  Speaking about the sexual harassment allegations against Rajkumar Hirani, Sonam Kapoor said, \"I've known Hirani for many years...What if it's not true, the [#MeToo] movement will get derailed.\" \"In the #MeToo movement, I always believe a woman.\n",
      "\n",
      "\n",
      "원문 : \n",
      "  Pakistani singer Rahat Fateh Ali Khan has denied receiving any notice from the Enforcement Directorate over allegedly smuggling foreign currency out of India. \"It would have been better if the authorities would have served the notice first if any and then publicised this,\" reads a press release issued on behalf of Rahat. The statement further called the allegation \"bizarre\".\n",
      "실제 요약 : \n",
      "  Rahat Fateh Ali Khan denies getting notice for smuggling currency\n",
      "예측 요약 : \n",
      "  Pakistani singer Rahat Fateh Ali Khan has denied receiving any notice from the Enforcement Directorate over allegedly smuggling foreign currency out of India.\n",
      "\n",
      "\n",
      "원문 : \n",
      "  India recorded their lowest ODI total in New Zealand after getting all out for 92 runs in 30.5 overs in the fourth ODI at Hamilton on Thursday. Seven of India's batsmen were dismissed for single-digit scores, while their number ten batsman Yuzvendra Chahal top-scored with 18*(37). India's previous lowest ODI total in New Zealand was 108.\n",
      "실제 요약 : \n",
      "  India get all out for 92, their lowest ODI total in New Zealand\n",
      "예측 요약 : \n",
      "  India's previous lowest ODI total in New Zealand was 108.\n",
      "\n",
      "\n",
      "원문 : \n",
      "  Weeks after ex-CBI Director Alok Verma told the Department of Personnel and Training to consider him retired, the Home Ministry asked him to join work on the last day of his fixed tenure as Director on Thursday. The ministry directed him to immediately join as DG, Fire Services, the post he was transferred to after his removal as CBI chief.\n",
      "실제 요약 : \n",
      "  Govt directs Alok Verma to join work 1 day before his retirement\n",
      "예측 요약 : \n",
      "  Weeks after ex-CBI Director Alok Verma told the Department of Personnel and Training to consider him retired, the Home Ministry asked him to join work on the last day of his fixed tenure as Director on Thursday.\n",
      "\n",
      "\n",
      "원문 : \n",
      "  Andhra Pradesh CM N Chandrababu Naidu has said, \"When I met then US President Bill Clinton, I addressed him as Mr Clinton, not as 'sir'. (PM Narendra) Modi is my junior in politics...I addressed him as sir 10 times.\" \"I did this...to satisfy his ego in the hope that he will do justice to the state,\" he added.\n",
      "실제 요약 : \n",
      "  Called PM Modi 'sir' 10 times to satisfy his ego: Andhra CM\n",
      "예측 요약 : \n",
      "  Andhra Pradesh CM N Chandrababu Naidu has said, \"When I met then US President Bill Clinton, I addressed him as Mr Clinton, not as 'sir'.\n",
      "\n",
      "\n",
      "원문 : \n",
      "  Congress candidate Shafia Zubair won the Ramgarh Assembly seat in Rajasthan, by defeating BJP's Sukhwant Singh with a margin of 12,228 votes in the bypoll. With this victory, Congress has taken its total to 100 seats in the 200-member assembly. The election to the Ramgarh seat was delayed due to the death of sitting MLA and BSP candidate Laxman Singh.\n",
      "실제 요약 : \n",
      "  Cong wins Ramgarh bypoll in Rajasthan, takes total to 100 seats\n",
      "예측 요약 : \n",
      "  Congress candidate Shafia Zubair won the Ramgarh Assembly seat in Rajasthan, by defeating BJP's Sukhwant Singh with a margin of 12,228 votes in the bypoll.\n",
      "\n",
      "\n"
     ]
    }
   ],
   "source": [
    "import requests\n",
    "from summa.summarizer import summarize\n",
    "\n",
    "for i in range(10):\n",
    "    print(\"원문 : \\n \", orig_data['text'][i])\n",
    "    print(\"실제 요약 : \\n \", orig_data['headlines'][i])\n",
    "    print(\"예측 요약 : \\n \", summarize(orig_data['text'][i], ratio=0.5))\n",
    "    print(\"\\n\")"
   ]
  },
  {
   "cell_type": "markdown",
   "id": "plain-workstation",
   "metadata": {},
   "source": [
    "---"
   ]
  },
  {
   "cell_type": "markdown",
   "id": "modular-senegal",
   "metadata": {},
   "source": [
    "# - 프로젝트 정리"
   ]
  },
  {
   "cell_type": "markdown",
   "id": "excessive-trainer",
   "metadata": {},
   "source": [
    "### 1. 모델 :   \n",
    "\n",
    "- 모델을 학습 시켰을 때 loss는 2.3970, val_loss는 3.2395로 생각보다 loss 값들이 높게 나왔다. \n",
    "- 모델의 성능을 개선하기 위해서는 seq2seq와 어텐션의 자체의 조합을 좀 더 좋게 수정하는 방법도 있으며 빔 서치(beam search), 사전 훈련된 워드 임베딩(pre-trained word embedding), 또는 인코더 - 디코더 자체의 구조를 새로이 변경한 하는 트랜스포머(Transformer)와 같은 여러 개선 방안들이 존재한다고 한다.\n",
    "- 모델을 훈련시키는데 시간이 너무 오래 걸려서 전부 시도해보진 못했지만 시간이 된다면 전부 시도 해 봐도 좋을 것 같다.   \n",
    "\n"
   ]
  },
  {
   "cell_type": "markdown",
   "id": "devoted-franchise",
   "metadata": {},
   "source": [
    "### 2. Abstractive Summarization :   \n",
    "1)\n",
    "\n",
    "원문 : \n",
    "  three twelve boys trapped cave northern thailand days granted thai citizenship wednesday boys despite born thailand lack citizenship deprived basic benefits rights three applied citizenship cave incident    \n",
    "  \n",
    "실제 요약 : \n",
    "  boys rescued from thai cave granted citizenship    \n",
    "  \n",
    "예측 요약 : \n",
    "   thai cave rescued from thai cave to rescue boys   \n",
    "   \n",
    "- 예측된 요약과 실제 헤드라인을 비교하면 위와 같이 키워드를 잘 찾아낸 예측 요약 문장도 있다.    \n",
    "\n",
    "2)\n",
    "\n",
    "원문 : \n",
    "  nasa mars reconnaissance orbiter spotted space agency opportunity rover dust storm red planet opportunity last communicated june operating since nasa oldest active rover nasa hoping solar powered rover contact earth batteries charged exposure sunlight    \n",
    "  \n",
    "실제 요약 : \n",
    "  nasa mars spots silent rover as dust storm clears    \n",
    "  \n",
    "예측 요약 : \n",
    "   nasa rover rover on mars days to mars\n",
    "   \n",
    "- 위와 같이 키워드 단어는 잘 잡아냈지만 제대로 된 문장을 만들지 못하고 엉뚱한 내용의 예측 요약이 나오기도 했다.    \n",
    "   \n",
    "   \n",
    "타겟이 뉴스의 헤드라인이라 축약어가 많아 모델 학습이 제대로 되지 않았을 경우도 있을 것 같다. 또, 본문에서는 사용하지 않았던 단어를 헤드라인에서 사용하면서 원문과 관련이 없는 단어를 포함한 예측 요약 문장이 만들어지기도 했다."
   ]
  },
  {
   "cell_type": "markdown",
   "id": "stylish-performer",
   "metadata": {},
   "source": [
    "### 3. Extractive Summarization :   \n",
    "   \n",
    "원문 : \n",
    "  India recorded their lowest ODI total in New Zealand after getting all out for 92 runs in 30.5 overs in the fourth ODI at Hamilton on Thursday. Seven of India's batsmen were dismissed for single-digit scores, while their number ten batsman Yuzvendra Chahal top-scored with 18*(37). India's previous lowest ODI total in New Zealand was 108.   \n",
    "  \n",
    "실제 요약 : \n",
    "  India get all out for 92, their lowest ODI total in New Zealand   \n",
    "  \n",
    "예측 요약 : \n",
    "  India's previous lowest ODI total in New Zealand was 108.   \n",
    "  \n",
    "\n",
    "- 원문에서 문장을 가져오기 때문인지 Abstractive Summarization보다 예측 문장이 훨씬 매끄럽게 만들어졌다. 하지만 겉으로만 제대로 된 문장처럼 보일 뿐 실제 요약을 잘 했는지를 보면 아닌 문장도 많다.  \n",
    "\n",
    "- 부가적인 설명이 많아 실제 요약 문장보다 예측 요약 문장이 더 긴 경우가 많으며, 내용을 제대로 요약한 것이 맞나 싶을 정도로 전혀 다른 이야기를 하는 예측 요약 문장도 있다.   \n",
    "\n",
    "- 위와 같이 요약 해야 할 키워드를 잘못 잡아서 아예 다른 문장을 내 놓는 경우도 많았다."
   ]
  }
 ],
 "metadata": {
  "kernelspec": {
   "display_name": "Python 3",
   "language": "python",
   "name": "python3"
  },
  "language_info": {
   "codemirror_mode": {
    "name": "ipython",
    "version": 3
   },
   "file_extension": ".py",
   "mimetype": "text/x-python",
   "name": "python",
   "nbconvert_exporter": "python",
   "pygments_lexer": "ipython3",
   "version": "3.7.9"
  }
 },
 "nbformat": 4,
 "nbformat_minor": 5
}
