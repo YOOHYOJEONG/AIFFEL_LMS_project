{
 "cells": [
  {
   "cell_type": "markdown",
   "id": "dependent-equivalent",
   "metadata": {},
   "source": [
    "# 한국어 데이터로 챗봇 만들기"
   ]
  },
  {
   "cell_type": "markdown",
   "id": "possible-logic",
   "metadata": {},
   "source": [
    "# - 목차\n",
    "1. 데이터 불러오기   \n",
    "2. 데이터 전처리하기   \n",
    "3. SubwordTextEncoder 사용하기   \n",
    "4. 모델 구성하기   \n",
    "5. 모델 평가하기   \n",
    "\n",
    "- 프로젝트 정리"
   ]
  },
  {
   "cell_type": "markdown",
   "id": "classical-painting",
   "metadata": {},
   "source": [
    "## 1. 데이터 불러오기\n",
    "- 프로젝트에 사용할 한국어 데이터는 [송영숙님 깃허브](https://github.com/songys/Chatbot_data/)에 자세하게 설명되어 있다.\n",
    "- 인공데이터이며 일부 이별과 관련된 질문에서 [다음카페 사랑보다 아름다운 실연]( http://cafe116.daum.net/_c21_/home?grpid=1bld)에서 자주 나오는 이야기들을 참고하여 제작했다고 한다.\n",
    "- 챗봇 트레이닝용 문답 페어는 11,876개로 Q가 질문, A가 답변이며 일상다반서 0, 이별(부정) 1, 사랑(긍정) 2로 레이블링 되어 있다."
   ]
  },
  {
   "cell_type": "code",
   "execution_count": 1,
   "id": "blocked-tunnel",
   "metadata": {},
   "outputs": [],
   "source": [
    "import tensorflow as tf\n",
    "import tensorflow_datasets as tfds\n",
    "import os\n",
    "import re\n",
    "import numpy as np\n",
    "import pandas as pd\n",
    "import matplotlib.pyplot as plt"
   ]
  },
  {
   "cell_type": "code",
   "execution_count": 7,
   "id": "productive-snapshot",
   "metadata": {},
   "outputs": [
    {
     "name": "stdout",
     "output_type": "stream",
     "text": [
      "(11823, 3)\n"
     ]
    },
    {
     "data": {
      "text/html": [
       "<div>\n",
       "<style scoped>\n",
       "    .dataframe tbody tr th:only-of-type {\n",
       "        vertical-align: middle;\n",
       "    }\n",
       "\n",
       "    .dataframe tbody tr th {\n",
       "        vertical-align: top;\n",
       "    }\n",
       "\n",
       "    .dataframe thead th {\n",
       "        text-align: right;\n",
       "    }\n",
       "</style>\n",
       "<table border=\"1\" class=\"dataframe\">\n",
       "  <thead>\n",
       "    <tr style=\"text-align: right;\">\n",
       "      <th></th>\n",
       "      <th>Q</th>\n",
       "      <th>A</th>\n",
       "      <th>label</th>\n",
       "    </tr>\n",
       "  </thead>\n",
       "  <tbody>\n",
       "    <tr>\n",
       "      <th>0</th>\n",
       "      <td>12시 땡!</td>\n",
       "      <td>하루가 또 가네요.</td>\n",
       "      <td>0</td>\n",
       "    </tr>\n",
       "    <tr>\n",
       "      <th>1</th>\n",
       "      <td>1지망 학교 떨어졌어</td>\n",
       "      <td>위로해 드립니다.</td>\n",
       "      <td>0</td>\n",
       "    </tr>\n",
       "    <tr>\n",
       "      <th>2</th>\n",
       "      <td>3박4일 놀러가고 싶다</td>\n",
       "      <td>여행은 언제나 좋죠.</td>\n",
       "      <td>0</td>\n",
       "    </tr>\n",
       "    <tr>\n",
       "      <th>3</th>\n",
       "      <td>3박4일 정도 놀러가고 싶다</td>\n",
       "      <td>여행은 언제나 좋죠.</td>\n",
       "      <td>0</td>\n",
       "    </tr>\n",
       "    <tr>\n",
       "      <th>4</th>\n",
       "      <td>PPL 심하네</td>\n",
       "      <td>눈살이 찌푸려지죠.</td>\n",
       "      <td>0</td>\n",
       "    </tr>\n",
       "  </tbody>\n",
       "</table>\n",
       "</div>"
      ],
      "text/plain": [
       "                 Q            A  label\n",
       "0           12시 땡!   하루가 또 가네요.      0\n",
       "1      1지망 학교 떨어졌어    위로해 드립니다.      0\n",
       "2     3박4일 놀러가고 싶다  여행은 언제나 좋죠.      0\n",
       "3  3박4일 정도 놀러가고 싶다  여행은 언제나 좋죠.      0\n",
       "4          PPL 심하네   눈살이 찌푸려지죠.      0"
      ]
     },
     "execution_count": 7,
     "metadata": {},
     "output_type": "execute_result"
    }
   ],
   "source": [
    "data = pd.read_csv(os.getenv('HOME') + '/aiffel/songys_chatbot/ChatbotData.csv')\n",
    "\n",
    "print(data.shape)\n",
    "\n",
    "data.head()"
   ]
  },
  {
   "cell_type": "code",
   "execution_count": 9,
   "id": "pacific-norway",
   "metadata": {},
   "outputs": [
    {
     "data": {
      "text/plain": [
       "Q        0\n",
       "A        0\n",
       "label    0\n",
       "dtype: int64"
      ]
     },
     "execution_count": 9,
     "metadata": {},
     "output_type": "execute_result"
    }
   ],
   "source": [
    "#결측치 확인\n",
    "data.isna().sum()"
   ]
  },
  {
   "cell_type": "markdown",
   "id": "descending-cable",
   "metadata": {},
   "source": [
    "## 2. 데이터 전처리하기"
   ]
  },
  {
   "cell_type": "code",
   "execution_count": 10,
   "id": "super-constitution",
   "metadata": {},
   "outputs": [],
   "source": [
    "#전처리 함수\n",
    "def preprocess_sentence(sentence):\n",
    "    sentence = sentence.lower().strip()\n",
    "\n",
    "    #단어와 구두점(punctuation) 사이의 거리를 만듦.\n",
    "    #단어와 온점 사이에 거리를 만듦.\n",
    "    sentence = re.sub(r\"([?.!,])\", r\" \\1 \", sentence)\n",
    "    sentence = re.sub(r'[\" \"]+', \" \", sentence)\n",
    "\n",
    "    #(a-z, A-Z, 한글, 숫자, \".\", \"?\", \"!\", \",\")를 제외한 모든 문자를 공백인 ' '로 대체.\n",
    "    sentence = re.sub(r\"[^가-힣a-zA-Z0-9?.!,]+\", \" \", sentence)\n",
    "    sentence = sentence.strip()\n",
    "\n",
    "    return sentence"
   ]
  },
  {
   "cell_type": "code",
   "execution_count": 17,
   "id": "southern-yesterday",
   "metadata": {},
   "outputs": [],
   "source": [
    "#질문과 답변의 쌍인 데이터셋을 구성하기 위한 데이터 로드 함수\n",
    "def load_conversations():\n",
    "    inputs, outputs = [], []\n",
    "\n",
    "    for i in range(len(data) - 1):\n",
    "        #전처리 함수를 질문에 해당되는 inputs와 답변에 해당되는 outputs에 적용.\n",
    "        inputs.append(preprocess_sentence(data['Q'].values[i]))\n",
    "        outputs.append(preprocess_sentence(data['A'].values[i]))\n",
    "        \n",
    "        #전체 데이터 전부 사용하므로 샘플 최대 개수를 정하지 않음.\n",
    "        #if len(inputs) >= MAX_SAMPLES:\n",
    "        #    return inputs, outputs\n",
    "\n",
    "    return inputs, outputs"
   ]
  },
  {
   "cell_type": "code",
   "execution_count": 18,
   "id": "interstate-fetish",
   "metadata": {},
   "outputs": [
    {
     "name": "stdout",
     "output_type": "stream",
     "text": [
      "전체 샘플 수 : 11822\n",
      "전체 샘플 수 : 11822\n"
     ]
    }
   ],
   "source": [
    "#데이터를 로드하고 전처리하여 질문을 questions, 답변을 answers에 저장.\n",
    "questions, answers = load_conversations()\n",
    "print('전체 샘플 수 :', len(questions))\n",
    "print('전체 샘플 수 :', len(answers))"
   ]
  },
  {
   "cell_type": "code",
   "execution_count": 31,
   "id": "destroyed-victoria",
   "metadata": {},
   "outputs": [
    {
     "name": "stdout",
     "output_type": "stream",
     "text": [
      "전처리 후의 5868번째 질문 샘플: 내가 그리운만큼 그대도 그리운가\n",
      "전처리 후의 5868번째 답변 샘플: 궁금해하지마세요 .\n",
      "전처리 후의 8401번째 질문 샘플: 하늘이 준 이별 같다\n",
      "전처리 후의 8401번째 답변 샘플: 운명같네요 .\n",
      "전처리 후의 6219번째 질문 샘플: 마지막 문자를 보내버렸어\n",
      "전처리 후의 6219번째 답변 샘플: 미련이 남았나봐요 .\n",
      "전처리 후의 3893번째 질문 샘플: 자기 소개 어떻게 해\n",
      "전처리 후의 3893번째 답변 샘플: 강렬하고 자신감있게 하면 되지 않을까싶어요 .\n",
      "전처리 후의 8326번째 질문 샘플: 최근에 헤어졌어\n",
      "전처리 후의 8326번째 답변 샘플: 큰 일을 겪었네요 .\n"
     ]
    }
   ],
   "source": [
    "#전처리 잘 되었는지 확인\n",
    "\n",
    "import random\n",
    "\n",
    "#랜덤으로 인덱스 뽑아서 5개만 확인할 것.\n",
    "length = list(range(0,11822,1))\n",
    "random.shuffle(length)\n",
    "\n",
    "for i in (length[:5]) :\n",
    "    print('전처리 후의 {}번째 질문 샘플: {}'.format(i+1, questions[i]))\n",
    "    print('전처리 후의 {}번째 답변 샘플: {}'.format(i+1, answers[i]))"
   ]
  },
  {
   "cell_type": "markdown",
   "id": "alpha-sterling",
   "metadata": {},
   "source": [
    "## 3. SubwordTextEncoder 사용하기"
   ]
  },
  {
   "cell_type": "markdown",
   "id": "adolescent-yield",
   "metadata": {},
   "source": [
    "### 3.1 병렬 데이터 처리 \n",
    "- TensorFlow Datasets SubwordTextEncoder를 토크나이저로 사용한다.\n",
    "- 단어보다 더 작은 단위인 Subword를 기준으로 토크나이징하고, 각 토큰을 고유한 정수로 인코딩한다.\n",
    "- 각 문장을 토큰화하고 각 문장의 시작과 끝을 나타내는 START_TOKEN 및 END_TOKEN을 추가한다.\n",
    "- 최대 길이 MAX_LENGTH를 넘는 문장들은 필터링한다.\n",
    "- 최대 길이 MAX_LENGTH보다 길이가 짧은 문장은 이에 맞도록 패딩 한다."
   ]
  },
  {
   "cell_type": "code",
   "execution_count": 33,
   "id": "criminal-librarian",
   "metadata": {},
   "outputs": [
    {
     "name": "stdout",
     "output_type": "stream",
     "text": [
      "2.4.1\n"
     ]
    }
   ],
   "source": [
    "print(tf.__version__)"
   ]
  },
  {
   "cell_type": "code",
   "execution_count": 34,
   "id": "victorian-examination",
   "metadata": {},
   "outputs": [],
   "source": [
    "#질문과 답변 데이터셋에 대해서 Vocabulary 생성.\n",
    "tokenizer = tfds.deprecated.text.SubwordTextEncoder.build_from_corpus(questions + answers, target_vocab_size=2**13)"
   ]
  },
  {
   "cell_type": "code",
   "execution_count": 35,
   "id": "listed-wyoming",
   "metadata": {},
   "outputs": [
    {
     "name": "stdout",
     "output_type": "stream",
     "text": [
      "START_TOKEN의 번호 : [8161]\n",
      "END_TOKEN의 번호 : [8162]\n"
     ]
    }
   ],
   "source": [
    "#디코더의 문장 생성 과정에서 사용할 '시작 토큰'과 '종료 토큰'에 대해서도 임의로 단어장에 추가하여서 정수를 부여함.\n",
    "#이미 생성된 단어장의 번호와 겹치지 않도록 각각 단어장의 크기와 그보다 1이 큰 수를 번호로 부여.\n",
    "\n",
    "START_TOKEN, END_TOKEN = [tokenizer.vocab_size], [tokenizer.vocab_size + 1]\n",
    "\n",
    "print('START_TOKEN의 번호 :' ,[tokenizer.vocab_size])\n",
    "print('END_TOKEN의 번호 :' ,[tokenizer.vocab_size + 1])"
   ]
  },
  {
   "cell_type": "code",
   "execution_count": 36,
   "id": "confirmed-evaluation",
   "metadata": {},
   "outputs": [
    {
     "name": "stdout",
     "output_type": "stream",
     "text": [
      "8163\n"
     ]
    }
   ],
   "source": [
    "#시작 토큰과 종료 토큰을 고려하여 +2를 하여 단어장의 크기를 산정.\n",
    "VOCAB_SIZE = tokenizer.vocab_size + 2\n",
    "print(VOCAB_SIZE)"
   ]
  },
  {
   "cell_type": "code",
   "execution_count": 38,
   "id": "herbal-bible",
   "metadata": {},
   "outputs": [
    {
     "name": "stdout",
     "output_type": "stream",
     "text": [
      "정수 인코딩 후의 21번째 질문 샘플: [5756, 610, 2486, 4158]\n",
      "정수 인코딩 후의 21번째 답변 샘플: [2355, 7501, 7, 6265, 98, 1]\n"
     ]
    }
   ],
   "source": [
    "#각 단어를 고유한 정수로 인코딩(Integer encoding) & 패딩(Padding)\n",
    "#okenizer.encode()로 각 단어를 정수로 변환\n",
    "#또는 tokenizer.decode()를 통해 정수 시퀀스를 단어 시퀀스로 변환\n",
    "\n",
    "#임의의 22번째 샘플에 대해서 정수 인코딩 작업을 수행.\n",
    "#각 토큰을 고유한 정수로 변환\n",
    "print('정수 인코딩 후의 21번째 질문 샘플: {}'.format(tokenizer.encode(questions[21])))\n",
    "print('정수 인코딩 후의 21번째 답변 샘플: {}'.format(tokenizer.encode(answers[21])))"
   ]
  },
  {
   "cell_type": "code",
   "execution_count": 39,
   "id": "retained-monkey",
   "metadata": {},
   "outputs": [
    {
     "name": "stdout",
     "output_type": "stream",
     "text": [
      "질문의 최소 길이 : 1\n",
      "질문의 최대 길이 : 16\n",
      "질문의 평균 길이 : 3.937996954829978\n",
      "답변의 최소 길이 : 1\n",
      "답변의 최대 길이 : 24\n",
      "답변의 평균 길이 : 4.716037895449163\n"
     ]
    }
   ],
   "source": [
    "#질문과 답변의 길이 확인\n",
    "question_len = [len(s.split()) for s in questions]\n",
    "answer_len = [len(s.split()) for s in answers]\n",
    "\n",
    "print('질문의 최소 길이 : {}'.format(np.min(question_len)))\n",
    "print('질문의 최대 길이 : {}'.format(np.max(question_len)))\n",
    "print('질문의 평균 길이 : {}'.format(np.mean(question_len)))\n",
    "print('답변의 최소 길이 : {}'.format(np.min(answer_len)))\n",
    "print('답변의 최대 길이 : {}'.format(np.max(answer_len)))\n",
    "print('답변의 평균 길이 : {}'.format(np.mean(answer_len)))"
   ]
  },
  {
   "cell_type": "markdown",
   "id": "appreciated-memorial",
   "metadata": {},
   "source": [
    "- 질문의 최대 길이가 16이므로 샘플의 최대 허용 길이 또는 패딩 후의 최종 길이를 16으로 정함."
   ]
  },
  {
   "cell_type": "code",
   "execution_count": 40,
   "id": "smaller-smell",
   "metadata": {},
   "outputs": [
    {
     "name": "stdout",
     "output_type": "stream",
     "text": [
      "16\n"
     ]
    }
   ],
   "source": [
    "#샘플의 최대 허용 길이 또는 패딩 후의 최종 길이\n",
    "MAX_LENGTH = 16\n",
    "print(MAX_LENGTH)"
   ]
  },
  {
   "cell_type": "code",
   "execution_count": 41,
   "id": "established-claim",
   "metadata": {},
   "outputs": [],
   "source": [
    "#정수 인코딩, 최대 길이를 초과하는 샘플 제거, 패딩\n",
    "def tokenize_and_filter(inputs, outputs):\n",
    "    tokenized_inputs, tokenized_outputs = [], []\n",
    "  \n",
    "    for (sentence1, sentence2) in zip(inputs, outputs):\n",
    "        #정수 인코딩 과정에서 시작 토큰과 종료 토큰을 추가\n",
    "        sentence1 = START_TOKEN + tokenizer.encode(sentence1) + END_TOKEN\n",
    "        sentence2 = START_TOKEN + tokenizer.encode(sentence2) + END_TOKEN\n",
    "\n",
    "        #최대 길이 40 이하인 경우에만 데이터셋으로 허용\n",
    "        if len(sentence1) <= MAX_LENGTH and len(sentence2) <= MAX_LENGTH:\n",
    "            tokenized_inputs.append(sentence1)\n",
    "            tokenized_outputs.append(sentence2)\n",
    "  \n",
    "    #최대 길이 40으로 모든 데이터셋을 패딩\n",
    "    tokenized_inputs = tf.keras.preprocessing.sequence.pad_sequences(tokenized_inputs, maxlen=MAX_LENGTH, padding='post')\n",
    "    tokenized_outputs = tf.keras.preprocessing.sequence.pad_sequences(tokenized_outputs, maxlen=MAX_LENGTH, padding='post')\n",
    "  \n",
    "    return tokenized_inputs, tokenized_outputs"
   ]
  },
  {
   "cell_type": "code",
   "execution_count": 42,
   "id": "widespread-career",
   "metadata": {},
   "outputs": [
    {
     "name": "stdout",
     "output_type": "stream",
     "text": [
      "단어장의 크기 : 8163\n",
      "필터링 후의 질문 샘플 개수: 11675\n",
      "필터링 후의 답변 샘플 개수: 11675\n"
     ]
    }
   ],
   "source": [
    "#샘플 길이가 16 넘는 경우는 샘플 필터링을 하여 일부 샘플이 제거 되었음.\n",
    "questions, answers = tokenize_and_filter(questions, answers)\n",
    "print('단어장의 크기 :',(VOCAB_SIZE))\n",
    "print('필터링 후의 질문 샘플 개수: {}'.format(len(questions)))\n",
    "print('필터링 후의 답변 샘플 개수: {}'.format(len(answers)))"
   ]
  },
  {
   "cell_type": "markdown",
   "id": "communist-register",
   "metadata": {},
   "source": [
    "### 3.2 교사 강요(Teacher Forcing) 사용\n",
    "- tf.data.Dataset API는 훈련 프로세스의 속도가 빨라지도록 입력 파이프라인을 구축하는 API임.\n",
    "- 이를 적극 사용하기 위해서 질문과 답변의 쌍을 tf.data.Dataset의 입력으로 넣어주는 작업을 함.\n",
    "- 이때, 디코더의 입력과 실제값(레이블)을 정의해 주기 위해서는 교사 강요(Teacher Forcing) 이라는 언어 모델의 훈련 기법을 이해해야만 함.\n",
    "- 교사 강요를 하지 않은 경우, 잘못된 예측이 다음 시점(time step)의 입력으로 들어가면서 연쇄적으로 예측 정확도에 영향을 미침."
   ]
  },
  {
   "cell_type": "code",
   "execution_count": 43,
   "id": "educated-noise",
   "metadata": {},
   "outputs": [],
   "source": [
    "#질문과 답변의 쌍을 tf.data.Dataset API의 입력으로 사용하여 파이프라인을 구성.\n",
    "#교사 강요를 위해서 answers[:, :-1]를 디코더의 입력값, answers[:, 1:]를 디코더의 레이블로 사용.\n",
    "\n",
    "BATCH_SIZE = 64\n",
    "BUFFER_SIZE = 20000\n",
    "\n",
    "#디코더는 이전의 target을 다음의 input으로 사용.\n",
    "#이에 따라 outputs에서는 START_TOKEN을 제거.\n",
    "dataset = tf.data.Dataset.from_tensor_slices((\n",
    "    {\n",
    "        'inputs': questions,\n",
    "        'dec_inputs': answers[:, :-1]\n",
    "    },\n",
    "    {\n",
    "        'outputs': answers[:, 1:]\n",
    "    },\n",
    "))\n",
    "\n",
    "dataset = dataset.cache()\n",
    "dataset = dataset.shuffle(BUFFER_SIZE)\n",
    "dataset = dataset.batch(BATCH_SIZE)\n",
    "dataset = dataset.prefetch(tf.data.experimental.AUTOTUNE)"
   ]
  },
  {
   "cell_type": "markdown",
   "id": "obvious-hanging",
   "metadata": {},
   "source": [
    "## 4. 모델 구성하기"
   ]
  },
  {
   "cell_type": "markdown",
   "id": "laughing-counter",
   "metadata": {},
   "source": [
    "### 4.1  함수 정의"
   ]
  },
  {
   "cell_type": "markdown",
   "id": "political-magazine",
   "metadata": {},
   "source": [
    "### - PositionalEncoding Layer"
   ]
  },
  {
   "cell_type": "code",
   "execution_count": 45,
   "id": "announced-merchandise",
   "metadata": {},
   "outputs": [],
   "source": [
    "class PositionalEncoding(tf.keras.layers.Layer):\n",
    "    def __init__(self, position, d_model):\n",
    "        super(PositionalEncoding, self).__init__()\n",
    "        self.pos_encoding = self.positional_encoding(position, d_model)\n",
    "\n",
    "    def get_angles(self, position, i, d_model):\n",
    "        angles = 1 / tf.pow(10000, (2 * (i // 2)) / tf.cast(d_model, tf.float32))\n",
    "        \n",
    "        return position * angles\n",
    "    \n",
    "    def positional_encoding(self, position, d_model):\n",
    "        angle_rads = self.get_angles(\n",
    "            position=tf.range(position, dtype=tf.float32)[:, tf.newaxis],\n",
    "            i=tf.range(d_model, dtype=tf.float32)[tf.newaxis, :],\n",
    "            d_model=d_model)\n",
    "        #배열의 짝수 인덱스에는 sin 함수 적용\n",
    "        sines = tf.math.sin(angle_rads[:, 0::2])\n",
    "        #배열의 홀수 인덱스에는 cosine 함수 적용\n",
    "        cosines = tf.math.cos(angle_rads[:, 1::2])\n",
    "\n",
    "        pos_encoding = tf.concat([sines, cosines], axis=-1)\n",
    "        pos_encoding = pos_encoding[tf.newaxis, ...]\n",
    "        \n",
    "        return tf.cast(pos_encoding, tf.float32)\n",
    "\n",
    "    def call(self, inputs):\n",
    "        return inputs + self.pos_encoding[:, :tf.shape(inputs)[1], :]"
   ]
  },
  {
   "cell_type": "markdown",
   "id": "bottom-product",
   "metadata": {},
   "source": [
    "### - Attention"
   ]
  },
  {
   "cell_type": "code",
   "execution_count": 46,
   "id": "strategic-objective",
   "metadata": {},
   "outputs": [],
   "source": [
    "def scaled_dot_product_attention(query, key, value, mask):\n",
    "    \"\"\"어텐션 가중치를 계산\"\"\"\n",
    "    matmul_qk = tf.matmul(query, key, transpose_b=True)\n",
    "\n",
    "    # scale matmul_qk\n",
    "    depth = tf.cast(tf.shape(key)[-1], tf.float32)\n",
    "    logits = matmul_qk / tf.math.sqrt(depth)\n",
    "\n",
    "    #add the mask to zero out padding tokens\n",
    "    if mask is not None:\n",
    "        logits += (mask * -1e9)\n",
    "\n",
    "    #softmax is normalized on the last axis (seq_len_k)\n",
    "    attention_weights = tf.nn.softmax(logits, axis=-1)\n",
    "\n",
    "    output = tf.matmul(attention_weights, value)\n",
    "\n",
    "    return output"
   ]
  },
  {
   "cell_type": "code",
   "execution_count": 47,
   "id": "correct-ceiling",
   "metadata": {},
   "outputs": [],
   "source": [
    "class MultiHeadAttention(tf.keras.layers.Layer):\n",
    "\n",
    "    def __init__(self, d_model, num_heads, name=\"multi_head_attention\"):\n",
    "        super(MultiHeadAttention, self).__init__(name=name)\n",
    "        self.num_heads = num_heads\n",
    "        self.d_model = d_model\n",
    "\n",
    "        assert d_model % self.num_heads == 0\n",
    "\n",
    "        self.depth = d_model // self.num_heads\n",
    "    \n",
    "        self.query_dense = tf.keras.layers.Dense(units=d_model)\n",
    "        self.key_dense = tf.keras.layers.Dense(units=d_model)\n",
    "        self.value_dense = tf.keras.layers.Dense(units=d_model)\n",
    "\n",
    "        self.dense = tf.keras.layers.Dense(units=d_model)\n",
    "\n",
    "    def split_heads(self, inputs, batch_size):\n",
    "        inputs = tf.reshape(\n",
    "            inputs, shape=(batch_size, -1, self.num_heads, self.depth))\n",
    "        return tf.transpose(inputs, perm=[0, 2, 1, 3])\n",
    "\n",
    "    def call(self, inputs):\n",
    "        query, key, value, mask = inputs['query'], inputs['key'], inputs['value'], inputs['mask']\n",
    "        batch_size = tf.shape(query)[0]\n",
    "\n",
    "        #linear layers\n",
    "        query = self.query_dense(query)\n",
    "        key = self.key_dense(key)\n",
    "        value = self.value_dense(value)\n",
    "\n",
    "        #병렬 연산을 위한 머리를 여러 개 만듦.\n",
    "        query = self.split_heads(query, batch_size)\n",
    "        key = self.split_heads(key, batch_size)\n",
    "        value = self.split_heads(value, batch_size)\n",
    "\n",
    "        #스케일드 닷 프로덕트 어텐션 함수\n",
    "        scaled_attention = scaled_dot_product_attention(query, key, value, mask)\n",
    "\n",
    "        scaled_attention = tf.transpose(scaled_attention, perm=[0, 2, 1, 3])\n",
    "\n",
    "        #어텐션 연산 후에 각 결과를 다시 연결(concatenate).\n",
    "        concat_attention = tf.reshape(scaled_attention,\n",
    "                                  (batch_size, -1, self.d_model))\n",
    "\n",
    "        #final linear layer\n",
    "        outputs = self.dense(concat_attention)\n",
    "\n",
    "        return outputs"
   ]
  },
  {
   "cell_type": "markdown",
   "id": "medieval-style",
   "metadata": {},
   "source": [
    "### - MASK"
   ]
  },
  {
   "cell_type": "code",
   "execution_count": 48,
   "id": "backed-trunk",
   "metadata": {},
   "outputs": [],
   "source": [
    "def create_padding_mask(x):\n",
    "    mask = tf.cast(tf.math.equal(x, 0), tf.float32)\n",
    "    #(batch_size, 1, 1, sequence length)\n",
    "    \n",
    "    return mask[:, tf.newaxis, tf.newaxis, :]\n",
    "\n",
    "\n",
    "def create_look_ahead_mask(x):\n",
    "    seq_len = tf.shape(x)[1]\n",
    "    look_ahead_mask = 1 - tf.linalg.band_part(tf.ones((seq_len, seq_len)), -1, 0)\n",
    "    padding_mask = create_padding_mask(x)\n",
    "\n",
    "    return tf.maximum(look_ahead_mask, padding_mask)"
   ]
  },
  {
   "cell_type": "markdown",
   "id": "wanted-canberra",
   "metadata": {},
   "source": [
    "### - Encoder\n",
    "- 하나의 인코더 층은 크게 총 2개의 서브 층(sublayer)인 셀프 어텐션과 피드 포워드 신경망으로 나누어짐.\n",
    "- 셀프 어텐션은 멀티 헤드 어텐션으로 병렬적으로 이루어짐.\n",
    "- 구현한 인코더 층을 임베딩 층(Embedding layer) 과 포지셔널 인코딩(Positional Encoding) 을 연결하고, 사용자가 원하는 만큼 인코더 층을 쌓음으로써 트랜스포머의 인코더가 완성함.\n",
    "- 인코더와 디코더 내부에서는 각 서브 층 이후에 훈련을 돕는 Layer Normalization이라는 테크닉이 사용함.\n",
    "- 트랜스포머는 하이퍼파라미터인 num_layers 개수의 인코더 층을 쌓음.\n",
    "- 학습 시간을 고려해 2개의 인코더 층만 쌓음."
   ]
  },
  {
   "cell_type": "code",
   "execution_count": 49,
   "id": "charitable-editing",
   "metadata": {},
   "outputs": [],
   "source": [
    "#두 개의 서브 층을 가지는 하나의 인코더 층을 구현하는 함수\n",
    "#함수 내부적으로 첫 번째 서브 층과 두 번째 서브 층을 구현하고 있음.\n",
    "#이 하나의 레이어 안에는 두 개의 서브 레이어가 존재.\n",
    "\n",
    "def encoder_layer(units, d_model, num_heads, dropout, name=\"encoder_layer\"):\n",
    "    inputs = tf.keras.Input(shape=(None, d_model), name=\"inputs\")\n",
    "\n",
    "    #패딩 마스크 사용\n",
    "    padding_mask = tf.keras.Input(shape=(1, 1, None), name=\"padding_mask\")\n",
    "\n",
    "    #첫 번째 서브 레이어 : 멀티 헤드 어텐션 수행 (셀프 어텐션)\n",
    "    attention = MultiHeadAttention(d_model, num_heads, name=\"attention\")({\n",
    "          'query': inputs,\n",
    "          'key': inputs,\n",
    "          'value': inputs,\n",
    "          'mask': padding_mask\n",
    "      })\n",
    "\n",
    "    #어텐션의 결과는 Dropout과 Layer Normalization이라는 훈련을 돕는 테크닉을 수행\n",
    "    attention = tf.keras.layers.Dropout(rate=dropout)(attention)\n",
    "    attention = tf.keras.layers.LayerNormalization(epsilon=1e-6)(inputs + attention)\n",
    "\n",
    "    #두 번째 서브 레이어 : 2개의 완전연결층\n",
    "    outputs = tf.keras.layers.Dense(units=units, activation='relu')(attention)\n",
    "    outputs = tf.keras.layers.Dense(units=d_model)(outputs)\n",
    "\n",
    "    #완전연결층의 결과는 Dropout과 LayerNormalization이라는 훈련을 돕는 테크닉을 수행\n",
    "    outputs = tf.keras.layers.Dropout(rate=dropout)(outputs)\n",
    "    outputs = tf.keras.layers.LayerNormalization(epsilon=1e-6)(attention + outputs)\n",
    "\n",
    "    return tf.keras.Model(inputs=[inputs, padding_mask], outputs=outputs, name=name)"
   ]
  },
  {
   "cell_type": "code",
   "execution_count": 50,
   "id": "naughty-script",
   "metadata": {},
   "outputs": [],
   "source": [
    "#트랜스포머 인코더\n",
    "\n",
    "def encoder(vocab_size,\n",
    "            num_layers,\n",
    "            units,\n",
    "            d_model,\n",
    "            num_heads,\n",
    "            dropout,\n",
    "            name=\"encoder\"):\n",
    "    inputs = tf.keras.Input(shape=(None,), name=\"inputs\")\n",
    "\n",
    "    #패딩 마스크 사용\n",
    "    padding_mask = tf.keras.Input(shape=(1, 1, None), name=\"padding_mask\")\n",
    "\n",
    "    #임베딩 레이어\n",
    "    embeddings = tf.keras.layers.Embedding(vocab_size, d_model)(inputs)\n",
    "    embeddings *= tf.math.sqrt(tf.cast(d_model, tf.float32))\n",
    "\n",
    "    #포지셔널 인코딩\n",
    "    embeddings = PositionalEncoding(vocab_size, d_model)(embeddings)\n",
    "\n",
    "    outputs = tf.keras.layers.Dropout(rate=dropout)(embeddings)\n",
    "\n",
    "    #num_layers만큼 쌓아올린 인코더의 층.\n",
    "    for i in range(num_layers):\n",
    "        outputs = encoder_layer(units=units,\n",
    "        d_model=d_model,\n",
    "        num_heads=num_heads,\n",
    "        dropout=dropout,\n",
    "        name=\"encoder_layer_{}\".format(i), )([outputs, padding_mask])\n",
    "\n",
    "    return tf.keras.Model(inputs=[inputs, padding_mask], outputs=outputs, name=name)"
   ]
  },
  {
   "cell_type": "markdown",
   "id": "warming-barrel",
   "metadata": {},
   "source": [
    "### - Decoder\n",
    "- 인코더-디코더 어텐션은 셀프 어텐션과는 달리, Query가 디코더의 벡터인 반면에 Key와 Value가 인코더의 벡터라는 특징이 있음.\n",
    "- 이 부분이 인코더가 입력 문장으로부터 정보를 디코더에 전달하는 과정.\n",
    "- 디코더의 셀프 어텐션, 인코더-디코더 어텐션 두 개의 어텐션 모두 스케일드 닷 프로덕트 어텐션을 멀티 헤드 어텐션으로 병렬적으로 수행함.\n",
    "- 임베딩 층(Embedding layer) 과 포지셔널 인코딩(Positional Encoding) 을 연결하고, 사용자가 원하는 만큼 디코더 층을 쌓아 트랜스포머의 디코더가 완성.\n",
    "- num_layers 개수의 디코더 층을 쌓음.\n",
    "- 학습 시간을 고려해서 2개의 디코더 레이어를 쌓음"
   ]
  },
  {
   "cell_type": "code",
   "execution_count": 51,
   "id": "subject-feeding",
   "metadata": {},
   "outputs": [],
   "source": [
    "#디코더 세 개의 서브 층 내부적으로 구현한 함수\n",
    "#디코더 하나의 레이어를 함수로 구현.\n",
    "#이 하나의 레이어 안에는 세 개의 서브 레이어가 존재.\n",
    "\n",
    "def decoder_layer(units, d_model, num_heads, dropout, name=\"decoder_layer\"):\n",
    "    inputs = tf.keras.Input(shape=(None, d_model), name=\"inputs\")\n",
    "    enc_outputs = tf.keras.Input(shape=(None, d_model), name=\"encoder_outputs\")\n",
    "    look_ahead_mask = tf.keras.Input(shape=(1, None, None), name=\"look_ahead_mask\")\n",
    "    padding_mask = tf.keras.Input(shape=(1, 1, None), name='padding_mask')\n",
    "\n",
    "    #첫 번째 서브 레이어 : 멀티 헤드 어텐션 수행 (셀프 어텐션)\n",
    "    attention1 = MultiHeadAttention(d_model, num_heads, name=\"attention_1\")(inputs={\n",
    "          'query': inputs,\n",
    "          'key': inputs,\n",
    "          'value': inputs,\n",
    "          'mask': look_ahead_mask\n",
    "      })\n",
    "\n",
    "    #멀티 헤드 어텐션의 결과는 LayerNormalization이라는 훈련을 돕는 테크닉을 수행\n",
    "    attention1 = tf.keras.layers.LayerNormalization(epsilon=1e-6)(attention1 + inputs)\n",
    "\n",
    "    #두 번째 서브 레이어 : 마스크드 멀티 헤드 어텐션 수행 (인코더-디코더 어텐션)\n",
    "    attention2 = MultiHeadAttention(d_model, num_heads, name=\"attention_2\")(inputs={\n",
    "          'query': attention1,\n",
    "          'key': enc_outputs,\n",
    "          'value': enc_outputs,\n",
    "          'mask': padding_mask\n",
    "      })\n",
    "\n",
    "    #마스크드 멀티 헤드 어텐션의 결과는\n",
    "    #Dropout과 LayerNormalization이라는 훈련을 돕는 테크닉을 수행\n",
    "    attention2 = tf.keras.layers.Dropout(rate=dropout)(attention2)\n",
    "    attention2 = tf.keras.layers.LayerNormalization(epsilon=1e-6)(attention2 + attention1)\n",
    "\n",
    "    #세 번째 서브 레이어 : 2개의 완전연결층\n",
    "    outputs = tf.keras.layers.Dense(units=units, activation='relu')(attention2)\n",
    "    outputs = tf.keras.layers.Dense(units=d_model)(outputs)\n",
    "\n",
    "    #완전연결층의 결과는 Dropout과 LayerNormalization 수행\n",
    "    outputs = tf.keras.layers.Dropout(rate=dropout)(outputs)\n",
    "    outputs = tf.keras.layers.LayerNormalization(epsilon=1e-6)(outputs + attention2)\n",
    "\n",
    "    return tf.keras.Model(inputs=[inputs, enc_outputs, look_ahead_mask, padding_mask],outputs=outputs,name=name)"
   ]
  },
  {
   "cell_type": "code",
   "execution_count": 52,
   "id": "subjective-output",
   "metadata": {},
   "outputs": [],
   "source": [
    "#트랜스포머 디코더\n",
    "\n",
    "def decoder(vocab_size,\n",
    "            num_layers,\n",
    "            units,\n",
    "            d_model,\n",
    "            num_heads,\n",
    "            dropout,\n",
    "            name='decoder'):\n",
    "    inputs = tf.keras.Input(shape=(None,), name='inputs')\n",
    "    enc_outputs = tf.keras.Input(shape=(None, d_model), name='encoder_outputs')\n",
    "    look_ahead_mask = tf.keras.Input(shape=(1, None, None), name='look_ahead_mask')\n",
    "\n",
    "    #패딩 마스크\n",
    "    padding_mask = tf.keras.Input(shape=(1, 1, None), name='padding_mask')\n",
    "  \n",
    "    #임베딩 레이어\n",
    "    embeddings = tf.keras.layers.Embedding(vocab_size, d_model)(inputs)\n",
    "    embeddings *= tf.math.sqrt(tf.cast(d_model, tf.float32))\n",
    "\n",
    "    #포지셔널 인코딩\n",
    "    embeddings = PositionalEncoding(vocab_size, d_model)(embeddings)\n",
    "\n",
    "    #Dropout이라는 훈련을 돕는 테크닉을 수행\n",
    "    outputs = tf.keras.layers.Dropout(rate=dropout)(embeddings)\n",
    "\n",
    "    for i in range(num_layers):\n",
    "        outputs = decoder_layer(\n",
    "            units=units,\n",
    "            d_model=d_model,\n",
    "            num_heads=num_heads,\n",
    "            dropout=dropout,\n",
    "            name='decoder_layer_{}'.format(i), )(inputs=[outputs, enc_outputs, look_ahead_mask, padding_mask])\n",
    "\n",
    "    return tf.keras.Model(inputs=[inputs, enc_outputs, look_ahead_mask, padding_mask],outputs=outputs,name=name)"
   ]
  },
  {
   "cell_type": "markdown",
   "id": "swiss-maine",
   "metadata": {},
   "source": [
    "### - Transformer"
   ]
  },
  {
   "cell_type": "code",
   "execution_count": 53,
   "id": "embedded-camera",
   "metadata": {},
   "outputs": [],
   "source": [
    "def transformer(vocab_size,\n",
    "                num_layers,\n",
    "                units,\n",
    "                d_model,\n",
    "                num_heads,\n",
    "                dropout,\n",
    "                name=\"transformer\"):\n",
    "    inputs = tf.keras.Input(shape=(None,), name=\"inputs\")\n",
    "    dec_inputs = tf.keras.Input(shape=(None,), name=\"dec_inputs\")\n",
    "\n",
    "    #인코더에서 패딩을 위한 마스크\n",
    "    enc_padding_mask = tf.keras.layers.Lambda(create_padding_mask, output_shape=(1, 1, None),name='enc_padding_mask')(inputs)\n",
    "\n",
    "    #디코더에서 미래의 토큰을 마스크 하기 위해서 사용.\n",
    "    #내부적으로 패딩 마스크도 포함되어져 있음.\n",
    "    look_ahead_mask = tf.keras.layers.Lambda(create_look_ahead_mask,output_shape=(1, None, None),name='look_ahead_mask')(dec_inputs)\n",
    "\n",
    "    #두 번째 어텐션 블록에서 인코더의 벡터들 마스킹\n",
    "    #디코더에서 패딩을 위한 마스크\n",
    "    dec_padding_mask = tf.keras.layers.Lambda(create_padding_mask, output_shape=(1, 1, None),name='dec_padding_mask')(inputs)\n",
    "\n",
    "    #인코더\n",
    "    enc_outputs = encoder(\n",
    "          vocab_size=vocab_size,\n",
    "          num_layers=num_layers,\n",
    "          units=units,\n",
    "          d_model=d_model,\n",
    "          num_heads=num_heads,\n",
    "          dropout=dropout, )(inputs=[inputs, enc_padding_mask])\n",
    "\n",
    "    #디코더\n",
    "    dec_outputs = decoder(\n",
    "        vocab_size=vocab_size,\n",
    "        num_layers=num_layers,\n",
    "        units=units,\n",
    "        d_model=d_model,\n",
    "        num_heads=num_heads,\n",
    "        dropout=dropout, )(inputs=[dec_inputs, enc_outputs, look_ahead_mask, dec_padding_mask])\n",
    "\n",
    "    #완전연결층\n",
    "    outputs = tf.keras.layers.Dense(units=vocab_size, name=\"outputs\")(dec_outputs)\n",
    "\n",
    "    return tf.keras.Model(inputs=[inputs, dec_inputs], outputs=outputs, name=name)"
   ]
  },
  {
   "cell_type": "markdown",
   "id": "dried-investing",
   "metadata": {},
   "source": [
    "### 4.2 모델 생성"
   ]
  },
  {
   "cell_type": "code",
   "execution_count": 54,
   "id": "occasional-quality",
   "metadata": {},
   "outputs": [
    {
     "name": "stdout",
     "output_type": "stream",
     "text": [
      "Model: \"transformer\"\n",
      "__________________________________________________________________________________________________\n",
      "Layer (type)                    Output Shape         Param #     Connected to                     \n",
      "==================================================================================================\n",
      "inputs (InputLayer)             [(None, None)]       0                                            \n",
      "__________________________________________________________________________________________________\n",
      "dec_inputs (InputLayer)         [(None, None)]       0                                            \n",
      "__________________________________________________________________________________________________\n",
      "enc_padding_mask (Lambda)       (None, 1, 1, None)   0           inputs[0][0]                     \n",
      "__________________________________________________________________________________________________\n",
      "encoder (Functional)            (None, None, 256)    3143936     inputs[0][0]                     \n",
      "                                                                 enc_padding_mask[0][0]           \n",
      "__________________________________________________________________________________________________\n",
      "look_ahead_mask (Lambda)        (None, 1, None, None 0           dec_inputs[0][0]                 \n",
      "__________________________________________________________________________________________________\n",
      "dec_padding_mask (Lambda)       (None, 1, 1, None)   0           inputs[0][0]                     \n",
      "__________________________________________________________________________________________________\n",
      "decoder (Functional)            (None, None, 256)    3671296     dec_inputs[0][0]                 \n",
      "                                                                 encoder[0][0]                    \n",
      "                                                                 look_ahead_mask[0][0]            \n",
      "                                                                 dec_padding_mask[0][0]           \n",
      "__________________________________________________________________________________________________\n",
      "outputs (Dense)                 (None, None, 8163)   2097891     decoder[0][0]                    \n",
      "==================================================================================================\n",
      "Total params: 8,913,123\n",
      "Trainable params: 8,913,123\n",
      "Non-trainable params: 0\n",
      "__________________________________________________________________________________________________\n"
     ]
    }
   ],
   "source": [
    "#num_layers, d-Model, units는 전부 사용자가 정할 수 있는 하이퍼파라미터 값\n",
    "#num_layers와 d-Model의 값은 시간 상 작은 값들 사용.\n",
    "\n",
    "tf.keras.backend.clear_session()\n",
    "\n",
    "#하이퍼파라미터\n",
    "NUM_LAYERS = 2    #인코더와 디코더의 층의 개수\n",
    "D_MODEL = 256    #인코더와 디코더 내부의 입, 출력의 고정 차원\n",
    "NUM_HEADS = 8    #멀티 헤드 어텐션에서의 헤드 수 \n",
    "UNITS = 512    #피드 포워드 신경망의 은닉층의 크기\n",
    "DROPOUT = 0.1    #드롭아웃의 비율\n",
    "\n",
    "model = transformer(\n",
    "    vocab_size=VOCAB_SIZE,\n",
    "    num_layers=NUM_LAYERS,\n",
    "    units=UNITS,\n",
    "    d_model=D_MODEL,\n",
    "    num_heads=NUM_HEADS,\n",
    "    dropout=DROPOUT)\n",
    "\n",
    "model.summary()"
   ]
  },
  {
   "cell_type": "markdown",
   "id": "valid-mounting",
   "metadata": {},
   "source": [
    "### - 손실 함수"
   ]
  },
  {
   "cell_type": "code",
   "execution_count": 55,
   "id": "inclusive-sarah",
   "metadata": {},
   "outputs": [],
   "source": [
    "#레이블인 시퀀스에 패딩이 되어 있으므로 loss 계산 시 패딩 마스크 적용해야 함.\n",
    "def loss_function(y_true, y_pred):\n",
    "    y_true = tf.reshape(y_true, shape=(-1, MAX_LENGTH - 1))\n",
    "  \n",
    "    loss = tf.keras.losses.SparseCategoricalCrossentropy(from_logits=True, reduction='none')(y_true, y_pred)\n",
    "\n",
    "    mask = tf.cast(tf.not_equal(y_true, 0), tf.float32)\n",
    "    loss = tf.multiply(loss, mask)\n",
    "\n",
    "    return tf.reduce_mean(loss)"
   ]
  },
  {
   "cell_type": "markdown",
   "id": "valuable-methodology",
   "metadata": {},
   "source": [
    "### - 커스텀 학습률(Learning rate) 스케줄링"
   ]
  },
  {
   "cell_type": "code",
   "execution_count": 56,
   "id": "accomplished-sacramento",
   "metadata": {},
   "outputs": [],
   "source": [
    "#최근에는 모델학습 초기에 learning rate를 급격히 높였다가, \n",
    "#이후 train step이 진행됨에 따라 서서히 낮추어 가면서 안정적으로 수렴하게 하는 고급 기법을 널리 사용하고 있음.\n",
    "#이런 방법을 커스텀 학습률 스케줄링(Custom Learning rate Scheduling)이라 함.\n",
    "\n",
    "class CustomSchedule(tf.keras.optimizers.schedules.LearningRateSchedule):\n",
    "\n",
    "    def __init__(self, d_model, warmup_steps=4000):\n",
    "        super(CustomSchedule, self).__init__()\n",
    "\n",
    "        self.d_model = d_model\n",
    "        self.d_model = tf.cast(self.d_model, tf.float32)\n",
    "\n",
    "        self.warmup_steps = warmup_steps\n",
    "\n",
    "    def __call__(self, step):\n",
    "        arg1 = tf.math.rsqrt(step)\n",
    "        arg2 = step * (self.warmup_steps**-1.5)\n",
    "\n",
    "        return tf.math.rsqrt(self.d_model) * tf.math.minimum(arg1, arg2)"
   ]
  },
  {
   "cell_type": "code",
   "execution_count": 57,
   "id": "quiet-professor",
   "metadata": {},
   "outputs": [
    {
     "data": {
      "text/plain": [
       "Text(0.5, 0, 'Train Step')"
      ]
     },
     "execution_count": 57,
     "metadata": {},
     "output_type": "execute_result"
    },
    {
     "data": {
      "image/png": "[encoded data removed]",
      "text/plain": [
       "<Figure size 432x288 with 1 Axes>"
      ]
     },
     "metadata": {
      "needs_background": "light"
     },
     "output_type": "display_data"
    }
   ],
   "source": [
    "#커스텀 학습률 스케줄링 계획 시각화\n",
    "sample_learning_rate = CustomSchedule(d_model=128)\n",
    "\n",
    "plt.plot(sample_learning_rate(tf.range(200000, dtype=tf.float32)))\n",
    "plt.ylabel(\"Learning Rate\")\n",
    "plt.xlabel(\"Train Step\")"
   ]
  },
  {
   "cell_type": "markdown",
   "id": "numerical-selection",
   "metadata": {},
   "source": [
    "- 학습 초기에는 learning_rate가 step_numstep_num에 비례해서 증가하다가 이후로는 감소하는 것을 확인할 수 있음."
   ]
  },
  {
   "cell_type": "markdown",
   "id": "composite-parish",
   "metadata": {},
   "source": [
    "### 4.3 모델 컴파일"
   ]
  },
  {
   "cell_type": "code",
   "execution_count": 58,
   "id": "entertaining-stomach",
   "metadata": {},
   "outputs": [],
   "source": [
    "learning_rate = CustomSchedule(D_MODEL)\n",
    "\n",
    "optimizer = tf.keras.optimizers.Adam(\n",
    "    learning_rate, beta_1=0.9, beta_2=0.98, epsilon=1e-9)\n",
    "\n",
    "def accuracy(y_true, y_pred):\n",
    "    y_true = tf.reshape(y_true, shape=(-1, MAX_LENGTH - 1))\n",
    "    \n",
    "    return tf.keras.metrics.sparse_categorical_accuracy(y_true, y_pred)\n",
    "\n",
    "model.compile(optimizer=optimizer, loss=loss_function, metrics=[accuracy])"
   ]
  },
  {
   "cell_type": "markdown",
   "id": "affecting-means",
   "metadata": {},
   "source": [
    "### 4.4 모델 훈련"
   ]
  },
  {
   "cell_type": "code",
   "execution_count": 59,
   "id": "sustainable-auditor",
   "metadata": {},
   "outputs": [
    {
     "name": "stdout",
     "output_type": "stream",
     "text": [
      "Epoch 1/20\n",
      "183/183 [==============================] - 18s 61ms/step - loss: 3.8929 - accuracy: 0.0363\n",
      "Epoch 2/20\n",
      "183/183 [==============================] - 11s 60ms/step - loss: 3.1640 - accuracy: 0.1279\n",
      "Epoch 3/20\n",
      "183/183 [==============================] - 11s 60ms/step - loss: 2.6226 - accuracy: 0.1302\n",
      "Epoch 4/20\n",
      "183/183 [==============================] - 11s 60ms/step - loss: 2.4018 - accuracy: 0.1377\n",
      "Epoch 5/20\n",
      "183/183 [==============================] - 11s 60ms/step - loss: 2.2444 - accuracy: 0.1468\n",
      "Epoch 6/20\n",
      "183/183 [==============================] - 11s 60ms/step - loss: 2.0901 - accuracy: 0.1577\n",
      "Epoch 7/20\n",
      "183/183 [==============================] - 11s 60ms/step - loss: 1.9197 - accuracy: 0.1713\n",
      "Epoch 8/20\n",
      "183/183 [==============================] - 11s 60ms/step - loss: 1.7369 - accuracy: 0.1923\n",
      "Epoch 9/20\n",
      "183/183 [==============================] - 11s 60ms/step - loss: 1.5269 - accuracy: 0.2173\n",
      "Epoch 10/20\n",
      "183/183 [==============================] - 11s 60ms/step - loss: 1.3091 - accuracy: 0.2386\n",
      "Epoch 11/20\n",
      "183/183 [==============================] - 11s 60ms/step - loss: 1.0899 - accuracy: 0.2687\n",
      "Epoch 12/20\n",
      "183/183 [==============================] - 11s 60ms/step - loss: 0.8841 - accuracy: 0.2981\n",
      "Epoch 13/20\n",
      "183/183 [==============================] - 11s 60ms/step - loss: 0.6760 - accuracy: 0.3274\n",
      "Epoch 14/20\n",
      "183/183 [==============================] - 11s 60ms/step - loss: 0.5088 - accuracy: 0.3548\n",
      "Epoch 15/20\n",
      "183/183 [==============================] - 11s 60ms/step - loss: 0.3644 - accuracy: 0.3809\n",
      "Epoch 16/20\n",
      "183/183 [==============================] - 11s 60ms/step - loss: 0.2596 - accuracy: 0.3998\n",
      "Epoch 17/20\n",
      "183/183 [==============================] - 11s 60ms/step - loss: 0.1801 - accuracy: 0.4145\n",
      "Epoch 18/20\n",
      "183/183 [==============================] - 11s 60ms/step - loss: 0.1380 - accuracy: 0.4197\n",
      "Epoch 19/20\n",
      "183/183 [==============================] - 11s 60ms/step - loss: 0.1085 - accuracy: 0.4274\n",
      "Epoch 20/20\n",
      "183/183 [==============================] - 11s 60ms/step - loss: 0.0968 - accuracy: 0.4232\n"
     ]
    },
    {
     "data": {
      "text/plain": [
       "<tensorflow.python.keras.callbacks.History at 0x7ff37847ebd0>"
      ]
     },
     "execution_count": 59,
     "metadata": {},
     "output_type": "execute_result"
    }
   ],
   "source": [
    "EPOCHS = 20\n",
    "model.fit(dataset, epochs=EPOCHS, verbose=1)"
   ]
  },
  {
   "cell_type": "markdown",
   "id": "hourly-enlargement",
   "metadata": {},
   "source": [
    "## 5. 모델 평가하기 - 챗봇 테스트하기\n",
    "- 새로운 입력 문장에 대해서는 훈련 때와 동일한 전처리를 거친다.\n",
    "- 입력 문장을 토크나이징하고, START_TOKEN과 END_TOKEN을 추가한다.\n",
    "- 패딩 마스킹과 룩 어헤드 마스킹을 계산한다.\n",
    "- 디코더는 입력 시퀀스로부터 다음 단어를 예측한다.\n",
    "- 디코더는 예측된 다음 단어를 기존의 입력 시퀀스에 추가하여 새로운 입력으로 사용한다.\n",
    "- END_TOKEN이 예측되거나 문장의 최대 길이에 도달하면 디코더는 동작을 멈춘다."
   ]
  },
  {
   "cell_type": "code",
   "execution_count": 60,
   "id": "meaning-brass",
   "metadata": {},
   "outputs": [],
   "source": [
    "#위의 6가지 과정을 모두 담은 함수 생성\n",
    "def decoder_inference(sentence):\n",
    "    sentence = preprocess_sentence(sentence)\n",
    "\n",
    "    #입력된 문장을 정수 인코딩 후, 시작 토큰과 종료 토큰을 앞뒤로 추가.\n",
    "    sentence = tf.expand_dims(START_TOKEN + tokenizer.encode(sentence) + END_TOKEN, axis=0)\n",
    "\n",
    "    #디코더의 현재까지의 예측한 출력 시퀀스가 지속적으로 저장되는 변수.\n",
    "    #처음에는 예측한 내용이 없음으로 시작 토큰만 별도 저장.\n",
    "    output_sequence = tf.expand_dims(START_TOKEN, 0)\n",
    "\n",
    "    #디코더의 인퍼런스 단계\n",
    "    for i in range(MAX_LENGTH):\n",
    "        \n",
    "        #디코더는 최대 MAX_LENGTH의 길이만큼 다음 단어 예측을 반복.\n",
    "        predictions = model(inputs=[sentence, output_sequence], training=False)\n",
    "        predictions = predictions[:, -1:, :]\n",
    "\n",
    "        #현재 예측한 단어의 정수\n",
    "        predicted_id = tf.cast(tf.argmax(predictions, axis=-1), tf.int32)\n",
    "\n",
    "        #만약 현재 예측한 단어가 종료 토큰이라면 for문을 종료\n",
    "        if tf.equal(predicted_id, END_TOKEN[0]):\n",
    "            break\n",
    "\n",
    "        #예측한 단어들은 지속적으로 output_sequence에 추가.\n",
    "        #이 output_sequence는 다시 디코더의 입력.\n",
    "        output_sequence = tf.concat([output_sequence, predicted_id], axis=-1)\n",
    "\n",
    "    return tf.squeeze(output_sequence, axis=0)"
   ]
  },
  {
   "cell_type": "code",
   "execution_count": 61,
   "id": "bottom-arlington",
   "metadata": {},
   "outputs": [],
   "source": [
    "#임의의 입력 문장에 대해서 decoder_inference() 함수를 호출하여 챗봇의 대답을 얻는 함수\n",
    "\n",
    "def sentence_generation(sentence):\n",
    "    \n",
    "    #입력 문장에 대해서 디코더를 동작 시켜 예측된 정수 시퀀스를 리턴.\n",
    "    prediction = decoder_inference(sentence)\n",
    "\n",
    "    #정수 시퀀스를 다시 텍스트 시퀀스로 변환.\n",
    "    predicted_sentence = tokenizer.decode([i for i in prediction if i < tokenizer.vocab_size])\n",
    "\n",
    "    print('입력 : {}'.format(sentence))\n",
    "    print('출력 : {}'.format(predicted_sentence))\n",
    "\n",
    "    return predicted_sentence"
   ]
  },
  {
   "cell_type": "code",
   "execution_count": 62,
   "id": "persistent-cleanup",
   "metadata": {},
   "outputs": [
    {
     "name": "stdout",
     "output_type": "stream",
     "text": [
      "입력 : 안녕\n",
      "출력 : 안녕하세요 .\n"
     ]
    },
    {
     "data": {
      "text/plain": [
       "'안녕하세요 .'"
      ]
     },
     "execution_count": 62,
     "metadata": {},
     "output_type": "execute_result"
    }
   ],
   "source": [
    "#입력문장에 대한 답변 확인\n",
    "sentence_generation('안녕')"
   ]
  },
  {
   "cell_type": "code",
   "execution_count": 63,
   "id": "played-rider",
   "metadata": {},
   "outputs": [
    {
     "name": "stdout",
     "output_type": "stream",
     "text": [
      "입력 : 뭐해?\n",
      "출력 : 실내 데이트요 .\n"
     ]
    },
    {
     "data": {
      "text/plain": [
       "'실내 데이트요 .'"
      ]
     },
     "execution_count": 63,
     "metadata": {},
     "output_type": "execute_result"
    }
   ],
   "source": [
    "sentence_generation('뭐해?')"
   ]
  },
  {
   "cell_type": "code",
   "execution_count": 64,
   "id": "annual-louisville",
   "metadata": {},
   "outputs": [
    {
     "name": "stdout",
     "output_type": "stream",
     "text": [
      "입력 : 밥은?\n",
      "출력 : 정신이 힘든 건지 몸이 아픈 건지 확인해 보세요 .\n"
     ]
    },
    {
     "data": {
      "text/plain": [
       "'정신이 힘든 건지 몸이 아픈 건지 확인해 보세요 .'"
      ]
     },
     "execution_count": 64,
     "metadata": {},
     "output_type": "execute_result"
    }
   ],
   "source": [
    "sentence_generation('밥은?')"
   ]
  },
  {
   "cell_type": "code",
   "execution_count": 67,
   "id": "super-document",
   "metadata": {},
   "outputs": [
    {
     "name": "stdout",
     "output_type": "stream",
     "text": [
      "입력 : 밥 먹었어?\n",
      "출력 : 저는 배터리가 밥이예요 .\n"
     ]
    },
    {
     "data": {
      "text/plain": [
       "'저는 배터리가 밥이예요 .'"
      ]
     },
     "execution_count": 67,
     "metadata": {},
     "output_type": "execute_result"
    }
   ],
   "source": [
    "sentence_generation('밥 먹었어?')"
   ]
  },
  {
   "cell_type": "code",
   "execution_count": 65,
   "id": "purple-voluntary",
   "metadata": {},
   "outputs": [
    {
     "name": "stdout",
     "output_type": "stream",
     "text": [
      "입력 : 무슨 일 있어?\n",
      "출력 : 해주고 티를 팍팍 내세요 .\n"
     ]
    },
    {
     "data": {
      "text/plain": [
       "'해주고 티를 팍팍 내세요 .'"
      ]
     },
     "execution_count": 65,
     "metadata": {},
     "output_type": "execute_result"
    }
   ],
   "source": [
    "sentence_generation('무슨 일 있어?')"
   ]
  },
  {
   "cell_type": "code",
   "execution_count": 66,
   "id": "conscious-concert",
   "metadata": {},
   "outputs": [
    {
     "name": "stdout",
     "output_type": "stream",
     "text": [
      "입력 : 오늘 기분 어때?\n",
      "출력 : 저랑 놀아요 .\n"
     ]
    },
    {
     "data": {
      "text/plain": [
       "'저랑 놀아요 .'"
      ]
     },
     "execution_count": 66,
     "metadata": {},
     "output_type": "execute_result"
    }
   ],
   "source": [
    "sentence_generation('오늘 기분 어때?')"
   ]
  },
  {
   "cell_type": "code",
   "execution_count": 68,
   "id": "adapted-drove",
   "metadata": {},
   "outputs": [
    {
     "name": "stdout",
     "output_type": "stream",
     "text": [
      "입력 : 이름이 뭐야?\n",
      "출력 : 위로봇이요 .\n"
     ]
    },
    {
     "data": {
      "text/plain": [
       "'위로봇이요 .'"
      ]
     },
     "execution_count": 68,
     "metadata": {},
     "output_type": "execute_result"
    }
   ],
   "source": [
    "sentence_generation('이름이 뭐야?')"
   ]
  },
  {
   "cell_type": "code",
   "execution_count": 69,
   "id": "median-barcelona",
   "metadata": {},
   "outputs": [
    {
     "name": "stdout",
     "output_type": "stream",
     "text": [
      "입력 : 오늘 좀 우울해.\n",
      "출력 : 제 앞에서 울어도 돼요 .\n"
     ]
    },
    {
     "data": {
      "text/plain": [
       "'제 앞에서 울어도 돼요 .'"
      ]
     },
     "execution_count": 69,
     "metadata": {},
     "output_type": "execute_result"
    }
   ],
   "source": [
    "sentence_generation('오늘 좀 우울해.')"
   ]
  },
  {
   "cell_type": "code",
   "execution_count": 70,
   "id": "threaded-modern",
   "metadata": {},
   "outputs": [
    {
     "name": "stdout",
     "output_type": "stream",
     "text": [
      "입력 : 오늘 기분 좋은 일 있었어.\n",
      "출력 : 저도 좋아요 .\n"
     ]
    },
    {
     "data": {
      "text/plain": [
       "'저도 좋아요 .'"
      ]
     },
     "execution_count": 70,
     "metadata": {},
     "output_type": "execute_result"
    }
   ],
   "source": [
    "sentence_generation('오늘 기분 좋은 일 있었어.')"
   ]
  },
  {
   "cell_type": "code",
   "execution_count": 71,
   "id": "controlling-minister",
   "metadata": {},
   "outputs": [
    {
     "name": "stdout",
     "output_type": "stream",
     "text": [
      "입력 : 여행 가고 싶다.\n",
      "출력 : 저도 같이 가요 .\n"
     ]
    },
    {
     "data": {
      "text/plain": [
       "'저도 같이 가요 .'"
      ]
     },
     "execution_count": 71,
     "metadata": {},
     "output_type": "execute_result"
    }
   ],
   "source": [
    "sentence_generation('여행 가고 싶다.')"
   ]
  },
  {
   "cell_type": "markdown",
   "id": "interracial-curtis",
   "metadata": {},
   "source": [
    "---"
   ]
  },
  {
   "cell_type": "markdown",
   "id": "derived-burke",
   "metadata": {},
   "source": [
    "# - 프로젝트 정리   \n",
    "\n",
    "1. 코드 내용 수정   \n",
    "- 전처리 과정에서 한글도 포함하도록 수정했다.    \n",
    ": \"[^a-zA-Z?.!,]+\"   ➡   \"[^가-힣a-zA-Z0-9?.!,]+\"  \n",
    "   \n",
    "- 질문과 답변의 쌍인 데이터셋을 구성하기 위한 데이터 로드 함수에서 실습 노드 그대로 사용했더니 자꾸 오류가 나서 간략하게 수정하여 사용했다.   \n",
    "\n",
    "\n",
    "2. 하이퍼 파라미터 조정   \n",
    "\n",
    "- 배치 사이즈나 하이퍼 파라미터를 조금씩 변경 해 봤으나 모델 학습 결과는 큰 차이가 없었다.   \n",
    "\n",
    "\n",
    "3. 챗봇 테스트   \n",
    "- 트랜스포머 모델이 수렴하는 결과를 보였다.   \n",
    "\n",
    "- 모델 평가(챗봇 테스트)를 총 10번 진행했는데 7번이나 제대로 된 대답을 했다.   \n",
    "\n",
    "- 물론 \"밥은?\"과 \"밥 먹었어?\"는 동일한 의미이지만 전자는 제대로 된 답을 하지 못했고 후자는 제대로 된 답을 했다.    \n",
    "\n",
    "- 완전한 문장이 아니라 제대로 인식을 못하고 엉뚱한 대답을 내 놓은 것 같다.   \n",
    "\n",
    "- 완전한 문장이 아니어도 같은 의미를 가지는 경우에도 제대로 된 대답을 할 수 있으려면 모델의 성능을 개선 시도가 필요할 것 같다.   "
   ]
  }
 ],
 "metadata": {
  "kernelspec": {
   "display_name": "Python 3",
   "language": "python",
   "name": "python3"
  },
  "language_info": {
   "codemirror_mode": {
    "name": "ipython",
    "version": 3
   },
   "file_extension": ".py",
   "mimetype": "text/x-python",
   "name": "python",
   "nbconvert_exporter": "python",
   "pygments_lexer": "ipython3",
   "version": "3.7.9"
  }
 },
 "nbformat": 4,
 "nbformat_minor": 5
}
