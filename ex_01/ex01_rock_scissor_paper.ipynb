{
 "cells": [
  {
   "cell_type": "code",
   "execution_count": 44,
   "id": "single-northern",
   "metadata": {},
   "outputs": [
    {
     "name": "stdout",
     "output_type": "stream",
     "text": [
      "101 images to be resized.\n",
      "101  images resized.\n",
      "scissor images resizing completed\n",
      "101 images to be resized.\n",
      "101  images resized.\n",
      "rock images resizing completed\n",
      "101 images to be resized.\n",
      "101  images resized.\n",
      "paper images resizing completed\n",
      "학습데이터(x_train)의 이미지 개수는 303 입니다.\n",
      "x_train shape: (303, 28, 28, 3)\n",
      "y_train shape: (303,)\n",
      "label : 0\n"
     ]
    },
    {
     "data": {
      "image/png": "[encoded data removed]",
      "text/plain": [
       "<Figure size 432x288 with 1 Axes>"
      ]
     },
     "metadata": {
      "needs_background": "light"
     },
     "output_type": "display_data"
    }
   ],
   "source": [
    "from PIL import Image\n",
    "import os, glob\n",
    "import numpy as np\n",
    "import matplotlib.pyplot as plt\n",
    "\n",
    "\n",
    "def resize_images(img_path) :\n",
    "    images = glob.glob(img_path + '/*.jpg')\n",
    "    \n",
    "    print(len(images), \"images to be resized.\")\n",
    "    \n",
    "    target_size = (28,28)\n",
    "    for img in images :\n",
    "        old_img = Image.open(img)\n",
    "        new_img = old_img.resize(target_size, Image.ANTIALIAS)\n",
    "        new_img.save(img, \"JPEG\")\n",
    "    print(len(images), \" images resized.\")\n",
    "    \n",
    "\n",
    "def load_data(img_path, number_of_data,data_type):  \n",
    "    # 가위바위보 이미지 개수 총합에 주의하세요.\n",
    "    # 가위 : 0, 바위 : 1, 보 : 2\n",
    "    img_size=28\n",
    "    color=3\n",
    "    #이미지 데이터와 라벨(가위:0, 바위:1, 보:2) 데이터를 담을 행렬(matrix) 영역을 생성합니다.\n",
    "    imgs=np.zeros(number_of_data*img_size*img_size*color,dtype=np.int32).reshape(number_of_data,img_size,img_size,color)\n",
    "    labels=np.zeros(number_of_data,dtype=np.int32)\n",
    "\n",
    "    idx=0\n",
    "    for file in glob.iglob(img_path+'/scissor/*.jpg'):\n",
    "        img = np.array(Image.open(file),dtype=np.int32)\n",
    "        imgs[idx,:,:,:]=img    # 데이터 영역에 이미지 행렬을 복사\n",
    "        labels[idx]=0   # 가위 : 0\n",
    "        idx=idx+1\n",
    "\n",
    "    for file in glob.iglob(img_path+'/rock/*.jpg'):\n",
    "        img = np.array(Image.open(file),dtype=np.int32)\n",
    "        imgs[idx,:,:,:]=img    # 데이터 영역에 이미지 행렬을 복사\n",
    "        labels[idx]=1   # 바위 : 1\n",
    "        idx=idx+1  \n",
    "    \n",
    "    for file in glob.iglob(img_path+'/paper/*.jpg'):\n",
    "        img = np.array(Image.open(file),dtype=np.int32)\n",
    "        imgs[idx,:,:,:]=img    # 데이터 영역에 이미지 행렬을 복사\n",
    "        labels[idx]=2   # 보 : 2\n",
    "        idx=idx+1\n",
    "        \n",
    "    print(\"학습데이터(\"+data_type+\")의 이미지 개수는\", idx,\"입니다.\")\n",
    "    return imgs, labels\n",
    "\n",
    "\n",
    "scissor_img_dir_path = os.getenv(\"HOME\") + \"/aiffel/aiffel_project/rock_scissor_paper/scissor\"\n",
    "resize_images(scissor_img_dir_path)\n",
    "print(\"scissor images resizing completed\")\n",
    "\n",
    "rock_img_dir_path = os.getenv(\"HOME\") + \"/aiffel/aiffel_project/rock_scissor_paper/rock\"\n",
    "resize_images(rock_img_dir_path)\n",
    "print(\"rock images resizing completed\")\n",
    "\n",
    "\n",
    "paper_img_dir_path = os.getenv(\"HOME\") + \"/aiffel/aiffel_project/rock_scissor_paper/paper\"\n",
    "resize_images(paper_img_dir_path)\n",
    "print(\"paper images resizing completed\")\n",
    "\n",
    "\n",
    "image_dir_path = os.getenv(\"HOME\") + \"/aiffel/aiffel_project/rock_scissor_paper\"\n",
    "(x_train, y_train)=load_data(image_dir_path, number_of_data = 303, data_type = 'x_train')\n",
    "x_train_norm = x_train/255.0   # 입력은 0~1 사이의 값으로 정규화\n",
    "\n",
    "print(\"x_train shape: {}\".format(x_train.shape))\n",
    "print(\"y_train shape: {}\".format(y_train.shape))\n",
    "\n",
    "plt.imshow(x_train[0])\n",
    "print('label :', y_train[0])"
   ]
  },
  {
   "cell_type": "code",
   "execution_count": 45,
   "id": "velvet-secret",
   "metadata": {
    "scrolled": true
   },
   "outputs": [
    {
     "name": "stdout",
     "output_type": "stream",
     "text": [
      "Model: \"sequential_5\"\n",
      "_________________________________________________________________\n",
      "Layer (type)                 Output Shape              Param #   \n",
      "=================================================================\n",
      "conv2d_10 (Conv2D)           (None, 26, 26, 303)       8484      \n",
      "_________________________________________________________________\n",
      "max_pooling2d_10 (MaxPooling (None, 13, 13, 303)       0         \n",
      "_________________________________________________________________\n",
      "conv2d_11 (Conv2D)           (None, 11, 11, 303)       826584    \n",
      "_________________________________________________________________\n",
      "max_pooling2d_11 (MaxPooling (None, 5, 5, 303)         0         \n",
      "_________________________________________________________________\n",
      "flatten_5 (Flatten)          (None, 7575)              0         \n",
      "_________________________________________________________________\n",
      "dense_10 (Dense)             (None, 50)                378800    \n",
      "_________________________________________________________________\n",
      "dense_11 (Dense)             (None, 3)                 153       \n",
      "=================================================================\n",
      "Total params: 1,214,021\n",
      "Trainable params: 1,214,021\n",
      "Non-trainable params: 0\n",
      "_________________________________________________________________\n",
      "Epoch 1/50\n",
      "10/10 [==============================] - 1s 18ms/step - loss: 1.1112 - accuracy: 0.3396\n",
      "Epoch 2/50\n",
      "10/10 [==============================] - 0s 17ms/step - loss: 0.9959 - accuracy: 0.6432\n",
      "Epoch 3/50\n",
      "10/10 [==============================] - 0s 15ms/step - loss: 0.6233 - accuracy: 0.9500\n",
      "Epoch 4/50\n",
      "10/10 [==============================] - 0s 14ms/step - loss: 0.2142 - accuracy: 0.9942\n",
      "Epoch 5/50\n",
      "10/10 [==============================] - 0s 14ms/step - loss: 0.0407 - accuracy: 1.0000\n",
      "Epoch 6/50\n",
      "10/10 [==============================] - 0s 13ms/step - loss: 0.0085 - accuracy: 1.0000\n",
      "Epoch 7/50\n",
      "10/10 [==============================] - 0s 13ms/step - loss: 0.0022 - accuracy: 1.0000\n",
      "Epoch 8/50\n",
      "10/10 [==============================] - 0s 14ms/step - loss: 9.2339e-04 - accuracy: 1.0000\n",
      "Epoch 9/50\n",
      "10/10 [==============================] - 0s 13ms/step - loss: 5.5744e-04 - accuracy: 1.0000\n",
      "Epoch 10/50\n",
      "10/10 [==============================] - 0s 13ms/step - loss: 4.5723e-04 - accuracy: 1.0000\n",
      "Epoch 11/50\n",
      "10/10 [==============================] - 0s 14ms/step - loss: 5.1529e-04 - accuracy: 1.0000\n",
      "Epoch 12/50\n",
      "10/10 [==============================] - 0s 14ms/step - loss: 3.9430e-04 - accuracy: 1.0000\n",
      "Epoch 13/50\n",
      "10/10 [==============================] - 0s 14ms/step - loss: 4.4805e-04 - accuracy: 1.0000\n",
      "Epoch 14/50\n",
      "10/10 [==============================] - 0s 14ms/step - loss: 3.1959e-04 - accuracy: 1.0000\n",
      "Epoch 15/50\n",
      "10/10 [==============================] - 0s 14ms/step - loss: 4.0328e-04 - accuracy: 1.0000\n",
      "Epoch 16/50\n",
      "10/10 [==============================] - 0s 14ms/step - loss: 3.2707e-04 - accuracy: 1.0000\n",
      "Epoch 17/50\n",
      "10/10 [==============================] - 0s 13ms/step - loss: 2.6970e-04 - accuracy: 1.0000\n",
      "Epoch 18/50\n",
      "10/10 [==============================] - 0s 13ms/step - loss: 2.5827e-04 - accuracy: 1.0000\n",
      "Epoch 19/50\n",
      "10/10 [==============================] - 0s 13ms/step - loss: 2.4727e-04 - accuracy: 1.0000\n",
      "Epoch 20/50\n",
      "10/10 [==============================] - 0s 13ms/step - loss: 2.4334e-04 - accuracy: 1.0000\n",
      "Epoch 21/50\n",
      "10/10 [==============================] - 0s 13ms/step - loss: 2.2592e-04 - accuracy: 1.0000\n",
      "Epoch 22/50\n",
      "10/10 [==============================] - 0s 14ms/step - loss: 1.8215e-04 - accuracy: 1.0000\n",
      "Epoch 23/50\n",
      "10/10 [==============================] - 0s 14ms/step - loss: 2.4586e-04 - accuracy: 1.0000\n",
      "Epoch 24/50\n",
      "10/10 [==============================] - 0s 14ms/step - loss: 1.8363e-04 - accuracy: 1.0000\n",
      "Epoch 25/50\n",
      "10/10 [==============================] - 0s 14ms/step - loss: 2.0350e-04 - accuracy: 1.0000\n",
      "Epoch 26/50\n",
      "10/10 [==============================] - 0s 14ms/step - loss: 1.8915e-04 - accuracy: 1.0000\n",
      "Epoch 27/50\n",
      "10/10 [==============================] - 0s 14ms/step - loss: 1.5302e-04 - accuracy: 1.0000\n",
      "Epoch 28/50\n",
      "10/10 [==============================] - 0s 14ms/step - loss: 1.7833e-04 - accuracy: 1.0000\n",
      "Epoch 29/50\n",
      "10/10 [==============================] - 0s 14ms/step - loss: 1.2879e-04 - accuracy: 1.0000\n",
      "Epoch 30/50\n",
      "10/10 [==============================] - 0s 13ms/step - loss: 1.3892e-04 - accuracy: 1.0000\n",
      "Epoch 31/50\n",
      "10/10 [==============================] - 0s 14ms/step - loss: 1.2325e-04 - accuracy: 1.0000\n",
      "Epoch 32/50\n",
      "10/10 [==============================] - 0s 14ms/step - loss: 1.0749e-04 - accuracy: 1.0000\n",
      "Epoch 33/50\n",
      "10/10 [==============================] - 0s 14ms/step - loss: 1.1154e-04 - accuracy: 1.0000\n",
      "Epoch 34/50\n",
      "10/10 [==============================] - 0s 14ms/step - loss: 1.2568e-04 - accuracy: 1.0000\n",
      "Epoch 35/50\n",
      "10/10 [==============================] - 0s 14ms/step - loss: 1.1640e-04 - accuracy: 1.0000\n",
      "Epoch 36/50\n",
      "10/10 [==============================] - 0s 14ms/step - loss: 1.0292e-04 - accuracy: 1.0000\n",
      "Epoch 37/50\n",
      "10/10 [==============================] - 0s 13ms/step - loss: 1.1163e-04 - accuracy: 1.0000\n",
      "Epoch 38/50\n",
      "10/10 [==============================] - 0s 14ms/step - loss: 8.9034e-05 - accuracy: 1.0000\n",
      "Epoch 39/50\n",
      "10/10 [==============================] - 0s 14ms/step - loss: 9.4269e-05 - accuracy: 1.0000\n",
      "Epoch 40/50\n",
      "10/10 [==============================] - 0s 14ms/step - loss: 1.0058e-04 - accuracy: 1.0000\n",
      "Epoch 41/50\n",
      "10/10 [==============================] - 0s 14ms/step - loss: 9.0106e-05 - accuracy: 1.0000\n",
      "Epoch 42/50\n",
      "10/10 [==============================] - 0s 13ms/step - loss: 8.3841e-05 - accuracy: 1.0000\n",
      "Epoch 43/50\n",
      "10/10 [==============================] - 0s 14ms/step - loss: 7.9251e-05 - accuracy: 1.0000\n",
      "Epoch 44/50\n",
      "10/10 [==============================] - 0s 14ms/step - loss: 8.5315e-05 - accuracy: 1.0000\n",
      "Epoch 45/50\n",
      "10/10 [==============================] - 0s 13ms/step - loss: 7.7782e-05 - accuracy: 1.0000\n",
      "Epoch 46/50\n",
      "10/10 [==============================] - 0s 13ms/step - loss: 6.9647e-05 - accuracy: 1.0000\n",
      "Epoch 47/50\n",
      "10/10 [==============================] - 0s 13ms/step - loss: 7.6029e-05 - accuracy: 1.0000\n",
      "Epoch 48/50\n",
      "10/10 [==============================] - 0s 14ms/step - loss: 6.4755e-05 - accuracy: 1.0000\n",
      "Epoch 49/50\n",
      "10/10 [==============================] - 0s 14ms/step - loss: 6.0374e-05 - accuracy: 1.0000\n",
      "Epoch 50/50\n",
      "10/10 [==============================] - 0s 14ms/step - loss: 7.7591e-05 - accuracy: 1.0000\n"
     ]
    },
    {
     "data": {
      "text/plain": [
       "<tensorflow.python.keras.callbacks.History at 0x7f227c120150>"
      ]
     },
     "execution_count": 45,
     "metadata": {},
     "output_type": "execute_result"
    }
   ],
   "source": [
    "import tensorflow as tf\n",
    "from tensorflow import keras\n",
    "import numpy as np\n",
    "\n",
    "n_channel_1 = 303\n",
    "n_channel_2 = 303\n",
    "n_dense = 50\n",
    "\n",
    "model=keras.models.Sequential()\n",
    "model.add(keras.layers.Conv2D(n_channel_1, (3,3), activation='relu', input_shape=(28,28,3)))\n",
    "#3n_channel_1 : 얼마나 다양한 이미지의 특징을 살펴 볼 건지\n",
    "#input_shape : 입력 이미지의 형태\n",
    "model.add(keras.layers.MaxPool2D(2,2))\n",
    "model.add(keras.layers.Conv2D(n_channel_2 , (3,3), activation='relu'))\n",
    "#n_channel_2 : 얼마나 다양한 이미지의 특징을 살펴 볼 건지\n",
    "model.add(keras.layers.MaxPooling2D((2,2)))\n",
    "model.add(keras.layers.Flatten())\n",
    "model.add(keras.layers.Dense(n_dense, activation='relu'))\n",
    "#n_dense : 분류가 알고리즘을 얼마나 복잡하게 할 것인지(복잡한 문제일수록 해당 수를 늘려보기)\n",
    "model.add(keras.layers.Dense(3, activation='softmax'))\n",
    "#3 : 여기서는 0~2까지 총 3개의 class를 구분하니까 3이 됨.\n",
    "\n",
    "model.summary()\n",
    "\n",
    "model.compile(optimizer='adam',\n",
    "             loss='sparse_categorical_crossentropy',\n",
    "             metrics=['accuracy'])\n",
    "\n",
    "model.fit(x_train_norm, y_train, epochs = 50)\n"
   ]
  },
  {
   "cell_type": "code",
   "execution_count": 38,
   "id": "internal-morgan",
   "metadata": {
    "scrolled": false
   },
   "outputs": [
    {
     "name": "stdout",
     "output_type": "stream",
     "text": [
      "102 images to be resized.\n",
      "102  images resized.\n",
      "scissor test images resizing completed\n",
      "101 images to be resized.\n",
      "101  images resized.\n",
      "rock test images resizing completed\n",
      "102 images to be resized.\n",
      "102  images resized.\n",
      "paper test images resizing completed\n",
      "학습데이터(x_test)의 이미지 개수는 305 입니다.\n",
      "x_test shape: (305, 28, 28, 3)\n",
      "y_test shape: (305,)\n",
      "label : 0\n"
     ]
    },
    {
     "data": {
      "image/png": "[encoded data removed]",
      "text/plain": [
       "<Figure size 432x288 with 1 Axes>"
      ]
     },
     "metadata": {
      "needs_background": "light"
     },
     "output_type": "display_data"
    }
   ],
   "source": [
    "scissor_test_img_dir_path = os.getenv(\"HOME\") + \"/aiffel/aiffel_project/rock_scissor_paper/test/scissor\"\n",
    "resize_images(scissor_test_img_dir_path)\n",
    "print(\"scissor test images resizing completed\")\n",
    "\n",
    "rock_test_img_dir_path = os.getenv(\"HOME\") + \"/aiffel/aiffel_project/rock_scissor_paper/test/rock\"\n",
    "resize_images(rock_test_img_dir_path)\n",
    "print(\"rock test images resizing completed\")\n",
    "\n",
    "paper_test_img_dir_path = os.getenv(\"HOME\") + \"/aiffel/aiffel_project/rock_scissor_paper/test/paper\"\n",
    "resize_images(paper_test_img_dir_path)\n",
    "print(\"paper test images resizing completed\")\n",
    "\n",
    "test_image_dir_path = os.getenv(\"HOME\") + \"/aiffel/aiffel_project/rock_scissor_paper/test\"\n",
    "(x_test, y_test)=load_data(test_image_dir_path, number_of_data = 305, data_type = 'x_test')\n",
    "x_test_norm = x_test/255.0   # 입력은 0~1 사이의 값으로 정규화\n",
    "\n",
    "print(\"x_test shape: {}\".format(x_test.shape))\n",
    "print(\"y_test shape: {}\".format(y_test.shape))\n",
    "\n",
    "plt.imshow(x_test[0])\n",
    "print('label :', y_test[0])"
   ]
  },
  {
   "cell_type": "code",
   "execution_count": 39,
   "id": "surrounded-edition",
   "metadata": {
    "scrolled": true
   },
   "outputs": [
    {
     "name": "stdout",
     "output_type": "stream",
     "text": [
      "10/10 - 0s - loss: 2.3437 - accuracy: 0.4623\n",
      "test_loss: 2.343651533126831 \n",
      "test_accuracy: 0.4622950851917267\n"
     ]
    }
   ],
   "source": [
    "# 모델 시험\n",
    "test_loss, test_accuracy = model.evaluate(x_test_norm, y_test, verbose=2)\n",
    "print(\"test_loss: {} \".format(test_loss))\n",
    "print(\"test_accuracy: {}\".format(test_accuracy))"
   ]
  },
  {
   "cell_type": "code",
   "execution_count": 41,
   "id": "provincial-yahoo",
   "metadata": {},
   "outputs": [
    {
     "name": "stdout",
     "output_type": "stream",
     "text": [
      "111 images to be resized.\n",
      "111  images resized.\n",
      "scissor test images resizing completed\n",
      "122 images to be resized.\n",
      "122  images resized.\n",
      "rock test images resizing completed\n",
      "117 images to be resized.\n",
      "117  images resized.\n",
      "paper test images resizing completed\n",
      "학습데이터(x_test_2)의 이미지 개수는 350 입니다.\n",
      "x_test2 shape: (350, 28, 28, 3)\n",
      "y_test2 shape: (350,)\n",
      "label : 0\n"
     ]
    },
    {
     "data": {
      "image/png": "[encoded data removed]",
      "text/plain": [
       "<Figure size 432x288 with 1 Axes>"
      ]
     },
     "metadata": {
      "needs_background": "light"
     },
     "output_type": "display_data"
    }
   ],
   "source": [
    "scissor_test2_img_dir_path = os.getenv(\"HOME\") + \"/aiffel/aiffel_project/rock_scissor_paper/test1/scissor\"\n",
    "resize_images(scissor_test2_img_dir_path)\n",
    "print(\"scissor test images resizing completed\")\n",
    "\n",
    "rock_test2_img_dir_path = os.getenv(\"HOME\") + \"/aiffel/aiffel_project/rock_scissor_paper/test1/rock\"\n",
    "resize_images(rock_test2_img_dir_path)\n",
    "print(\"rock test images resizing completed\")\n",
    "\n",
    "paper_test2_img_dir_path = os.getenv(\"HOME\") + \"/aiffel/aiffel_project/rock_scissor_paper/test1/paper\"\n",
    "resize_images(paper_test2_img_dir_path)\n",
    "print(\"paper test images resizing completed\")\n",
    "\n",
    "test2_image_dir_path = os.getenv(\"HOME\") + \"/aiffel/aiffel_project/rock_scissor_paper/test1\"\n",
    "(x_test2, y_test2)=load_data(test2_image_dir_path, number_of_data = 350, data_type = 'x_test_2')\n",
    "x_test2_norm = x_test2/255.0   # 입력은 0~1 사이의 값으로 정규화\n",
    "\n",
    "print(\"x_test2 shape: {}\".format(x_test2.shape))\n",
    "print(\"y_test2 shape: {}\".format(y_test2.shape))\n",
    "\n",
    "plt.imshow(x_test2[0])\n",
    "print('label :', y_test2[0])"
   ]
  },
  {
   "cell_type": "code",
   "execution_count": 42,
   "id": "seventh-poster",
   "metadata": {},
   "outputs": [
    {
     "name": "stdout",
     "output_type": "stream",
     "text": [
      "11/11 - 1s - loss: 3.7487 - accuracy: 0.3914\n",
      "test_loss: 3.748676061630249 \n",
      "test_accuracy: 0.39142856001853943\n"
     ]
    }
   ],
   "source": [
    "# 모델 시험\n",
    "test_loss, test_accuracy = model.evaluate(x_test2_norm, y_test2, verbose=2)\n",
    "print(\"test_loss: {} \".format(test_loss))\n",
    "print(\"test_accuracy: {}\".format(test_accuracy))"
   ]
  },
  {
   "cell_type": "code",
   "execution_count": 47,
   "id": "freelance-marshall",
   "metadata": {},
   "outputs": [
    {
     "name": "stdout",
     "output_type": "stream",
     "text": [
      "1427 images to be resized.\n",
      "1427  images resized.\n",
      "scissor test images resizing completed\n",
      "1432 images to be resized.\n",
      "1432  images resized.\n",
      "rock test images resizing completed\n",
      "1427 images to be resized.\n",
      "1427  images resized.\n",
      "paper test images resizing completed\n",
      "학습데이터(x_test)의 이미지 개수는 4286 입니다.\n",
      "x_test shape: (4286, 28, 28, 3)\n",
      "y_test shape: (4286,)\n",
      "label : 0\n"
     ]
    },
    {
     "data": {
      "image/png": "[encoded data removed]",
      "text/plain": [
       "<Figure size 432x288 with 1 Axes>"
      ]
     },
     "metadata": {
      "needs_background": "light"
     },
     "output_type": "display_data"
    }
   ],
   "source": [
    "scissor_test_img_dir_path = os.getenv(\"HOME\") + \"/aiffel/aiffel_project/rock_scissor_paper/TEST/scissor\"\n",
    "resize_images(scissor_test_img_dir_path)\n",
    "print(\"scissor test images resizing completed\")\n",
    "\n",
    "rock_test_img_dir_path = os.getenv(\"HOME\") + \"/aiffel/aiffel_project/rock_scissor_paper/TEST/rock\"\n",
    "resize_images(rock_test_img_dir_path)\n",
    "print(\"rock test images resizing completed\")\n",
    "\n",
    "paper_test_img_dir_path = os.getenv(\"HOME\") + \"/aiffel/aiffel_project/rock_scissor_paper/TEST/paper\"\n",
    "resize_images(paper_test_img_dir_path)\n",
    "print(\"paper test images resizing completed\")\n",
    "\n",
    "test_image_dir_path = os.getenv(\"HOME\") + \"/aiffel/aiffel_project/rock_scissor_paper/TEST\"\n",
    "(x_test, y_test)=load_data(test_image_dir_path, number_of_data = 4286, data_type = 'x_test')\n",
    "x_test_norm = x_test/255.0   # 입력은 0~1 사이의 값으로 정규화\n",
    "\n",
    "print(\"x_test shape: {}\".format(x_test.shape))\n",
    "print(\"y_test shape: {}\".format(y_test.shape))\n",
    "\n",
    "plt.imshow(x_test[0])\n",
    "print('label :', y_test[0])"
   ]
  },
  {
   "cell_type": "code",
   "execution_count": 48,
   "id": "republican-carnival",
   "metadata": {},
   "outputs": [
    {
     "name": "stdout",
     "output_type": "stream",
     "text": [
      "134/134 - 1s - loss: 5.3140 - accuracy: 0.3474\n",
      "test_loss: 5.313973903656006 \n",
      "test_accuracy: 0.3474101722240448\n"
     ]
    }
   ],
   "source": [
    "# 모델 시험\n",
    "test_loss, test_accuracy = model.evaluate(x_test_norm, y_test, verbose=2)\n",
    "print(\"test_loss: {} \".format(test_loss))\n",
    "print(\"test_accuracy: {}\".format(test_accuracy))"
   ]
  },
  {
   "cell_type": "code",
   "execution_count": 50,
   "id": "annual-macro",
   "metadata": {},
   "outputs": [
    {
     "name": "stdout",
     "output_type": "stream",
     "text": [
      "1427 images to be resized.\n",
      "1427  images resized.\n",
      "scissor images resizing completed\n",
      "1432 images to be resized.\n",
      "1432  images resized.\n",
      "rock images resizing completed\n",
      "1427 images to be resized.\n",
      "1427  images resized.\n",
      "paper images resizing completed\n",
      "학습데이터(x_train)의 이미지 개수는 4286 입니다.\n",
      "x_train shape: (4286, 28, 28, 3)\n",
      "y_train shape: (4286,)\n",
      "label : 0\n"
     ]
    },
    {
     "data": {
      "image/png": "[encoded data removed]",
      "text/plain": [
       "<Figure size 432x288 with 1 Axes>"
      ]
     },
     "metadata": {
      "needs_background": "light"
     },
     "output_type": "display_data"
    }
   ],
   "source": [
    "scissor_img_dir_path = os.getenv(\"HOME\") + \"/aiffel/aiffel_project/rock_scissor_paper/TEST/scissor\"\n",
    "resize_images(scissor_img_dir_path)\n",
    "print(\"scissor images resizing completed\")\n",
    "\n",
    "rock_img_dir_path = os.getenv(\"HOME\") + \"/aiffel/aiffel_project/rock_scissor_paper/TEST/rock\"\n",
    "resize_images(rock_img_dir_path)\n",
    "print(\"rock images resizing completed\")\n",
    "\n",
    "\n",
    "paper_img_dir_path = os.getenv(\"HOME\") + \"/aiffel/aiffel_project/rock_scissor_paper/TEST/paper\"\n",
    "resize_images(paper_img_dir_path)\n",
    "print(\"paper images resizing completed\")\n",
    "\n",
    "\n",
    "image_dir_path = os.getenv(\"HOME\") + \"/aiffel/aiffel_project/rock_scissor_paper/TEST\"\n",
    "(x_train, y_train)=load_data(image_dir_path, number_of_data = 4286, data_type = 'x_train')\n",
    "x_train_norm = x_train/255.0   # 입력은 0~1 사이의 값으로 정규화\n",
    "\n",
    "print(\"x_train shape: {}\".format(x_train.shape))\n",
    "print(\"y_train shape: {}\".format(y_train.shape))\n",
    "\n",
    "plt.imshow(x_train[0])\n",
    "print('label :', y_train[0])"
   ]
  },
  {
   "cell_type": "code",
   "execution_count": 53,
   "id": "bound-reggae",
   "metadata": {},
   "outputs": [
    {
     "name": "stdout",
     "output_type": "stream",
     "text": [
      "label : 1\n"
     ]
    },
    {
     "data": {
      "image/png": "[encoded data removed]",
      "text/plain": [
       "<Figure size 432x288 with 1 Axes>"
      ]
     },
     "metadata": {
      "needs_background": "light"
     },
     "output_type": "display_data"
    }
   ],
   "source": [
    "plt.imshow(x_train[2000])\n",
    "print('label :', y_train[2000])"
   ]
  },
  {
   "cell_type": "code",
   "execution_count": 55,
   "id": "heated-clinic",
   "metadata": {},
   "outputs": [
    {
     "name": "stdout",
     "output_type": "stream",
     "text": [
      "Model: \"sequential_7\"\n",
      "_________________________________________________________________\n",
      "Layer (type)                 Output Shape              Param #   \n",
      "=================================================================\n",
      "conv2d_14 (Conv2D)           (None, 26, 26, 4286)      120008    \n",
      "_________________________________________________________________\n",
      "max_pooling2d_14 (MaxPooling (None, 13, 13, 4286)      0         \n",
      "_________________________________________________________________\n",
      "conv2d_15 (Conv2D)           (None, 11, 11, 4286)      165332450 \n",
      "_________________________________________________________________\n",
      "max_pooling2d_15 (MaxPooling (None, 5, 5, 4286)        0         \n",
      "_________________________________________________________________\n",
      "flatten_7 (Flatten)          (None, 107150)            0         \n",
      "_________________________________________________________________\n",
      "dense_14 (Dense)             (None, 50)                5357550   \n",
      "_________________________________________________________________\n",
      "dense_15 (Dense)             (None, 3)                 153       \n",
      "=================================================================\n",
      "Total params: 170,810,161\n",
      "Trainable params: 170,810,161\n",
      "Non-trainable params: 0\n",
      "_________________________________________________________________\n",
      "Epoch 1/10\n",
      "134/134 [==============================] - 363s 3s/step - loss: 1.8383 - accuracy: 0.3206\n",
      "Epoch 2/10\n",
      "134/134 [==============================] - 361s 3s/step - loss: 1.0987 - accuracy: 0.3243\n",
      "Epoch 3/10\n",
      "134/134 [==============================] - 361s 3s/step - loss: 1.0986 - accuracy: 0.3399\n",
      "Epoch 4/10\n",
      "134/134 [==============================] - 361s 3s/step - loss: 1.0987 - accuracy: 0.3210\n",
      "Epoch 5/10\n",
      "134/134 [==============================] - 361s 3s/step - loss: 1.0987 - accuracy: 0.3276\n",
      "Epoch 6/10\n",
      "134/134 [==============================] - 361s 3s/step - loss: 1.0986 - accuracy: 0.3307\n",
      "Epoch 7/10\n",
      "134/134 [==============================] - 361s 3s/step - loss: 1.0987 - accuracy: 0.3229\n",
      "Epoch 8/10\n",
      "134/134 [==============================] - 361s 3s/step - loss: 1.0987 - accuracy: 0.3295\n",
      "Epoch 9/10\n",
      "134/134 [==============================] - 361s 3s/step - loss: 1.0987 - accuracy: 0.3193\n",
      "Epoch 10/10\n",
      "134/134 [==============================] - 361s 3s/step - loss: 1.0987 - accuracy: 0.3313\n"
     ]
    },
    {
     "data": {
      "text/plain": [
       "<tensorflow.python.keras.callbacks.History at 0x7f22676021d0>"
      ]
     },
     "execution_count": 55,
     "metadata": {},
     "output_type": "execute_result"
    }
   ],
   "source": [
    "import tensorflow as tf\n",
    "from tensorflow import keras\n",
    "import numpy as np\n",
    "\n",
    "n_channel_1 = 4286\n",
    "n_channel_2 = 4286\n",
    "n_dense = 50\n",
    "\n",
    "model=keras.models.Sequential()\n",
    "model.add(keras.layers.Conv2D(n_channel_1, (3,3), activation='relu', input_shape=(28,28,3)))\n",
    "#3n_channel_1 : 얼마나 다양한 이미지의 특징을 살펴 볼 건지\n",
    "#input_shape : 입력 이미지의 형태\n",
    "model.add(keras.layers.MaxPool2D(2,2))\n",
    "model.add(keras.layers.Conv2D(n_channel_2 , (3,3), activation='relu'))\n",
    "#n_channel_2 : 얼마나 다양한 이미지의 특징을 살펴 볼 건지\n",
    "model.add(keras.layers.MaxPooling2D((2,2)))\n",
    "model.add(keras.layers.Flatten())\n",
    "model.add(keras.layers.Dense(n_dense, activation='relu'))\n",
    "#n_dense : 분류가 알고리즘을 얼마나 복잡하게 할 것인지(복잡한 문제일수록 해당 수를 늘려보기)\n",
    "model.add(keras.layers.Dense(3, activation='softmax'))\n",
    "#3 : 여기서는 0~2까지 총 3개의 class를 구분하니까 3이 됨.\n",
    "\n",
    "model.summary()\n",
    "\n",
    "model.compile(optimizer='adam',\n",
    "             loss='sparse_categorical_crossentropy',\n",
    "             metrics=['accuracy'])\n",
    "\n",
    "model.fit(x_train_norm, y_train, epochs = 10)"
   ]
  },
  {
   "cell_type": "code",
   "execution_count": 64,
   "id": "statistical-acting",
   "metadata": {},
   "outputs": [
    {
     "name": "stdout",
     "output_type": "stream",
     "text": [
      "101 images to be resized.\n",
      "101  images resized.\n",
      "scissor test images resizing completed\n",
      "101 images to be resized.\n",
      "101  images resized.\n",
      "rock test images resizing completed\n",
      "101 images to be resized.\n",
      "101  images resized.\n",
      "paper test images resizing completed\n",
      "학습데이터(x_test)의 이미지 개수는 303 입니다.\n",
      "x_test shape: (305, 28, 28, 3)\n",
      "y_test shape: (305,)\n",
      "label : 1\n"
     ]
    },
    {
     "data": {
      "image/png": "[encoded data removed]",
      "text/plain": [
       "<Figure size 432x288 with 1 Axes>"
      ]
     },
     "metadata": {
      "needs_background": "light"
     },
     "output_type": "display_data"
    }
   ],
   "source": [
    "scissor_test_img_dir_path = os.getenv(\"HOME\") + \"/aiffel/aiffel_project/rock_scissor_paper/scissor\"\n",
    "resize_images(scissor_test_img_dir_path)\n",
    "print(\"scissor test images resizing completed\")\n",
    "\n",
    "rock_test_img_dir_path = os.getenv(\"HOME\") + \"/aiffel/aiffel_project/rock_scissor_paper/rock\"\n",
    "resize_images(rock_test_img_dir_path)\n",
    "print(\"rock test images resizing completed\")\n",
    "\n",
    "paper_test_img_dir_path = os.getenv(\"HOME\") + \"/aiffel/aiffel_project/rock_scissor_paper/paper\"\n",
    "resize_images(paper_test_img_dir_path)\n",
    "print(\"paper test images resizing completed\")\n",
    "\n",
    "test_image_dir_path = os.getenv(\"HOME\") + \"/aiffel/aiffel_project/rock_scissor_paper\"\n",
    "(x_test, y_test)=load_data(test_image_dir_path, number_of_data = 305, data_type = 'x_test')\n",
    "x_test_norm = x_test/255.0   # 입력은 0~1 사이의 값으로 정규화\n",
    "\n",
    "print(\"x_test shape: {}\".format(x_test.shape))\n",
    "print(\"y_test shape: {}\".format(y_test.shape))\n",
    "\n",
    "plt.imshow(x_test[200])\n",
    "print('label :', y_test[200])"
   ]
  },
  {
   "cell_type": "code",
   "execution_count": 65,
   "id": "fleet-plant",
   "metadata": {},
   "outputs": [
    {
     "name": "stdout",
     "output_type": "stream",
     "text": [
      "10/10 - 10s - loss: 1.0986 - accuracy: 0.3311\n",
      "test_loss: 1.0986335277557373 \n",
      "test_accuracy: 0.33114755153656006\n"
     ]
    }
   ],
   "source": [
    "# 모델 시험\n",
    "test_loss, test_accuracy = model.evaluate(x_test_norm, y_test, verbose=2)\n",
    "print(\"test_loss: {} \".format(test_loss))\n",
    "print(\"test_accuracy: {}\".format(test_accuracy))"
   ]
  },
  {
   "cell_type": "code",
   "execution_count": null,
   "id": "noticed-transaction",
   "metadata": {},
   "outputs": [],
   "source": []
  }
 ],
 "metadata": {
  "kernelspec": {
   "display_name": "Python 3",
   "language": "python",
   "name": "python3"
  },
  "language_info": {
   "codemirror_mode": {
    "name": "ipython",
    "version": 3
   },
   "file_extension": ".py",
   "mimetype": "text/x-python",
   "name": "python",
   "nbconvert_exporter": "python",
   "pygments_lexer": "ipython3",
   "version": "3.7.9"
  }
 },
 "nbformat": 4,
 "nbformat_minor": 5
}
